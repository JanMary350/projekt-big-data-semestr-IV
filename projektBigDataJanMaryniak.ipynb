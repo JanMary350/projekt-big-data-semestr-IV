{
 "cells": [
  {
   "cell_type": "code",
   "execution_count": 34,
   "metadata": {
    "collapsed": true
   },
   "outputs": [],
   "source": [
    "import pandas as pd\n",
    "from sklearn.ensemble import RandomForestClassifier\n",
    "from sklearn.model_selection import train_test_split\n",
    "from sklearn.preprocessing import StandardScaler\n",
    "from sklearn.metrics import accuracy_score\n",
    "from sklearn.metrics import confusion_matrix\n",
    "from sklearn.dummy import DummyClassifier\n",
    "import tensorflow as tf\n",
    "from sklearn.svm import SVC\n",
    "from imblearn.over_sampling import SMOTE"
   ]
  },
  {
   "cell_type": "code",
   "execution_count": 35,
   "outputs": [],
   "source": [
    "\"\"\"Tworzę nową rankę danych z różnicami między parami (różnica wieku, rasy, jak ważna dla ankietowanej osoby jest wspólna rasa,\n",
    "różnice w ocenie oraz oczekiwaniach atrakcyjności, szczerości, inteligencji, dowcipu, ambicji, wspólnych zainteresowań,\n",
    "orelacja wspólnych zainteresowań - dane możliwe do uzyskania podczas ankiety przed randką\"\"\"\n",
    "df = pd.read_csv('speeddating.csv')\n",
    "new_df = pd.DataFrame()\n",
    "new_data_list = []\n",
    "for row in df.itertuples():\n",
    "\n",
    "    difference_age = row[6]\n",
    "    difference_race = row[10]\n",
    "    importance_same_race = row[11]\n",
    "    difference_attractive_imporatance = abs(row[16]-row[40])\n",
    "    difference_sincere_imporatance = abs(row[17]-row[41])\n",
    "    difference_intelligence_imporatance = abs(row[18]-row[42])\n",
    "    difference_funny_imporatance = abs(row[19]-row[43])\n",
    "    difference_ambition_imporatance = abs(row[20]-row[44])\n",
    "    difference_shared_interests_imporatance = abs(row[21]-row[45])\n",
    "    attractive_difference = abs(row[28] - row[52])\n",
    "    sinsere_difference = abs(row[29] - row[53])\n",
    "    intelligence_difference = abs(row[30] - row[54])\n",
    "    funny_difference = abs(row[31] - row[55])\n",
    "    ambitous_difference = abs(row[32] - row[56])\n",
    "    interests_correlation = row[108]\n",
    "    target = row[123]\n",
    "\n",
    "    new_data = {\n",
    "        'difference_age': difference_age,\n",
    "        'difference_race': difference_race,\n",
    "        'importance_same_race': importance_same_race,\n",
    "        'difference_attractive_imporatance': difference_attractive_imporatance,\n",
    "        'difference_sincere_imporatance': difference_sincere_imporatance,\n",
    "        'difference_intelligence_imporatance': difference_intelligence_imporatance,\n",
    "        'difference_funny_imporatance': difference_funny_imporatance,\n",
    "        'difference_ambition_imporatance': difference_ambition_imporatance,\n",
    "        'difference_shared_interests_imporatance': difference_shared_interests_imporatance,\n",
    "        'attractive_difference': attractive_difference,\n",
    "        'sinsere_difference': sinsere_difference,\n",
    "        'intelligence_difference': intelligence_difference,\n",
    "        'funny_difference': funny_difference,\n",
    "        'ambitous_difference': ambitous_difference,\n",
    "        'interests_correlation': interests_correlation,\n",
    "        'target': target\n",
    "    }\n",
    "    new_data_list.append(new_data)\n",
    "\n",
    "new_df = pd.DataFrame(new_data_list)\n",
    "new_df.to_csv('df_differences.csv', index=False)"
   ],
   "metadata": {
    "collapsed": false
   }
  },
  {
   "cell_type": "code",
   "execution_count": 36,
   "outputs": [
    {
     "data": {
      "text/plain": "'Sprawdzę jak wyglądają dane'"
     },
     "execution_count": 36,
     "metadata": {},
     "output_type": "execute_result"
    }
   ],
   "source": [
    "\"\"\"Sprawdzę jak wyglądają dane\"\"\""
   ],
   "metadata": {
    "collapsed": false
   }
  },
  {
   "cell_type": "code",
   "execution_count": 37,
   "outputs": [
    {
     "name": "stdout",
     "output_type": "stream",
     "text": [
      "<class 'pandas.core.frame.DataFrame'>\n",
      "RangeIndex: 8378 entries, 0 to 8377\n",
      "Data columns (total 16 columns):\n",
      " #   Column                                   Non-Null Count  Dtype  \n",
      "---  ------                                   --------------  -----  \n",
      " 0   difference_age                           8378 non-null   float64\n",
      " 1   difference_race                          8378 non-null   int64  \n",
      " 2   importance_same_race                     8299 non-null   float64\n",
      " 3   difference_attractive_imporatance        8210 non-null   float64\n",
      " 4   difference_sincere_imporatance           8210 non-null   float64\n",
      " 5   difference_intelligence_imporatance      8210 non-null   float64\n",
      " 6   difference_funny_imporatance             8192 non-null   float64\n",
      " 7   difference_ambition_imporatance          8174 non-null   float64\n",
      " 8   difference_shared_interests_imporatance  8130 non-null   float64\n",
      " 9   attractive_difference                    8069 non-null   float64\n",
      " 10  sinsere_difference                       7997 non-null   float64\n",
      " 11  intelligence_difference                  7978 non-null   float64\n",
      " 12  funny_difference                         7923 non-null   float64\n",
      " 13  ambitous_difference                      7563 non-null   float64\n",
      " 14  interests_correlation                    8220 non-null   float64\n",
      " 15  target                                   8378 non-null   int64  \n",
      "dtypes: float64(14), int64(2)\n",
      "memory usage: 1.0 MB\n",
      "<class 'pandas.core.frame.DataFrame'>\n",
      "Index: 7318 entries, 0 to 8377\n",
      "Data columns (total 16 columns):\n",
      " #   Column                                   Non-Null Count  Dtype  \n",
      "---  ------                                   --------------  -----  \n",
      " 0   difference_age                           7318 non-null   float64\n",
      " 1   difference_race                          7318 non-null   int64  \n",
      " 2   importance_same_race                     7318 non-null   float64\n",
      " 3   difference_attractive_imporatance        7318 non-null   float64\n",
      " 4   difference_sincere_imporatance           7318 non-null   float64\n",
      " 5   difference_intelligence_imporatance      7318 non-null   float64\n",
      " 6   difference_funny_imporatance             7318 non-null   float64\n",
      " 7   difference_ambition_imporatance          7318 non-null   float64\n",
      " 8   difference_shared_interests_imporatance  7318 non-null   float64\n",
      " 9   attractive_difference                    7318 non-null   float64\n",
      " 10  sinsere_difference                       7318 non-null   float64\n",
      " 11  intelligence_difference                  7318 non-null   float64\n",
      " 12  funny_difference                         7318 non-null   float64\n",
      " 13  ambitous_difference                      7318 non-null   float64\n",
      " 14  interests_correlation                    7318 non-null   float64\n",
      " 15  target                                   7318 non-null   int64  \n",
      "dtypes: float64(14), int64(2)\n",
      "memory usage: 971.9 KB\n"
     ]
    }
   ],
   "source": [
    "new_df.head()\n",
    "new_df.describe()\n",
    "new_df.info()\n",
    "new_df.isnull().sum()\n",
    "new_df.dropna(inplace=True)\n",
    "new_df.info()"
   ],
   "metadata": {
    "collapsed": false
   }
  },
  {
   "cell_type": "code",
   "execution_count": 38,
   "outputs": [
    {
     "data": {
      "text/plain": "'Tworzę pierwszy model - las losowy'"
     },
     "execution_count": 38,
     "metadata": {},
     "output_type": "execute_result"
    }
   ],
   "source": [
    "\"\"\"Tworzę pierwszy model - las losowy\"\"\""
   ],
   "metadata": {
    "collapsed": false
   }
  },
  {
   "cell_type": "code",
   "execution_count": 39,
   "outputs": [
    {
     "name": "stdout",
     "output_type": "stream",
     "text": [
      "accuracy:  0.8497267759562842\n"
     ]
    }
   ],
   "source": [
    "X_train, X_test, y_train, y_test = train_test_split(new_df.drop('target', axis=1), new_df['target'], test_size=0.15)\n",
    "model = RandomForestClassifier(n_estimators=100, max_depth=10)\n",
    "model.fit(X_train, y_train)\n",
    "y_pred = model.predict(X_test)\n",
    "print(\"accuracy: \", accuracy_score(y_test, y_pred))"
   ],
   "metadata": {
    "collapsed": false
   }
  },
  {
   "cell_type": "code",
   "execution_count": 40,
   "outputs": [
    {
     "data": {
      "text/plain": "'Dla podanego modelu accuracy wyniosło >0.80, sprawdzę macierz pomyłek'"
     },
     "execution_count": 40,
     "metadata": {},
     "output_type": "execute_result"
    }
   ],
   "source": [
    "\"\"\"Dla podanego modelu accuracy wyniosło >0.80, sprawdzę macierz pomyłek\"\"\""
   ],
   "metadata": {
    "collapsed": false
   }
  },
  {
   "cell_type": "code",
   "execution_count": 41,
   "outputs": [
    {
     "name": "stdout",
     "output_type": "stream",
     "text": [
      "[[933   0]\n",
      " [165   0]]\n"
     ]
    }
   ],
   "source": [
    "print(confusion_matrix(y_test, y_pred))"
   ],
   "metadata": {
    "collapsed": false
   }
  },
  {
   "cell_type": "code",
   "execution_count": 42,
   "outputs": [
    {
     "data": {
      "text/plain": "'znalazł odpowiednią osobę'"
     },
     "execution_count": 42,
     "metadata": {},
     "output_type": "execute_result"
    }
   ],
   "source": [
    "\"\"\"Jak widać, wynik modelu jest \"napompowany\" wynikami negatywnymi, nie umie wskazać pozytywnych randek\"\"\"\n",
    "\"to pokazuje że accuracy NIE POWINNO być używane do oceny modeli - uczestnik nigdy nie dostanie propozycji randki\"\n",
    "\"dla oceny poniższych modeli najważniejsza przyjętą miarą będzie stosunek w ilości sytuacji gdzie model nadał etykietę\"\n",
    "\"1 dla danej testowej w której wynikiem faktycznie było 1 do ilości wszystkich danych w których model nadał etykietę 1\"\n",
    "\"-chodzi o proponowanie ludziom w pierwszej kolejności takich randek które mają szanse powodzenia i by użytkownik jak najszybciej\"\n",
    "\"znalazł odpowiednią osobę\""
   ],
   "metadata": {
    "collapsed": false
   }
  },
  {
   "cell_type": "code",
   "execution_count": 43,
   "outputs": [
    {
     "name": "stdout",
     "output_type": "stream",
     "text": [
      "_____________________\n",
      "proba:  6   4\n",
      "confusion matrix: \n",
      "[[921   3]\n",
      " [167   7]]\n",
      "prawdziwych pozytywnych w stosunku do wszystkich pozytywnych:  0.7\n",
      "_____________________\n",
      "_____________________\n",
      "_____________________\n",
      "proba:  6   5\n",
      "confusion matrix: \n",
      "[[921   3]\n",
      " [167   7]]\n",
      "prawdziwych pozytywnych w stosunku do wszystkich pozytywnych:  0.7\n",
      "_____________________\n",
      "_____________________\n",
      "_____________________\n",
      "proba:  6   6\n",
      "confusion matrix: \n",
      "[[918   6]\n",
      " [171   3]]\n",
      "prawdziwych pozytywnych w stosunku do wszystkich pozytywnych:  0.3333333333333333\n",
      "_____________________\n",
      "_____________________\n",
      "_____________________\n",
      "proba:  6   7\n",
      "confusion matrix: \n",
      "[[923   1]\n",
      " [169   5]]\n",
      "prawdziwych pozytywnych w stosunku do wszystkich pozytywnych:  0.8333333333333334\n",
      "_____________________\n",
      "_____________________\n",
      "_____________________\n",
      "proba:  6   8\n",
      "confusion matrix: \n",
      "[[919   5]\n",
      " [168   6]]\n",
      "prawdziwych pozytywnych w stosunku do wszystkich pozytywnych:  0.5454545454545454\n",
      "_____________________\n",
      "_____________________\n",
      "_____________________\n",
      "proba:  6   9\n",
      "confusion matrix: \n",
      "[[920   4]\n",
      " [170   4]]\n",
      "prawdziwych pozytywnych w stosunku do wszystkich pozytywnych:  0.5\n",
      "_____________________\n",
      "_____________________\n",
      "_____________________\n",
      "proba:  7   1\n",
      "confusion matrix: \n",
      "[[924   0]\n",
      " [172   2]]\n",
      "prawdziwych pozytywnych w stosunku do wszystkich pozytywnych:  1.0\n",
      "_____________________\n",
      "_____________________\n",
      "_____________________\n",
      "proba:  7   2\n",
      "confusion matrix: \n",
      "[[921   3]\n",
      " [167   7]]\n",
      "prawdziwych pozytywnych w stosunku do wszystkich pozytywnych:  0.7\n",
      "_____________________\n",
      "_____________________\n",
      "_____________________\n",
      "proba:  7   3\n",
      "confusion matrix: \n",
      "[[920   4]\n",
      " [165   9]]\n",
      "prawdziwych pozytywnych w stosunku do wszystkich pozytywnych:  0.6923076923076923\n",
      "_____________________\n",
      "_____________________\n",
      "_____________________\n",
      "proba:  7   4\n",
      "confusion matrix: \n",
      "[[924   0]\n",
      " [168   6]]\n",
      "prawdziwych pozytywnych w stosunku do wszystkich pozytywnych:  1.0\n",
      "_____________________\n",
      "_____________________\n",
      "_____________________\n",
      "proba:  7   5\n",
      "confusion matrix: \n",
      "[[919   5]\n",
      " [171   3]]\n",
      "prawdziwych pozytywnych w stosunku do wszystkich pozytywnych:  0.375\n",
      "_____________________\n",
      "_____________________\n",
      "_____________________\n",
      "proba:  7   6\n",
      "confusion matrix: \n",
      "[[920   4]\n",
      " [169   5]]\n",
      "prawdziwych pozytywnych w stosunku do wszystkich pozytywnych:  0.5555555555555556\n",
      "_____________________\n",
      "_____________________\n",
      "_____________________\n",
      "proba:  7   7\n",
      "confusion matrix: \n",
      "[[920   4]\n",
      " [169   5]]\n",
      "prawdziwych pozytywnych w stosunku do wszystkich pozytywnych:  0.5555555555555556\n",
      "_____________________\n",
      "_____________________\n",
      "_____________________\n",
      "proba:  7   8\n",
      "confusion matrix: \n",
      "[[921   3]\n",
      " [169   5]]\n",
      "prawdziwych pozytywnych w stosunku do wszystkich pozytywnych:  0.625\n",
      "_____________________\n",
      "_____________________\n",
      "_____________________\n",
      "proba:  7   9\n",
      "confusion matrix: \n",
      "[[921   3]\n",
      " [166   8]]\n",
      "prawdziwych pozytywnych w stosunku do wszystkich pozytywnych:  0.7272727272727273\n",
      "_____________________\n",
      "_____________________\n",
      "_____________________\n",
      "proba:  8   1\n",
      "confusion matrix: \n",
      "[[924   0]\n",
      " [172   2]]\n",
      "prawdziwych pozytywnych w stosunku do wszystkich pozytywnych:  1.0\n",
      "_____________________\n",
      "_____________________\n",
      "_____________________\n",
      "proba:  8   2\n",
      "confusion matrix: \n",
      "[[922   2]\n",
      " [165   9]]\n",
      "prawdziwych pozytywnych w stosunku do wszystkich pozytywnych:  0.8181818181818182\n",
      "_____________________\n",
      "_____________________\n",
      "_____________________\n",
      "proba:  8   3\n",
      "confusion matrix: \n",
      "[[921   3]\n",
      " [170   4]]\n",
      "prawdziwych pozytywnych w stosunku do wszystkich pozytywnych:  0.5714285714285714\n",
      "_____________________\n",
      "_____________________\n",
      "_____________________\n",
      "proba:  8   4\n",
      "confusion matrix: \n",
      "[[920   4]\n",
      " [169   5]]\n",
      "prawdziwych pozytywnych w stosunku do wszystkich pozytywnych:  0.5555555555555556\n",
      "_____________________\n",
      "_____________________\n",
      "_____________________\n",
      "proba:  8   5\n",
      "confusion matrix: \n",
      "[[921   3]\n",
      " [167   7]]\n",
      "prawdziwych pozytywnych w stosunku do wszystkich pozytywnych:  0.7\n",
      "_____________________\n",
      "_____________________\n",
      "_____________________\n",
      "proba:  8   6\n",
      "confusion matrix: \n",
      "[[922   2]\n",
      " [168   6]]\n",
      "prawdziwych pozytywnych w stosunku do wszystkich pozytywnych:  0.75\n",
      "_____________________\n",
      "_____________________\n",
      "_____________________\n",
      "proba:  8   7\n",
      "confusion matrix: \n",
      "[[921   3]\n",
      " [169   5]]\n",
      "prawdziwych pozytywnych w stosunku do wszystkich pozytywnych:  0.625\n",
      "_____________________\n",
      "_____________________\n",
      "_____________________\n",
      "proba:  8   8\n",
      "confusion matrix: \n",
      "[[923   1]\n",
      " [170   4]]\n",
      "prawdziwych pozytywnych w stosunku do wszystkich pozytywnych:  0.8\n",
      "_____________________\n",
      "_____________________\n",
      "_____________________\n",
      "proba:  8   9\n",
      "confusion matrix: \n",
      "[[922   2]\n",
      " [169   5]]\n",
      "prawdziwych pozytywnych w stosunku do wszystkich pozytywnych:  0.7142857142857143\n",
      "_____________________\n",
      "_____________________\n",
      "_____________________\n",
      "proba:  9   1\n",
      "confusion matrix: \n",
      "[[924   0]\n",
      " [173   1]]\n",
      "prawdziwych pozytywnych w stosunku do wszystkich pozytywnych:  1.0\n",
      "_____________________\n",
      "_____________________\n",
      "_____________________\n",
      "proba:  9   2\n",
      "confusion matrix: \n",
      "[[923   1]\n",
      " [168   6]]\n",
      "prawdziwych pozytywnych w stosunku do wszystkich pozytywnych:  0.8571428571428571\n",
      "_____________________\n",
      "_____________________\n",
      "_____________________\n",
      "proba:  9   3\n",
      "confusion matrix: \n",
      "[[922   2]\n",
      " [169   5]]\n",
      "prawdziwych pozytywnych w stosunku do wszystkich pozytywnych:  0.7142857142857143\n",
      "_____________________\n",
      "_____________________\n",
      "_____________________\n",
      "proba:  9   4\n",
      "confusion matrix: \n",
      "[[920   4]\n",
      " [170   4]]\n",
      "prawdziwych pozytywnych w stosunku do wszystkich pozytywnych:  0.5\n",
      "_____________________\n",
      "_____________________\n",
      "_____________________\n",
      "proba:  9   5\n",
      "confusion matrix: \n",
      "[[921   3]\n",
      " [165   9]]\n",
      "prawdziwych pozytywnych w stosunku do wszystkich pozytywnych:  0.75\n",
      "_____________________\n",
      "_____________________\n",
      "_____________________\n",
      "proba:  9   6\n",
      "confusion matrix: \n",
      "[[923   1]\n",
      " [169   5]]\n",
      "prawdziwych pozytywnych w stosunku do wszystkich pozytywnych:  0.8333333333333334\n",
      "_____________________\n",
      "_____________________\n",
      "_____________________\n",
      "proba:  9   7\n",
      "confusion matrix: \n",
      "[[920   4]\n",
      " [167   7]]\n",
      "prawdziwych pozytywnych w stosunku do wszystkich pozytywnych:  0.6363636363636364\n",
      "_____________________\n",
      "_____________________\n",
      "_____________________\n",
      "proba:  9   8\n",
      "confusion matrix: \n",
      "[[921   3]\n",
      " [167   7]]\n",
      "prawdziwych pozytywnych w stosunku do wszystkich pozytywnych:  0.7\n",
      "_____________________\n",
      "_____________________\n",
      "_____________________\n",
      "proba:  9   9\n",
      "confusion matrix: \n",
      "[[922   2]\n",
      " [169   5]]\n",
      "prawdziwych pozytywnych w stosunku do wszystkich pozytywnych:  0.7142857142857143\n",
      "_____________________\n",
      "_____________________\n",
      "_____________________\n",
      "proba:  1   1\n",
      "confusion matrix: \n",
      "[[929   4]\n",
      " [163   2]]\n",
      "prawdziwych pozytywnych w stosunku do wszystkich pozytywnych:  0.3333333333333333\n",
      "_____________________\n",
      "_____________________\n",
      "_____________________\n",
      "proba:  1   2\n",
      "confusion matrix: \n",
      "[[918  15]\n",
      " [157   8]]\n",
      "prawdziwych pozytywnych w stosunku do wszystkich pozytywnych:  0.34782608695652173\n",
      "_____________________\n",
      "_____________________\n",
      "_____________________\n",
      "proba:  1   3\n",
      "confusion matrix: \n",
      "[[924   9]\n",
      " [155  10]]\n",
      "prawdziwych pozytywnych w stosunku do wszystkich pozytywnych:  0.5263157894736842\n",
      "_____________________\n",
      "_____________________\n",
      "_____________________\n",
      "proba:  1   4\n",
      "confusion matrix: \n",
      "[[918  15]\n",
      " [151  14]]\n",
      "prawdziwych pozytywnych w stosunku do wszystkich pozytywnych:  0.4827586206896552\n",
      "_____________________\n",
      "_____________________\n",
      "_____________________\n",
      "proba:  1   5\n",
      "confusion matrix: \n",
      "[[920  13]\n",
      " [155  10]]\n",
      "prawdziwych pozytywnych w stosunku do wszystkich pozytywnych:  0.43478260869565216\n",
      "_____________________\n",
      "_____________________\n",
      "_____________________\n",
      "proba:  1   6\n",
      "confusion matrix: \n",
      "[[924   9]\n",
      " [156   9]]\n",
      "prawdziwych pozytywnych w stosunku do wszystkich pozytywnych:  0.5\n",
      "_____________________\n",
      "_____________________\n",
      "_____________________\n",
      "proba:  1   7\n",
      "confusion matrix: \n",
      "[[915  18]\n",
      " [149  16]]\n",
      "prawdziwych pozytywnych w stosunku do wszystkich pozytywnych:  0.47058823529411764\n",
      "_____________________\n",
      "_____________________\n",
      "_____________________\n",
      "proba:  1   8\n",
      "confusion matrix: \n",
      "[[906  27]\n",
      " [153  12]]\n",
      "prawdziwych pozytywnych w stosunku do wszystkich pozytywnych:  0.3076923076923077\n",
      "_____________________\n",
      "_____________________\n",
      "_____________________\n",
      "proba:  1   9\n",
      "confusion matrix: \n",
      "[[916  17]\n",
      " [152  13]]\n",
      "prawdziwych pozytywnych w stosunku do wszystkich pozytywnych:  0.43333333333333335\n",
      "_____________________\n",
      "_____________________\n",
      "_____________________\n",
      "proba:  2   1\n",
      "confusion matrix: \n",
      "[[932   1]\n",
      " [162   3]]\n",
      "prawdziwych pozytywnych w stosunku do wszystkich pozytywnych:  0.75\n",
      "_____________________\n",
      "_____________________\n",
      "_____________________\n",
      "proba:  2   2\n",
      "confusion matrix: \n",
      "[[922  11]\n",
      " [153  12]]\n",
      "prawdziwych pozytywnych w stosunku do wszystkich pozytywnych:  0.5217391304347826\n",
      "_____________________\n",
      "_____________________\n",
      "_____________________\n",
      "proba:  2   3\n",
      "confusion matrix: \n",
      "[[922  11]\n",
      " [155  10]]\n",
      "prawdziwych pozytywnych w stosunku do wszystkich pozytywnych:  0.47619047619047616\n",
      "_____________________\n",
      "_____________________\n",
      "_____________________\n",
      "proba:  2   4\n",
      "confusion matrix: \n",
      "[[930   3]\n",
      " [159   6]]\n",
      "prawdziwych pozytywnych w stosunku do wszystkich pozytywnych:  0.6666666666666666\n",
      "_____________________\n",
      "_____________________\n",
      "_____________________\n",
      "proba:  2   5\n",
      "confusion matrix: \n",
      "[[928   5]\n",
      " [156   9]]\n",
      "prawdziwych pozytywnych w stosunku do wszystkich pozytywnych:  0.6428571428571429\n",
      "_____________________\n",
      "_____________________\n",
      "_____________________\n",
      "proba:  2   6\n",
      "confusion matrix: \n",
      "[[930   3]\n",
      " [158   7]]\n",
      "prawdziwych pozytywnych w stosunku do wszystkich pozytywnych:  0.7\n",
      "_____________________\n",
      "_____________________\n",
      "_____________________\n",
      "proba:  2   7\n",
      "confusion matrix: \n",
      "[[928   5]\n",
      " [158   7]]\n",
      "prawdziwych pozytywnych w stosunku do wszystkich pozytywnych:  0.5833333333333334\n",
      "_____________________\n",
      "_____________________\n",
      "_____________________\n",
      "proba:  2   8\n",
      "confusion matrix: \n",
      "[[928   5]\n",
      " [154  11]]\n",
      "prawdziwych pozytywnych w stosunku do wszystkich pozytywnych:  0.6875\n",
      "_____________________\n",
      "_____________________\n",
      "_____________________\n",
      "proba:  2   9\n",
      "confusion matrix: \n",
      "[[926   7]\n",
      " [159   6]]\n",
      "prawdziwych pozytywnych w stosunku do wszystkich pozytywnych:  0.46153846153846156\n",
      "_____________________\n",
      "_____________________\n",
      "_____________________\n",
      "proba:  3   1\n",
      "confusion matrix: \n",
      "[[933   0]\n",
      " [165   0]]\n",
      "brak pozytywnych wyników\n",
      "_____________________\n",
      "_____________________\n",
      "_____________________\n",
      "proba:  3   2\n",
      "confusion matrix: \n",
      "[[929   4]\n",
      " [157   8]]\n",
      "prawdziwych pozytywnych w stosunku do wszystkich pozytywnych:  0.6666666666666666\n",
      "_____________________\n",
      "_____________________\n",
      "_____________________\n",
      "proba:  3   3\n",
      "confusion matrix: \n",
      "[[928   5]\n",
      " [156   9]]\n",
      "prawdziwych pozytywnych w stosunku do wszystkich pozytywnych:  0.6428571428571429\n",
      "_____________________\n",
      "_____________________\n",
      "_____________________\n",
      "proba:  3   4\n",
      "confusion matrix: \n",
      "[[926   7]\n",
      " [156   9]]\n",
      "prawdziwych pozytywnych w stosunku do wszystkich pozytywnych:  0.5625\n",
      "_____________________\n",
      "_____________________\n",
      "_____________________\n",
      "proba:  3   5\n",
      "confusion matrix: \n",
      "[[926   7]\n",
      " [158   7]]\n",
      "prawdziwych pozytywnych w stosunku do wszystkich pozytywnych:  0.5\n",
      "_____________________\n",
      "_____________________\n",
      "_____________________\n",
      "proba:  3   6\n",
      "confusion matrix: \n",
      "[[933   0]\n",
      " [156   9]]\n",
      "prawdziwych pozytywnych w stosunku do wszystkich pozytywnych:  1.0\n",
      "_____________________\n",
      "_____________________\n",
      "_____________________\n",
      "proba:  3   7\n",
      "confusion matrix: \n",
      "[[929   4]\n",
      " [156   9]]\n",
      "prawdziwych pozytywnych w stosunku do wszystkich pozytywnych:  0.6923076923076923\n",
      "_____________________\n",
      "_____________________\n",
      "_____________________\n",
      "proba:  3   8\n",
      "confusion matrix: \n",
      "[[930   3]\n",
      " [155  10]]\n",
      "prawdziwych pozytywnych w stosunku do wszystkich pozytywnych:  0.7692307692307693\n",
      "_____________________\n",
      "_____________________\n",
      "_____________________\n",
      "proba:  3   9\n",
      "confusion matrix: \n",
      "[[927   6]\n",
      " [154  11]]\n",
      "prawdziwych pozytywnych w stosunku do wszystkich pozytywnych:  0.6470588235294118\n",
      "_____________________\n",
      "_____________________\n",
      "_____________________\n",
      "proba:  4   1\n",
      "confusion matrix: \n",
      "[[933   0]\n",
      " [165   0]]\n",
      "brak pozytywnych wyników\n",
      "_____________________\n",
      "_____________________\n",
      "_____________________\n",
      "proba:  4   2\n",
      "confusion matrix: \n",
      "[[927   6]\n",
      " [156   9]]\n",
      "prawdziwych pozytywnych w stosunku do wszystkich pozytywnych:  0.6\n",
      "_____________________\n",
      "_____________________\n",
      "_____________________\n",
      "proba:  4   3\n",
      "confusion matrix: \n",
      "[[931   2]\n",
      " [154  11]]\n",
      "prawdziwych pozytywnych w stosunku do wszystkich pozytywnych:  0.8461538461538461\n",
      "_____________________\n",
      "_____________________\n",
      "_____________________\n",
      "proba:  4   4\n",
      "confusion matrix: \n",
      "[[931   2]\n",
      " [162   3]]\n",
      "prawdziwych pozytywnych w stosunku do wszystkich pozytywnych:  0.6\n",
      "_____________________\n",
      "_____________________\n",
      "_____________________\n",
      "proba:  4   5\n",
      "confusion matrix: \n",
      "[[932   1]\n",
      " [158   7]]\n",
      "prawdziwych pozytywnych w stosunku do wszystkich pozytywnych:  0.875\n",
      "_____________________\n",
      "_____________________\n",
      "_____________________\n",
      "proba:  4   6\n",
      "confusion matrix: \n",
      "[[930   3]\n",
      " [156   9]]\n",
      "prawdziwych pozytywnych w stosunku do wszystkich pozytywnych:  0.75\n",
      "_____________________\n",
      "_____________________\n",
      "_____________________\n",
      "proba:  4   7\n",
      "confusion matrix: \n",
      "[[928   5]\n",
      " [161   4]]\n",
      "prawdziwych pozytywnych w stosunku do wszystkich pozytywnych:  0.4444444444444444\n",
      "_____________________\n",
      "_____________________\n",
      "_____________________\n",
      "proba:  4   8\n",
      "confusion matrix: \n",
      "[[929   4]\n",
      " [158   7]]\n",
      "prawdziwych pozytywnych w stosunku do wszystkich pozytywnych:  0.6363636363636364\n",
      "_____________________\n",
      "_____________________\n",
      "_____________________\n",
      "proba:  4   9\n",
      "confusion matrix: \n",
      "[[933   0]\n",
      " [159   6]]\n",
      "prawdziwych pozytywnych w stosunku do wszystkich pozytywnych:  1.0\n",
      "_____________________\n",
      "_____________________\n",
      "_____________________\n",
      "proba:  5   1\n",
      "confusion matrix: \n",
      "[[933   0]\n",
      " [164   1]]\n",
      "prawdziwych pozytywnych w stosunku do wszystkich pozytywnych:  1.0\n",
      "_____________________\n",
      "_____________________\n",
      "_____________________\n",
      "proba:  5   2\n",
      "confusion matrix: \n",
      "[[932   1]\n",
      " [158   7]]\n",
      "prawdziwych pozytywnych w stosunku do wszystkich pozytywnych:  0.875\n",
      "_____________________\n",
      "_____________________\n",
      "_____________________\n",
      "proba:  5   3\n",
      "confusion matrix: \n",
      "[[933   0]\n",
      " [156   9]]\n",
      "prawdziwych pozytywnych w stosunku do wszystkich pozytywnych:  1.0\n",
      "_____________________\n",
      "_____________________\n",
      "_____________________\n",
      "proba:  5   4\n",
      "confusion matrix: \n",
      "[[930   3]\n",
      " [158   7]]\n",
      "prawdziwych pozytywnych w stosunku do wszystkich pozytywnych:  0.7\n",
      "_____________________\n",
      "_____________________\n",
      "_____________________\n",
      "proba:  5   5\n",
      "confusion matrix: \n",
      "[[930   3]\n",
      " [158   7]]\n",
      "prawdziwych pozytywnych w stosunku do wszystkich pozytywnych:  0.7\n",
      "_____________________\n",
      "_____________________\n",
      "_____________________\n",
      "proba:  5   6\n",
      "confusion matrix: \n",
      "[[930   3]\n",
      " [159   6]]\n",
      "prawdziwych pozytywnych w stosunku do wszystkich pozytywnych:  0.6666666666666666\n",
      "_____________________\n",
      "_____________________\n",
      "_____________________\n",
      "proba:  5   7\n",
      "confusion matrix: \n",
      "[[930   3]\n",
      " [161   4]]\n",
      "prawdziwych pozytywnych w stosunku do wszystkich pozytywnych:  0.5714285714285714\n",
      "_____________________\n",
      "_____________________\n",
      "_____________________\n",
      "proba:  5   8\n",
      "confusion matrix: \n",
      "[[928   5]\n",
      " [159   6]]\n",
      "prawdziwych pozytywnych w stosunku do wszystkich pozytywnych:  0.5454545454545454\n",
      "_____________________\n",
      "_____________________\n",
      "_____________________\n",
      "proba:  5   9\n",
      "confusion matrix: \n",
      "[[931   2]\n",
      " [160   5]]\n",
      "prawdziwych pozytywnych w stosunku do wszystkich pozytywnych:  0.7142857142857143\n",
      "_____________________\n",
      "_____________________\n",
      "_____________________\n",
      "proba:  6   1\n",
      "confusion matrix: \n",
      "[[933   0]\n",
      " [165   0]]\n",
      "brak pozytywnych wyników\n",
      "_____________________\n",
      "_____________________\n",
      "_____________________\n",
      "proba:  6   2\n",
      "confusion matrix: \n",
      "[[931   2]\n",
      " [159   6]]\n",
      "prawdziwych pozytywnych w stosunku do wszystkich pozytywnych:  0.75\n",
      "_____________________\n",
      "_____________________\n",
      "_____________________\n",
      "proba:  6   3\n",
      "confusion matrix: \n",
      "[[931   2]\n",
      " [157   8]]\n",
      "prawdziwych pozytywnych w stosunku do wszystkich pozytywnych:  0.8\n",
      "_____________________\n",
      "_____________________\n",
      "_____________________\n",
      "proba:  6   4\n",
      "confusion matrix: \n",
      "[[933   0]\n",
      " [162   3]]\n",
      "prawdziwych pozytywnych w stosunku do wszystkich pozytywnych:  1.0\n",
      "_____________________\n",
      "_____________________\n",
      "_____________________\n",
      "proba:  6   5\n",
      "confusion matrix: \n",
      "[[930   3]\n",
      " [160   5]]\n",
      "prawdziwych pozytywnych w stosunku do wszystkich pozytywnych:  0.625\n",
      "_____________________\n",
      "_____________________\n",
      "_____________________\n",
      "proba:  6   6\n",
      "confusion matrix: \n",
      "[[932   1]\n",
      " [161   4]]\n",
      "prawdziwych pozytywnych w stosunku do wszystkich pozytywnych:  0.8\n",
      "_____________________\n",
      "_____________________\n",
      "_____________________\n",
      "proba:  6   7\n",
      "confusion matrix: \n",
      "[[931   2]\n",
      " [160   5]]\n",
      "prawdziwych pozytywnych w stosunku do wszystkich pozytywnych:  0.7142857142857143\n",
      "_____________________\n",
      "_____________________\n",
      "_____________________\n",
      "proba:  6   8\n",
      "confusion matrix: \n",
      "[[931   2]\n",
      " [159   6]]\n",
      "prawdziwych pozytywnych w stosunku do wszystkich pozytywnych:  0.75\n",
      "_____________________\n",
      "_____________________\n",
      "_____________________\n",
      "proba:  6   9\n",
      "confusion matrix: \n",
      "[[932   1]\n",
      " [159   6]]\n",
      "prawdziwych pozytywnych w stosunku do wszystkich pozytywnych:  0.8571428571428571\n",
      "_____________________\n",
      "_____________________\n",
      "_____________________\n",
      "proba:  7   1\n",
      "confusion matrix: \n",
      "[[933   0]\n",
      " [164   1]]\n",
      "prawdziwych pozytywnych w stosunku do wszystkich pozytywnych:  1.0\n",
      "_____________________\n",
      "_____________________\n",
      "_____________________\n",
      "proba:  7   2\n",
      "confusion matrix: \n",
      "[[931   2]\n",
      " [160   5]]\n",
      "prawdziwych pozytywnych w stosunku do wszystkich pozytywnych:  0.7142857142857143\n",
      "_____________________\n",
      "_____________________\n",
      "_____________________\n",
      "proba:  7   3\n",
      "confusion matrix: \n",
      "[[932   1]\n",
      " [159   6]]\n",
      "prawdziwych pozytywnych w stosunku do wszystkich pozytywnych:  0.8571428571428571\n",
      "_____________________\n",
      "_____________________\n",
      "_____________________\n",
      "proba:  7   4\n",
      "confusion matrix: \n",
      "[[931   2]\n",
      " [163   2]]\n",
      "prawdziwych pozytywnych w stosunku do wszystkich pozytywnych:  0.5\n",
      "_____________________\n",
      "_____________________\n",
      "_____________________\n",
      "proba:  7   5\n",
      "confusion matrix: \n",
      "[[931   2]\n",
      " [160   5]]\n",
      "prawdziwych pozytywnych w stosunku do wszystkich pozytywnych:  0.7142857142857143\n",
      "_____________________\n",
      "_____________________\n",
      "_____________________\n",
      "proba:  7   6\n",
      "confusion matrix: \n",
      "[[930   3]\n",
      " [160   5]]\n",
      "prawdziwych pozytywnych w stosunku do wszystkich pozytywnych:  0.625\n",
      "_____________________\n",
      "_____________________\n",
      "_____________________\n",
      "proba:  7   7\n",
      "confusion matrix: \n",
      "[[932   1]\n",
      " [161   4]]\n",
      "prawdziwych pozytywnych w stosunku do wszystkich pozytywnych:  0.8\n",
      "_____________________\n",
      "_____________________\n",
      "_____________________\n",
      "proba:  7   8\n",
      "confusion matrix: \n",
      "[[931   2]\n",
      " [157   8]]\n",
      "prawdziwych pozytywnych w stosunku do wszystkich pozytywnych:  0.8\n",
      "_____________________\n",
      "_____________________\n",
      "_____________________\n",
      "proba:  7   9\n",
      "confusion matrix: \n",
      "[[930   3]\n",
      " [159   6]]\n",
      "prawdziwych pozytywnych w stosunku do wszystkich pozytywnych:  0.6666666666666666\n",
      "_____________________\n",
      "_____________________\n",
      "_____________________\n",
      "proba:  8   1\n",
      "confusion matrix: \n",
      "[[933   0]\n",
      " [165   0]]\n",
      "brak pozytywnych wyników\n",
      "_____________________\n",
      "_____________________\n",
      "_____________________\n",
      "proba:  8   2\n",
      "confusion matrix: \n",
      "[[932   1]\n",
      " [160   5]]\n",
      "prawdziwych pozytywnych w stosunku do wszystkich pozytywnych:  0.8333333333333334\n",
      "_____________________\n",
      "_____________________\n",
      "_____________________\n",
      "proba:  8   3\n",
      "confusion matrix: \n",
      "[[931   2]\n",
      " [157   8]]\n",
      "prawdziwych pozytywnych w stosunku do wszystkich pozytywnych:  0.8\n",
      "_____________________\n",
      "_____________________\n",
      "_____________________\n",
      "proba:  8   4\n",
      "confusion matrix: \n",
      "[[930   3]\n",
      " [160   5]]\n",
      "prawdziwych pozytywnych w stosunku do wszystkich pozytywnych:  0.625\n",
      "_____________________\n",
      "_____________________\n",
      "_____________________\n",
      "proba:  8   5\n",
      "confusion matrix: \n",
      "[[932   1]\n",
      " [163   2]]\n",
      "prawdziwych pozytywnych w stosunku do wszystkich pozytywnych:  0.6666666666666666\n",
      "_____________________\n",
      "_____________________\n",
      "_____________________\n",
      "proba:  8   6\n",
      "confusion matrix: \n",
      "[[933   0]\n",
      " [156   9]]\n",
      "prawdziwych pozytywnych w stosunku do wszystkich pozytywnych:  1.0\n",
      "_____________________\n",
      "_____________________\n",
      "_____________________\n",
      "proba:  8   7\n",
      "confusion matrix: \n",
      "[[931   2]\n",
      " [161   4]]\n",
      "prawdziwych pozytywnych w stosunku do wszystkich pozytywnych:  0.6666666666666666\n",
      "_____________________\n",
      "_____________________\n",
      "_____________________\n",
      "proba:  8   8\n",
      "confusion matrix: \n",
      "[[932   1]\n",
      " [159   6]]\n",
      "prawdziwych pozytywnych w stosunku do wszystkich pozytywnych:  0.8571428571428571\n",
      "_____________________\n",
      "_____________________\n",
      "_____________________\n",
      "proba:  8   9\n",
      "confusion matrix: \n",
      "[[932   1]\n",
      " [160   5]]\n",
      "prawdziwych pozytywnych w stosunku do wszystkich pozytywnych:  0.8333333333333334\n",
      "_____________________\n",
      "_____________________\n",
      "_____________________\n",
      "proba:  9   1\n",
      "confusion matrix: \n",
      "[[933   0]\n",
      " [165   0]]\n",
      "brak pozytywnych wyników\n",
      "_____________________\n",
      "_____________________\n",
      "_____________________\n",
      "proba:  9   2\n",
      "confusion matrix: \n",
      "[[932   1]\n",
      " [160   5]]\n",
      "prawdziwych pozytywnych w stosunku do wszystkich pozytywnych:  0.8333333333333334\n",
      "_____________________\n",
      "_____________________\n",
      "_____________________\n",
      "proba:  9   3\n",
      "confusion matrix: \n",
      "[[932   1]\n",
      " [162   3]]\n",
      "prawdziwych pozytywnych w stosunku do wszystkich pozytywnych:  0.75\n",
      "_____________________\n",
      "_____________________\n",
      "_____________________\n",
      "proba:  9   4\n",
      "confusion matrix: \n",
      "[[931   2]\n",
      " [163   2]]\n",
      "prawdziwych pozytywnych w stosunku do wszystkich pozytywnych:  0.5\n",
      "_____________________\n",
      "_____________________\n",
      "_____________________\n",
      "proba:  9   5\n",
      "confusion matrix: \n",
      "[[932   1]\n",
      " [161   4]]\n",
      "prawdziwych pozytywnych w stosunku do wszystkich pozytywnych:  0.8\n",
      "_____________________\n",
      "_____________________\n",
      "_____________________\n",
      "proba:  9   6\n",
      "confusion matrix: \n",
      "[[930   3]\n",
      " [158   7]]\n",
      "prawdziwych pozytywnych w stosunku do wszystkich pozytywnych:  0.7\n",
      "_____________________\n",
      "_____________________\n",
      "_____________________\n",
      "proba:  9   7\n",
      "confusion matrix: \n",
      "[[932   1]\n",
      " [158   7]]\n",
      "prawdziwych pozytywnych w stosunku do wszystkich pozytywnych:  0.875\n",
      "_____________________\n",
      "_____________________\n",
      "_____________________\n",
      "proba:  9   8\n",
      "confusion matrix: \n",
      "[[933   0]\n",
      " [160   5]]\n",
      "prawdziwych pozytywnych w stosunku do wszystkich pozytywnych:  1.0\n",
      "_____________________\n",
      "_____________________\n",
      "_____________________\n",
      "proba:  9   9\n",
      "confusion matrix: \n",
      "[[932   1]\n",
      " [159   6]]\n",
      "prawdziwych pozytywnych w stosunku do wszystkich pozytywnych:  0.8571428571428571\n",
      "_____________________\n",
      "_____________________\n"
     ]
    }
   ],
   "source": [
    "\n",
    "for i in range(1,10):\n",
    "    for j in range(1,10):\n",
    "        # X_train, X_test, y_train, y_test = train_test_split(new_df.drop('target', axis=1), new_df['target'], test_size=0.15)\n",
    "        model = RandomForestClassifier(n_estimators=10*i, max_depth=10*j)\n",
    "        model.fit(X_train, y_train)\n",
    "        y_pred = model.predict(X_test)\n",
    "        print(\"_____________________\")\n",
    "        print(\"proba: \", i, \" \", j)\n",
    "        print(\"confusion matrix: \")\n",
    "        print(confusion_matrix(y_test, y_pred))\n",
    "        if confusion_matrix(y_test, y_pred)[1][1]+confusion_matrix(y_test, y_pred)[0][1] == 0:\n",
    "            print(\"brak pozytywnych wyników\")\n",
    "        else:\n",
    "            print(\"prawdziwych pozytywnych w stosunku do wszystkich pozytywnych: \", confusion_matrix(y_test, y_pred)[1][1]/(confusion_matrix(y_test, y_pred)[1][1]+confusion_matrix(y_test, y_pred)[0][1]))\n",
    "        print(\"_____________________\")\n",
    "        print(\"_____________________\")"
   ],
   "metadata": {
    "collapsed": false
   }
  },
  {
   "cell_type": "code",
   "execution_count": 44,
   "outputs": [
    {
     "name": "stdout",
     "output_type": "stream",
     "text": [
      "_____________________\n",
      "confusion matrix: \n",
      "[[919   1]\n",
      " [171   7]]\n",
      "prawdziwych pozytywnych w stosunku do wszystkich pozytywnych:  0.875\n",
      "_____________________\n",
      "confusion matrix: \n",
      "[[890   2]\n",
      " [193  13]]\n",
      "prawdziwych pozytywnych w stosunku do wszystkich pozytywnych:  0.8666666666666667\n",
      "_____________________\n",
      "confusion matrix: \n",
      "[[917   1]\n",
      " [174   6]]\n",
      "prawdziwych pozytywnych w stosunku do wszystkich pozytywnych:  0.8571428571428571\n",
      "_____________________\n",
      "confusion matrix: \n",
      "[[925   4]\n",
      " [158  11]]\n",
      "prawdziwych pozytywnych w stosunku do wszystkich pozytywnych:  0.7333333333333333\n",
      "_____________________\n",
      "confusion matrix: \n",
      "[[905   2]\n",
      " [184   7]]\n",
      "prawdziwych pozytywnych w stosunku do wszystkich pozytywnych:  0.7777777777777778\n",
      "_____________________\n",
      "confusion matrix: \n",
      "[[917   0]\n",
      " [175   6]]\n",
      "prawdziwych pozytywnych w stosunku do wszystkich pozytywnych:  1.0\n"
     ]
    }
   ],
   "source": [
    "\"wyniki są dobre dla parametrów n_estimators = 50 i max_depth = 90  , sprawdzę jeszcze kilka razy czy zawsze są one dobre czy tylko raz się udało dla takiego wylosowania danych\"\n",
    "model = RandomForestClassifier(n_estimators=50, max_depth=90)\n",
    "for i in range(3):\n",
    "    X_train, X_test, y_train, y_test = train_test_split(new_df.drop('target', axis=1), new_df['target'], test_size=0.15)\n",
    "    model.fit(X_train, y_train)\n",
    "    y_pred = model.predict(X_test)\n",
    "    print(\"_____________________\")\n",
    "    cm = confusion_matrix(y_test, y_pred)\n",
    "    print(\"confusion matrix: \")\n",
    "    print(cm)\n",
    "    if cm[1][1]+cm[0][1] == 0:\n",
    "        print(\"brak pozytywnych wyników\")\n",
    "    else:\n",
    "        print(\"prawdziwych pozytywnych w stosunku do wszystkich pozytywnych: \", cm[1][1]/(cm[1][1]+cm[0][1]))"
   ],
   "metadata": {
    "collapsed": false
   }
  },
  {
   "cell_type": "code",
   "execution_count": 45,
   "outputs": [
    {
     "name": "stdout",
     "output_type": "stream",
     "text": [
      "_____________________\n",
      "losowo ale z proporcjami\n",
      "confusion matrix: \n",
      "[[749 169]\n",
      " [152  28]]\n",
      "prawdziwych pozytywnych w stosunku do wszystkich pozytywnych:  0.14213197969543148\n",
      "_____________________\n",
      "losowo ale z proporcjami\n",
      "confusion matrix: \n",
      "[[758 159]\n",
      " [150  31]]\n",
      "prawdziwych pozytywnych w stosunku do wszystkich pozytywnych:  0.1631578947368421\n"
     ]
    }
   ],
   "source": [
    "\"Jako porównanie sprawdzimy jak poradzi sobie nadawanie etykiet losowo, proporcjonalnie do częstości występowania etykiet w danych\"\n",
    "\"oraz jakie są szanse gdyby użytkownik miał pójść na randkę z jakąkolwiek osobą\"\n",
    "dummy = DummyClassifier(strategy='stratified')\n",
    "dummy.fit(X_train, y_train)\n",
    "y_pred = dummy.predict(X_test)\n",
    "print(\"_____________________\")\n",
    "print(\"losowo ale z proporcjami\")\n",
    "cm = confusion_matrix(y_test, y_pred)\n",
    "print(\"confusion matrix: \")\n",
    "print(cm)\n",
    "if cm[1][1]+cm[0][1] == 0:\n",
    "    print(\"brak pozytywnych wyników\")\n",
    "else:\n",
    "    print(\"prawdziwych pozytywnych w stosunku do wszystkich pozytywnych: \", cm[1][1]/(cm[1][1]+cm[0][1]))"
   ],
   "metadata": {
    "collapsed": false
   }
  },
  {
   "cell_type": "code",
   "execution_count": 46,
   "outputs": [
    {
     "data": {
      "text/plain": "'Teraz dla porównania spróbuję wytrenować sieć neuronową'"
     },
     "execution_count": 13,
     "metadata": {},
     "output_type": "execute_result"
    },
    {
     "data": {
      "text/plain": "'Teraz dla porównania spróbuję wytrenować sieć neuronową'"
     },
     "execution_count": 46,
     "metadata": {},
     "output_type": "execute_result"
    }
   ],
   "source": [
    "\"Z jednej strony wyniki modelu sąznacznie lepsze, jednak mając zbiór ponad 1000 danych proponuje tylko około\" \\\n",
    "\"10 randek, co oznacza że aplikacja musiała by mieć bardzo dużą bazę użytkowników, żeby w ogóle działała\"\n",
    "\"Teraz dla porównania spróbuję wytrenować sieć neuronową\""
   ],
   "metadata": {
    "collapsed": false
   }
  },
  {
   "cell_type": "code",
   "execution_count": 47,
   "outputs": [
    {
     "name": "stdout",
     "output_type": "stream",
     "text": [
      "Epoch 1/5\n",
      "1555/1555 [==============================] - 3s 2ms/step - loss: 0.4388 - precision: 0.3333\n",
      "Epoch 2/5\n",
      "1555/1555 [==============================] - 3s 2ms/step - loss: 0.4241 - precision: 0.0000e+00\n",
      "Epoch 3/5\n",
      "1555/1555 [==============================] - 3s 2ms/step - loss: 0.4169 - precision: 0.0000e+00\n",
      "Epoch 4/5\n",
      "1555/1555 [==============================] - 4s 3ms/step - loss: 0.4122 - precision: 0.6875\n",
      "Epoch 5/5\n",
      "1555/1555 [==============================] - 3s 2ms/step - loss: 0.4081 - precision: 0.6000\n"
     ]
    },
    {
     "data": {
      "text/plain": "<keras.callbacks.History at 0x208cb6140d0>"
     },
     "execution_count": 14,
     "metadata": {},
     "output_type": "execute_result"
    },
    {
     "name": "stdout",
     "output_type": "stream",
     "text": [
      "Epoch 1/5\n",
      "1555/1555 [==============================] - 3s 1ms/step - loss: 0.4418 - precision: 0.1538\n",
      "Epoch 2/5\n",
      "1555/1555 [==============================] - 2s 1ms/step - loss: 0.4231 - precision: 0.1667\n",
      "Epoch 3/5\n",
      "1555/1555 [==============================] - 2s 1ms/step - loss: 0.4172 - precision: 0.6667\n",
      "Epoch 4/5\n",
      "1555/1555 [==============================] - 2s 1ms/step - loss: 0.4113 - precision: 0.6522\n",
      "Epoch 5/5\n",
      "1555/1555 [==============================] - 2s 1ms/step - loss: 0.4071 - precision: 0.6604\n"
     ]
    },
    {
     "data": {
      "text/plain": "<keras.callbacks.History at 0x208c9ecd190>"
     },
     "execution_count": 47,
     "metadata": {},
     "output_type": "execute_result"
    }
   ],
   "source": [
    "scaler = StandardScaler()\n",
    "X_train = scaler.fit_transform(X_train)\n",
    "X_test = scaler.transform(X_test)\n",
    "model = tf.keras.models.Sequential([\n",
    "    tf.keras.layers.Dense(32, activation='relu', input_shape=(X_train.shape[1],)),\n",
    "    tf.keras.layers.Dense(32, activation='relu'),\n",
    "    tf.keras.layers.Dense(16, activation='relu'),\n",
    "    tf.keras.layers.Dense(1, activation='sigmoid')\n",
    "])\n",
    "\n",
    "model.compile(optimizer='adam', loss='binary_crossentropy', metrics=[\"Precision\"])\n",
    "\n",
    "model.fit(X_train, y_train, epochs=5, batch_size=4 , class_weight={0:1, 1:1}, ) #, class_weight=class_weights)\n"
   ],
   "metadata": {
    "collapsed": false
   }
  },
  {
   "cell_type": "code",
   "execution_count": 48,
   "outputs": [
    {
     "name": "stdout",
     "output_type": "stream",
     "text": [
      "35/35 [==============================] - 0s 2ms/step\n",
      "_____________________\n",
      "confusion matrix: \n",
      "[[916   2]\n",
      " [178   2]]\n",
      "prawdziwych pozytywnych w stosunku do wszystkich pozytywnych:  0.5\n",
      "35/35 [==============================] - 0s 948us/step\n",
      "_____________________\n",
      "confusion matrix: \n",
      "[[914   3]\n",
      " [180   1]]\n",
      "prawdziwych pozytywnych w stosunku do wszystkich pozytywnych:  0.25\n"
     ]
    }
   ],
   "source": [
    "y_pred = model.predict(X_test)\n",
    "y_pred = [1 if x > 0.5 else 0 for x in y_pred]\n",
    "print(\"_____________________\")\n",
    "cm = confusion_matrix(y_test, y_pred)\n",
    "print(\"confusion matrix: \")\n",
    "print(cm)\n",
    "if cm[1][1]+cm[0][1] == 0:\n",
    "    print(\"brak pozytywnych wyników\")\n",
    "else:\n",
    "    print(\"prawdziwych pozytywnych w stosunku do wszystkich pozytywnych: \", cm[1][1]/(cm[1][1]+cm[0][1]))"
   ],
   "metadata": {
    "collapsed": false
   }
  },
  {
   "cell_type": "code",
   "execution_count": 49,
   "outputs": [
    {
     "data": {
      "text/plain": "'Sprawdzę jeszcze czy istnieje możliwość stworzenia modelu w oparciu o maszynę wektorów nośnych'"
     },
     "execution_count": 16,
     "metadata": {},
     "output_type": "execute_result"
    },
    {
     "data": {
      "text/plain": "'Sprawdzę jeszcze czy istnieje możliwość stworzenia modelu w oparciu o maszynę wektorów nośnych'"
     },
     "execution_count": 49,
     "metadata": {},
     "output_type": "execute_result"
    }
   ],
   "source": [
    "\"\"\"Sprawdzę jeszcze czy istnieje możliwość stworzenia modelu w oparciu o maszynę wektorów nośnych\"\"\""
   ],
   "metadata": {
    "collapsed": false
   }
  },
  {
   "cell_type": "code",
   "execution_count": 68,
   "outputs": [
    {
     "name": "stdout",
     "output_type": "stream",
     "text": [
      "_____________________\n",
      "confusion matrix: \n",
      "[[921   0]\n",
      " [177   0]]\n",
      "brak pozytywnych wyników\n",
      "_____________________\n",
      "confusion matrix: \n",
      "[[901   0]\n",
      " [197   0]]\n",
      "brak pozytywnych wyników\n",
      "_____________________\n",
      "confusion matrix: \n",
      "[[916   0]\n",
      " [182   0]]\n",
      "brak pozytywnych wyników\n",
      "najlepszy model:  0\n"
     ]
    }
   ],
   "source": [
    "max = 0\n",
    "for _ in range(3):\n",
    "    X_train, X_test, y_train, y_test = train_test_split(new_df.drop('target', axis=1), new_df['target'], test_size=0.15)\n",
    "    SVM = SVC()\n",
    "    SVM.fit(X_train, y_train)\n",
    "    y_pred = SVM.predict(X_test)\n",
    "    print(\"_____________________\")\n",
    "    cm = confusion_matrix(y_test, y_pred)\n",
    "    print(\"confusion matrix: \")\n",
    "    print(cm)\n",
    "    if cm[1][1]+cm[0][1] == 0:\n",
    "        print(\"brak pozytywnych wyników\")\n",
    "    else:\n",
    "        print(\"prawdziwych pozytywnych w stosunku do wszystkich pozytywnych: \", cm[1][1]/(cm[1][1]+cm[0][1]))\n",
    "        if (cm[1][1]/(cm[1][1]+cm[0][1])) > max:\n",
    "            max = cm[1][1]/(cm[1][1]+cm[0][1])\n",
    "            best_model = SVM\n",
    "print(\"najlepszy model: \", max)"
   ],
   "metadata": {
    "collapsed": false
   }
  },
  {
   "cell_type": "code",
   "execution_count": 51,
   "outputs": [
    {
     "data": {
      "text/plain": "'Wyniki dalej nie są zadowalajace, spróbuję teraz jeszcze raz z wcześniejszymi modelami, ale brakujące wartości uzupełnię przez średnią'"
     },
     "execution_count": 18,
     "metadata": {},
     "output_type": "execute_result"
    },
    {
     "data": {
      "text/plain": "'Wyniki dalej nie są zadowalajace, spróbuję teraz jeszcze raz z wcześniejszymi modelami, ale brakujące wartości uzupełnię przez średnią'"
     },
     "execution_count": 51,
     "metadata": {},
     "output_type": "execute_result"
    }
   ],
   "source": [
    "\"\"\"SVM dla przeprowadzonych testów okazałsię najgorszy\"\"\"\n",
    "\"\"\"Wyniki dalej nie są zadowalajace, spróbuję teraz jeszcze raz z wcześniejszymi modelami, ale brakujące wartości uzupełnię przez średnią\"\"\""
   ],
   "metadata": {
    "collapsed": false
   }
  },
  {
   "cell_type": "code",
   "execution_count": 52,
   "outputs": [],
   "source": [
    "df = pd.read_csv(\"df_differences.csv\")\n",
    "df = df.fillna(df.mean())\n",
    "X_train, X_test, y_train, y_test = train_test_split(df.drop('target', axis=1), df['target'], test_size=0.15)"
   ],
   "metadata": {
    "collapsed": false
   }
  },
  {
   "cell_type": "code",
   "execution_count": 53,
   "outputs": [
    {
     "data": {
      "text/plain": "'Random Forest'"
     },
     "execution_count": 20,
     "metadata": {},
     "output_type": "execute_result"
    },
    {
     "data": {
      "text/plain": "'Random Forest'"
     },
     "execution_count": 53,
     "metadata": {},
     "output_type": "execute_result"
    }
   ],
   "source": [
    "\"\"\"Random Forest\"\"\""
   ],
   "metadata": {
    "collapsed": false
   }
  },
  {
   "cell_type": "code",
   "execution_count": 69,
   "outputs": [
    {
     "name": "stdout",
     "output_type": "stream",
     "text": [
      "_____________________\n",
      "confusion matrix: \n",
      "[[1051    3]\n",
      " [ 197    6]]\n",
      "prawdziwych pozytywnych w stosunku do wszystkich pozytywnych:  0.6666666666666666\n",
      "_____________________\n",
      "confusion matrix: \n",
      "[[1038    6]\n",
      " [ 201   12]]\n",
      "prawdziwych pozytywnych w stosunku do wszystkich pozytywnych:  0.6666666666666666\n",
      "_____________________\n",
      "confusion matrix: \n",
      "[[1034    3]\n",
      " [ 208   12]]\n",
      "prawdziwych pozytywnych w stosunku do wszystkich pozytywnych:  0.8\n",
      "najlepszy model:  0.8\n"
     ]
    }
   ],
   "source": [
    "max = 0\n",
    "for _ in range(3):\n",
    "    df = pd.read_csv(\"df_differences.csv\")\n",
    "    df = df.fillna(df.mean())\n",
    "    X_train, X_test, y_train, y_test = train_test_split(df.drop('target', axis=1), df['target'], test_size=0.15)\n",
    "\n",
    "    model = RandomForestClassifier(n_estimators=50, max_depth=90)\n",
    "    model.fit(X_train, y_train)\n",
    "    y_pred = model.predict(X_test)\n",
    "    print(\"_____________________\")\n",
    "    cm = confusion_matrix(y_test, y_pred)\n",
    "    print(\"confusion matrix: \")\n",
    "    print(cm)\n",
    "    if cm[1][1]+cm[0][1] == 0:\n",
    "        print(\"brak pozytywnych wyników\")\n",
    "    else:\n",
    "        print(\"prawdziwych pozytywnych w stosunku do wszystkich pozytywnych: \", cm[1][1]/(cm[1][1]+cm[0][1]))\n",
    "        if (cm[1][1]/(cm[1][1]+cm[0][1])) > max:\n",
    "            max = cm[1][1]/(cm[1][1]+cm[0][1])\n",
    "print(\"najlepszy model: \", max)"
   ],
   "metadata": {
    "collapsed": false
   }
  },
  {
   "cell_type": "code",
   "execution_count": 55,
   "outputs": [
    {
     "data": {
      "text/plain": "'Nasepnie sprawdzę sieć neuronową'"
     },
     "execution_count": 22,
     "metadata": {},
     "output_type": "execute_result"
    },
    {
     "data": {
      "text/plain": "'Nasepnie sprawdzę sieć neuronową'"
     },
     "execution_count": 55,
     "metadata": {},
     "output_type": "execute_result"
    }
   ],
   "source": [
    "\"\"\"Po kilku próbach nie udało mi się zaobserwować poprawy wyników\"\"\"\n",
    "\"\"\"Nasepnie sprawdzę sieć neuronową\"\"\""
   ],
   "metadata": {
    "collapsed": false
   }
  },
  {
   "cell_type": "code",
   "execution_count": 56,
   "outputs": [
    {
     "name": "stdout",
     "output_type": "stream",
     "text": [
      "Epoch 1/5\n",
      "1781/1781 [==============================] - 3s 1ms/step - loss: 0.8408 - precision: 0.2699\n",
      "Epoch 2/5\n",
      "1781/1781 [==============================] - 3s 1ms/step - loss: 0.8106 - precision: 0.2951\n",
      "Epoch 3/5\n",
      "1781/1781 [==============================] - 3s 2ms/step - loss: 0.8002 - precision: 0.3135\n",
      "Epoch 4/5\n",
      "1781/1781 [==============================] - 3s 1ms/step - loss: 0.7877 - precision: 0.3304\n",
      "Epoch 5/5\n",
      "1781/1781 [==============================] - 2s 1ms/step - loss: 0.7805 - precision: 0.3312\n"
     ]
    },
    {
     "data": {
      "text/plain": "<keras.callbacks.History at 0x208ca2670d0>"
     },
     "execution_count": 23,
     "metadata": {},
     "output_type": "execute_result"
    },
    {
     "name": "stdout",
     "output_type": "stream",
     "text": [
      "Epoch 1/5\n",
      "1781/1781 [==============================] - 3s 1ms/step - loss: 0.8226 - precision: 0.2757\n",
      "Epoch 2/5\n",
      "1781/1781 [==============================] - 2s 1ms/step - loss: 0.7919 - precision: 0.3056\n",
      "Epoch 3/5\n",
      "1781/1781 [==============================] - 2s 1ms/step - loss: 0.7786 - precision: 0.3153\n",
      "Epoch 4/5\n",
      "1781/1781 [==============================] - 3s 2ms/step - loss: 0.7685 - precision: 0.3331\n",
      "Epoch 5/5\n",
      "1781/1781 [==============================] - 2s 1ms/step - loss: 0.7538 - precision: 0.3486\n"
     ]
    },
    {
     "data": {
      "text/plain": "<keras.callbacks.History at 0x208ca7bc0d0>"
     },
     "execution_count": 56,
     "metadata": {},
     "output_type": "execute_result"
    }
   ],
   "source": [
    "scaler = StandardScaler()\n",
    "X_train = scaler.fit_transform(X_train)\n",
    "X_test = scaler.transform(X_test)\n",
    "model = tf.keras.models.Sequential([\n",
    "    tf.keras.layers.Dense(32, activation='relu', input_shape=(X_train.shape[1],)),\n",
    "    tf.keras.layers.Dense(32, activation='relu'),\n",
    "    tf.keras.layers.Dense(16, activation='relu'),\n",
    "    tf.keras.layers.Dense(1, activation='sigmoid')\n",
    "])\n",
    "\n",
    "model.compile(optimizer='adam', loss='binary_crossentropy', metrics=[\"Precision\"])\n",
    "\n",
    "model.fit(X_train, y_train, epochs=5, batch_size=4 , class_weight={0:1, 1:3}, ) #, class_weight=class_weights)\n"
   ],
   "metadata": {
    "collapsed": false
   }
  },
  {
   "cell_type": "code",
   "execution_count": 57,
   "outputs": [
    {
     "name": "stdout",
     "output_type": "stream",
     "text": [
      "40/40 [==============================] - 0s 1ms/step\n",
      "_____________________\n",
      "confusion matrix: \n",
      "[[814 262]\n",
      " [ 92  89]]\n",
      "prawdziwych pozytywnych w stosunku do wszystkich pozytywnych:  0.2535612535612536\n",
      "40/40 [==============================] - 0s 1ms/step\n",
      "_____________________\n",
      "confusion matrix: \n",
      "[[895 143]\n",
      " [151  68]]\n",
      "prawdziwych pozytywnych w stosunku do wszystkich pozytywnych:  0.3222748815165877\n"
     ]
    }
   ],
   "source": [
    "y_pred = model.predict(X_test)\n",
    "y_pred = [1 if x > 0.5 else 0 for x in y_pred]\n",
    "print(\"_____________________\")\n",
    "cm = confusion_matrix(y_test, y_pred)\n",
    "print(\"confusion matrix: \")\n",
    "print(cm)\n",
    "if cm[1][1]+cm[0][1] == 0:\n",
    "    print(\"brak pozytywnych wyników\")\n",
    "else:\n",
    "    print(\"prawdziwych pozytywnych w stosunku do wszystkich pozytywnych: \", cm[1][1]/(cm[1][1]+cm[0][1]))"
   ],
   "metadata": {
    "collapsed": false
   }
  },
  {
   "cell_type": "code",
   "execution_count": 58,
   "outputs": [
    {
     "data": {
      "text/plain": "'Na koniec sprawdzę jeszcze maszynę wektorów nośnych'"
     },
     "execution_count": 25,
     "metadata": {},
     "output_type": "execute_result"
    },
    {
     "data": {
      "text/plain": "'Na koniec sprawdzę jeszcze maszynę wektorów nośnych'"
     },
     "execution_count": 58,
     "metadata": {},
     "output_type": "execute_result"
    }
   ],
   "source": [
    "\"\"\"Po kilkukrotnym wyuczeniu modelu z różnymi parametramy również nie zaobserwowałem poprawy, jednak więcej razy model oznacza dane jako pozytywne, więc w przypadku użycia w aplikacji randkowej rzadziej zdarzy się sytuacja, że użytkownikowi nie zostanie zaproponowana randka, która mu odpowiada\"\"\"\n",
    "\"\"\"Na koniec sprawdzę jeszcze maszynę wektorów nośnych\"\"\""
   ],
   "metadata": {
    "collapsed": false
   }
  },
  {
   "cell_type": "code",
   "execution_count": 70,
   "outputs": [
    {
     "name": "stdout",
     "output_type": "stream",
     "text": [
      "_____________________\n",
      "confusion matrix: \n",
      "[[1038    0]\n",
      " [ 219    0]]\n",
      "brak pozytywnych wyników\n",
      "_____________________\n",
      "confusion matrix: \n",
      "[[1048    0]\n",
      " [ 209    0]]\n",
      "brak pozytywnych wyników\n",
      "_____________________\n",
      "confusion matrix: \n",
      "[[1046    0]\n",
      " [ 211    0]]\n",
      "brak pozytywnych wyników\n",
      "najlepszy model:  0\n"
     ]
    }
   ],
   "source": [
    "max = 0\n",
    "for _ in range(3):\n",
    "    df = pd.read_csv(\"df_differences.csv\")\n",
    "    df = df.fillna(df.mean())\n",
    "    X_train, X_test, y_train, y_test = train_test_split(df.drop('target', axis=1), df['target'], test_size=0.15)\n",
    "    SVM = SVC()\n",
    "    SVM.fit(X_train, y_train)\n",
    "    y_pred = SVM.predict(X_test)\n",
    "    print(\"_____________________\")\n",
    "    cm = confusion_matrix(y_test, y_pred)\n",
    "    print(\"confusion matrix: \")\n",
    "    print(cm)\n",
    "    if cm[1][1]+cm[0][1] == 0:\n",
    "        print(\"brak pozytywnych wyników\")\n",
    "    else:\n",
    "        print(\"prawdziwych pozytywnych w stosunku do wszystkich pozytywnych: \", cm[1][1]/(cm[1][1]+cm[0][1]))\n",
    "        if (cm[1][1]/(cm[1][1]+cm[0][1])) > max:\n",
    "            max = cm[1][1]/(cm[1][1]+cm[0][1])\n",
    "print(\"najlepszy model: \", max)"
   ],
   "metadata": {
    "collapsed": false
   }
  },
  {
   "cell_type": "code",
   "execution_count": 60,
   "outputs": [
    {
     "data": {
      "text/plain": "'Na koniec spróbuję jeszcze poprawić działanie modelu poprzez wyważenie danych metodą oversamplingu'"
     },
     "execution_count": 27,
     "metadata": {},
     "output_type": "execute_result"
    },
    {
     "data": {
      "text/plain": "'Na koniec spróbuję jeszcze poprawić działanie modelu poprzez wyważenie danych metodą oversamplingu'"
     },
     "execution_count": 60,
     "metadata": {},
     "output_type": "execute_result"
    }
   ],
   "source": [
    "'''Również nie zaobserwowałem znaczącej poprawy'''\n",
    "'''Na koniec spróbuję jeszcze poprawić działanie modelu poprzez wyważenie danych metodą oversamplingu'''"
   ],
   "metadata": {
    "collapsed": false
   }
  },
  {
   "cell_type": "code",
   "execution_count": 61,
   "outputs": [],
   "source": [
    "df = pd.read_csv(\"df_differences.csv\")\n",
    "oversampler = SMOTE()\n",
    "df = df.fillna(df.mean())\n",
    "X_train, X_test, y_train, y_test = train_test_split(df.drop('target', axis=1), df['target'], test_size=0.15)\n",
    "X_train, y_train = oversampler.fit_resample(X_train, y_train)"
   ],
   "metadata": {
    "collapsed": false
   }
  },
  {
   "cell_type": "markdown",
   "source": [],
   "metadata": {
    "collapsed": false
   }
  },
  {
   "cell_type": "code",
   "execution_count": 62,
   "outputs": [
    {
     "name": "stdout",
     "output_type": "stream",
     "text": [
      "_____________________\n",
      "confusion matrix: \n",
      "[[1025   22]\n",
      " [ 201    9]]\n",
      "prawdziwych pozytywnych w stosunku do wszystkich pozytywnych:  0.2903225806451613\n",
      "_____________________\n",
      "confusion matrix: \n",
      "[[1024   19]\n",
      " [ 197   17]]\n",
      "prawdziwych pozytywnych w stosunku do wszystkich pozytywnych:  0.4722222222222222\n"
     ]
    }
   ],
   "source": [
    "max = 0\n",
    "for _ in range(3):\n",
    "    df = pd.read_csv(\"df_differences.csv\")\n",
    "    oversampler = SMOTE()\n",
    "    df = df.fillna(df.mean())\n",
    "    X_train, X_test, y_train, y_test = train_test_split(df.drop('target', axis=1), df['target'], test_size=0.15)\n",
    "    X_train, y_train = oversampler.fit_resample(X_train, y_train)\n",
    "    model = RandomForestClassifier(n_estimators=50, max_depth=90)\n",
    "    model.fit(X_train, y_train)\n",
    "    y_pred = model.predict(X_test)\n",
    "    print(\"_____________________\")\n",
    "    cm = confusion_matrix(y_test, y_pred)\n",
    "    print(\"confusion matrix: \")\n",
    "    print(cm)\n",
    "    if cm[1][1]+cm[0][1] == 0:\n",
    "        print(\"brak pozytywnych wyników\")\n",
    "    else:\n",
    "        print(\"prawdziwych pozytywnych w stosunku do wszystkich pozytywnych: \", cm[1][1]/(cm[1][1]+cm[0][1]))\n",
    "        if (cm[1][1]/(cm[1][1]+cm[0][1])) > max:\n",
    "            max = cm[1][1]/(cm[1][1]+cm[0][1])\n",
    "print(\"najlepszy model: \", max)"
   ],
   "metadata": {
    "collapsed": false
   }
  },
  {
   "cell_type": "code",
   "execution_count": 63,
   "outputs": [
    {
     "name": "stdout",
     "output_type": "stream",
     "text": [
      "Epoch 1/5\n",
      "2976/2976 [==============================] - 5s 1ms/step - loss: 0.6019 - precision: 0.6498\n",
      "Epoch 2/5\n",
      "2976/2976 [==============================] - 4s 1ms/step - loss: 0.5652 - precision: 0.6838\n",
      "Epoch 3/5\n",
      "2976/2976 [==============================] - 4s 1ms/step - loss: 0.5426 - precision: 0.6990\n",
      "Epoch 4/5\n",
      "2976/2976 [==============================] - 4s 1ms/step - loss: 0.5207 - precision: 0.7212\n",
      "Epoch 5/5\n",
      "2976/2976 [==============================] - 4s 1ms/step - loss: 0.5002 - precision: 0.7406\n"
     ]
    },
    {
     "data": {
      "text/plain": "<keras.callbacks.History at 0x208ca286690>"
     },
     "execution_count": 30,
     "metadata": {},
     "output_type": "execute_result"
    },
    {
     "name": "stdout",
     "output_type": "stream",
     "text": [
      "Epoch 1/5\n",
      "2978/2978 [==============================] - 5s 1ms/step - loss: 0.6030 - precision: 0.6568\n",
      "Epoch 2/5\n",
      "2978/2978 [==============================] - 4s 1ms/step - loss: 0.5679 - precision: 0.6887\n",
      "Epoch 3/5\n",
      "2978/2978 [==============================] - 4s 1ms/step - loss: 0.5407 - precision: 0.7099\n",
      "Epoch 4/5\n",
      "2978/2978 [==============================] - 4s 1ms/step - loss: 0.5191 - precision: 0.7245\n",
      "Epoch 5/5\n",
      "2978/2978 [==============================] - 4s 1ms/step - loss: 0.4976 - precision: 0.7393\n"
     ]
    },
    {
     "data": {
      "text/plain": "<keras.callbacks.History at 0x208cb2bb450>"
     },
     "execution_count": 63,
     "metadata": {},
     "output_type": "execute_result"
    }
   ],
   "source": [
    "scaler = StandardScaler()\n",
    "X_train = scaler.fit_transform(X_train)\n",
    "X_test = scaler.transform(X_test)\n",
    "model = tf.keras.models.Sequential([\n",
    "    tf.keras.layers.Dense(32, activation='relu', input_shape=(X_train.shape[1],)),\n",
    "    tf.keras.layers.Dense(32, activation='relu'),\n",
    "    tf.keras.layers.Dense(16, activation='relu'),\n",
    "    tf.keras.layers.Dense(1, activation='sigmoid')\n",
    "])\n",
    "\n",
    "model.compile(optimizer='adam', loss='binary_crossentropy', metrics=[\"Precision\"])\n",
    "\n",
    "model.fit(X_train, y_train, epochs=5, batch_size=4) #, class_weight=class_weights)\n"
   ],
   "metadata": {
    "collapsed": false
   }
  },
  {
   "cell_type": "code",
   "execution_count": 64,
   "outputs": [
    {
     "name": "stdout",
     "output_type": "stream",
     "text": [
      "40/40 [==============================] - 0s 821us/step\n",
      "_____________________\n",
      "confusion matrix: \n",
      "[[809 238]\n",
      " [126  84]]\n",
      "prawdziwych pozytywnych w stosunku do wszystkich pozytywnych:  0.2608695652173913\n",
      "40/40 [==============================] - 0s 1ms/step\n",
      "_____________________\n",
      "confusion matrix: \n",
      "[[735 308]\n",
      " [106 108]]\n",
      "prawdziwych pozytywnych w stosunku do wszystkich pozytywnych:  0.25961538461538464\n"
     ]
    }
   ],
   "source": [
    "y_pred = model.predict(X_test)\n",
    "y_pred = [1 if x > 0.5 else 0 for x in y_pred]\n",
    "print(\"_____________________\")\n",
    "cm = confusion_matrix(y_test, y_pred)\n",
    "print(\"confusion matrix: \")\n",
    "print(cm)\n",
    "if cm[1][1]+cm[0][1] == 0:\n",
    "    print(\"brak pozytywnych wyników\")\n",
    "else:\n",
    "    print(\"prawdziwych pozytywnych w stosunku do wszystkich pozytywnych: \", cm[1][1]/(cm[1][1]+cm[0][1]))"
   ],
   "metadata": {
    "collapsed": false
   }
  },
  {
   "cell_type": "code",
   "execution_count": 71,
   "outputs": [
    {
     "name": "stdout",
     "output_type": "stream",
     "text": [
      "_____________________\n",
      "confusion matrix: \n",
      "[[640 409]\n",
      " [ 71 137]]\n",
      "prawdziwych pozytywnych w stosunku do wszystkich pozytywnych:  0.2509157509157509\n",
      "_____________________\n",
      "confusion matrix: \n",
      "[[629 410]\n",
      " [ 73 145]]\n",
      "prawdziwych pozytywnych w stosunku do wszystkich pozytywnych:  0.26126126126126126\n",
      "_____________________\n",
      "confusion matrix: \n",
      "[[665 391]\n",
      " [ 74 127]]\n",
      "prawdziwych pozytywnych w stosunku do wszystkich pozytywnych:  0.24517374517374518\n",
      "najlepszy model:  0.26126126126126126\n"
     ]
    }
   ],
   "source": [
    "for _ in range(3):\n",
    "    df = pd.read_csv(\"df_differences.csv\")\n",
    "    oversampler = SMOTE()\n",
    "    df = df.fillna(df.mean())\n",
    "    X_train, X_test, y_train, y_test = train_test_split(df.drop('target', axis=1), df['target'], test_size=0.15)\n",
    "    X_train, y_train = oversampler.fit_resample(X_train, y_train)\n",
    "    model = SVC()\n",
    "    model.fit(X_train, y_train)\n",
    "    y_pred = model.predict(X_test)\n",
    "    print(\"_____________________\")\n",
    "    cm = confusion_matrix(y_test, y_pred)\n",
    "    print(\"confusion matrix: \")\n",
    "    print(cm)\n",
    "    if cm[1][1]+cm[0][1] == 0:\n",
    "        print(\"brak pozytywnych wyników\")\n",
    "    else:\n",
    "        print(\"prawdziwych pozytywnych w stosunku do wszystkich pozytywnych: \", cm[1][1]/(cm[1][1]+cm[0][1]))\n",
    "        if (cm[1][1]/(cm[1][1]+cm[0][1])) > max:\n",
    "            max = cm[1][1]/(cm[1][1]+cm[0][1])\n",
    "print(\"najlepszy model: \", max)"
   ],
   "metadata": {
    "collapsed": false
   }
  },
  {
   "cell_type": "code",
   "execution_count": 66,
   "outputs": [
    {
     "data": {
      "text/plain": "'na dane testowe i treningowe czasem mniej niż 10 osób zostaje ze sobą połączonych'"
     },
     "execution_count": 33,
     "metadata": {},
     "output_type": "execute_result"
    },
    {
     "data": {
      "text/plain": "'na dane testowe i treningowe czasem mniej niż 10 osób zostaje ze sobą połączonych'"
     },
     "execution_count": 66,
     "metadata": {},
     "output_type": "execute_result"
    }
   ],
   "source": [
    "\"\"\"Ponownie nie zaobserwowałem by któych model mógł stanowić podstawę wyboru partnera\"\"\"\n",
    "\"\"\"Do zastosowania w aplikacji najlepiej z przetestowanych modeli nadaje się las losowy, jednak jest on 'oszczędny'\"\"\"\n",
    "\"\"\"w ilości przedstawianych rozwiązań, dla 1000 próbek zaledwie przy niektóych losowaniach podziału\"\"\"\n",
    "\"\"\"na dane testowe i treningowe czasem mniej niż 10 osób zostaje ze sobą połączonych\"\"\""
   ],
   "metadata": {
    "collapsed": false
   }
  },
  {
   "cell_type": "code",
   "execution_count": 66,
   "outputs": [],
   "source": [],
   "metadata": {
    "collapsed": false
   }
  }
 ],
 "metadata": {
  "kernelspec": {
   "display_name": "Python 3",
   "language": "python",
   "name": "python3"
  },
  "language_info": {
   "codemirror_mode": {
    "name": "ipython",
    "version": 2
   },
   "file_extension": ".py",
   "mimetype": "text/x-python",
   "name": "python",
   "nbconvert_exporter": "python",
   "pygments_lexer": "ipython2",
   "version": "2.7.6"
  }
 },
 "nbformat": 4,
 "nbformat_minor": 0
}
