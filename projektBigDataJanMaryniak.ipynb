{
 "cells": [
  {
   "cell_type": "code",
   "execution_count": 45,
   "metadata": {
    "collapsed": true
   },
   "outputs": [],
   "source": [
    "import pandas as pd\n",
    "from sklearn.ensemble import RandomForestClassifier\n",
    "from sklearn.model_selection import train_test_split\n",
    "from sklearn.preprocessing import StandardScaler\n",
    "from sklearn.metrics import accuracy_score\n",
    "from sklearn.metrics import confusion_matrix\n",
    "from sklearn.dummy import DummyClassifier\n",
    "import tensorflow as tf\n",
    "from sklearn.svm import SVC\n",
    "from imblearn.over_sampling import SMOTE"
   ]
  },
  {
   "cell_type": "code",
   "execution_count": 2,
   "outputs": [],
   "source": [
    "\"\"\"Tworzę nową rankę danych z różnicami między parami (różnica wieku, rasy, jak ważna dla ankietowanej osoby jest wspólna rasa,\n",
    "różnice w ocenie oraz oczekiwaniach atrakcyjności, szczerości, inteligencji, dowcipu, ambicji, wspólnych zainteresowań,\n",
    "orelacja wspólnych zainteresowań - dane możliwe do uzyskania podczas ankiety przed randką\"\"\"\n",
    "df = pd.read_csv('speeddating.csv')\n",
    "new_df = pd.DataFrame()\n",
    "new_data_list = []\n",
    "for row in df.itertuples():\n",
    "\n",
    "    difference_age = row[6]\n",
    "    difference_race = row[10]\n",
    "    importance_same_race = row[11]\n",
    "    difference_attractive_imporatance = abs(row[16]-row[40])\n",
    "    difference_sincere_imporatance = abs(row[17]-row[41])\n",
    "    difference_intelligence_imporatance = abs(row[18]-row[42])\n",
    "    difference_funny_imporatance = abs(row[19]-row[43])\n",
    "    difference_ambition_imporatance = abs(row[20]-row[44])\n",
    "    difference_shared_interests_imporatance = abs(row[21]-row[45])\n",
    "    attractive_difference = abs(row[28] - row[52])\n",
    "    sinsere_difference = abs(row[29] - row[53])\n",
    "    intelligence_difference = abs(row[30] - row[54])\n",
    "    funny_difference = abs(row[31] - row[55])\n",
    "    ambitous_difference = abs(row[32] - row[56])\n",
    "    interests_correlation = row[108]\n",
    "    target = row[123]\n",
    "\n",
    "    new_data = {\n",
    "        'difference_age': difference_age,\n",
    "        'difference_race': difference_race,\n",
    "        'importance_same_race': importance_same_race,\n",
    "        'difference_attractive_imporatance': difference_attractive_imporatance,\n",
    "        'difference_sincere_imporatance': difference_sincere_imporatance,\n",
    "        'difference_intelligence_imporatance': difference_intelligence_imporatance,\n",
    "        'difference_funny_imporatance': difference_funny_imporatance,\n",
    "        'difference_ambition_imporatance': difference_ambition_imporatance,\n",
    "        'difference_shared_interests_imporatance': difference_shared_interests_imporatance,\n",
    "        'attractive_difference': attractive_difference,\n",
    "        'sinsere_difference': sinsere_difference,\n",
    "        'intelligence_difference': intelligence_difference,\n",
    "        'funny_difference': funny_difference,\n",
    "        'ambitous_difference': ambitous_difference,\n",
    "        'interests_correlation': interests_correlation,\n",
    "        'target': target\n",
    "    }\n",
    "    new_data_list.append(new_data)\n",
    "\n",
    "new_df = pd.DataFrame(new_data_list)\n",
    "new_df.to_csv('df_differences.csv', index=False)"
   ],
   "metadata": {
    "collapsed": false
   }
  },
  {
   "cell_type": "code",
   "execution_count": null,
   "outputs": [],
   "source": [
    "\"\"\"Sprawdzę jak wyglądają dane\"\"\""
   ],
   "metadata": {
    "collapsed": false
   }
  },
  {
   "cell_type": "code",
   "execution_count": 3,
   "outputs": [
    {
     "name": "stdout",
     "output_type": "stream",
     "text": [
      "<class 'pandas.core.frame.DataFrame'>\n",
      "RangeIndex: 8378 entries, 0 to 8377\n",
      "Data columns (total 16 columns):\n",
      " #   Column                                   Non-Null Count  Dtype  \n",
      "---  ------                                   --------------  -----  \n",
      " 0   difference_age                           8378 non-null   float64\n",
      " 1   difference_race                          8378 non-null   int64  \n",
      " 2   importance_same_race                     8299 non-null   float64\n",
      " 3   difference_attractive_imporatance        8210 non-null   float64\n",
      " 4   difference_sincere_imporatance           8210 non-null   float64\n",
      " 5   difference_intelligence_imporatance      8210 non-null   float64\n",
      " 6   difference_funny_imporatance             8192 non-null   float64\n",
      " 7   difference_ambition_imporatance          8174 non-null   float64\n",
      " 8   difference_shared_interests_imporatance  8130 non-null   float64\n",
      " 9   attractive_difference                    8069 non-null   float64\n",
      " 10  sinsere_difference                       7997 non-null   float64\n",
      " 11  intelligence_difference                  7978 non-null   float64\n",
      " 12  funny_difference                         7923 non-null   float64\n",
      " 13  ambitous_difference                      7563 non-null   float64\n",
      " 14  interests_correlation                    8220 non-null   float64\n",
      " 15  target                                   8378 non-null   int64  \n",
      "dtypes: float64(14), int64(2)\n",
      "memory usage: 1.0 MB\n",
      "<class 'pandas.core.frame.DataFrame'>\n",
      "Index: 7318 entries, 0 to 8377\n",
      "Data columns (total 16 columns):\n",
      " #   Column                                   Non-Null Count  Dtype  \n",
      "---  ------                                   --------------  -----  \n",
      " 0   difference_age                           7318 non-null   float64\n",
      " 1   difference_race                          7318 non-null   int64  \n",
      " 2   importance_same_race                     7318 non-null   float64\n",
      " 3   difference_attractive_imporatance        7318 non-null   float64\n",
      " 4   difference_sincere_imporatance           7318 non-null   float64\n",
      " 5   difference_intelligence_imporatance      7318 non-null   float64\n",
      " 6   difference_funny_imporatance             7318 non-null   float64\n",
      " 7   difference_ambition_imporatance          7318 non-null   float64\n",
      " 8   difference_shared_interests_imporatance  7318 non-null   float64\n",
      " 9   attractive_difference                    7318 non-null   float64\n",
      " 10  sinsere_difference                       7318 non-null   float64\n",
      " 11  intelligence_difference                  7318 non-null   float64\n",
      " 12  funny_difference                         7318 non-null   float64\n",
      " 13  ambitous_difference                      7318 non-null   float64\n",
      " 14  interests_correlation                    7318 non-null   float64\n",
      " 15  target                                   7318 non-null   int64  \n",
      "dtypes: float64(14), int64(2)\n",
      "memory usage: 971.9 KB\n"
     ]
    }
   ],
   "source": [
    "new_df.head()\n",
    "new_df.describe()\n",
    "new_df.info()\n",
    "new_df.isnull().sum()\n",
    "new_df.dropna(inplace=True)\n",
    "new_df.info()"
   ],
   "metadata": {
    "collapsed": false
   }
  },
  {
   "cell_type": "code",
   "execution_count": null,
   "outputs": [],
   "source": [
    "\"\"\"Tworzę pierwszy model - las losowy\"\"\""
   ],
   "metadata": {
    "collapsed": false
   }
  },
  {
   "cell_type": "code",
   "execution_count": 4,
   "outputs": [
    {
     "name": "stdout",
     "output_type": "stream",
     "text": [
      "accuracy:  0.843351548269581\n"
     ]
    }
   ],
   "source": [
    "X_train, X_test, y_train, y_test = train_test_split(new_df.drop('target', axis=1), new_df['target'], test_size=0.15)\n",
    "model = RandomForestClassifier(n_estimators=100, max_depth=10)\n",
    "model.fit(X_train, y_train)\n",
    "y_pred = model.predict(X_test)\n",
    "print(\"accuracy: \", accuracy_score(y_test, y_pred))"
   ],
   "metadata": {
    "collapsed": false
   }
  },
  {
   "cell_type": "code",
   "execution_count": null,
   "outputs": [],
   "source": [
    "\"\"\"Dla podanego modelu accuracy wyniosło >0.80, sprawdzę macierz pomyłek\"\"\""
   ],
   "metadata": {
    "collapsed": false
   }
  },
  {
   "cell_type": "code",
   "execution_count": 5,
   "outputs": [
    {
     "name": "stdout",
     "output_type": "stream",
     "text": [
      "[[925   0]\n",
      " [172   1]]\n"
     ]
    }
   ],
   "source": [
    "print(confusion_matrix(y_test, y_pred))"
   ],
   "metadata": {
    "collapsed": false
   }
  },
  {
   "cell_type": "code",
   "execution_count": 16,
   "outputs": [
    {
     "name": "stdout",
     "output_type": "stream",
     "text": [
      "[[1098]]\n"
     ]
    }
   ],
   "source": [
    "\"\"\"Jak widać, wynik modelu jest \"napompowany\" wynikami negatywnymi, nie umie wskazać pozytywnych randek\"\"\"\n",
    "\"to pokazuje że accuracy NIE POWINNO być używane do oceny modeli - uczestnik nigdy nie dostanie propozycji randki\"\n",
    "\"dla oceny poniższych modeli najważniejsza przyjętą miarą będzie stosunek w ilości sytuacji gdzie model nadał etykietę\"\n",
    "\"1 dla danej testowej w której wynikiem faktycznie było 1 do ilości wszystkich danych w których model nadał etykietę 1\"\n",
    "\"-chodzi o proponowanie ludziom w pierwszej kolejności takich randek które mają szanse powodzenia i by użytkownik jak najszybciej\"\n",
    "\"znalazł odpowiednią osobę\""
   ],
   "metadata": {
    "collapsed": false
   }
  },
  {
   "cell_type": "code",
   "execution_count": 6,
   "outputs": [
    {
     "name": "stdout",
     "output_type": "stream",
     "text": [
      "_____________________\n",
      "proba:  1   1\n",
      "confusion matrix: \n",
      "[[922   3]\n",
      " [169   4]]\n",
      "prawdziwych pozytywnych w stosunku do wszystkich pozytywnych:  0.5714285714285714\n",
      "_____________________\n",
      "_____________________\n",
      "_____________________\n",
      "proba:  1   2\n",
      "confusion matrix: \n",
      "[[909  16]\n",
      " [161  12]]\n",
      "prawdziwych pozytywnych w stosunku do wszystkich pozytywnych:  0.42857142857142855\n",
      "_____________________\n",
      "_____________________\n",
      "_____________________\n",
      "proba:  1   3\n",
      "confusion matrix: \n",
      "[[913  12]\n",
      " [160  13]]\n",
      "prawdziwych pozytywnych w stosunku do wszystkich pozytywnych:  0.52\n",
      "_____________________\n",
      "_____________________\n",
      "_____________________\n",
      "proba:  1   4\n",
      "confusion matrix: \n",
      "[[907  18]\n",
      " [159  14]]\n",
      "prawdziwych pozytywnych w stosunku do wszystkich pozytywnych:  0.4375\n",
      "_____________________\n",
      "_____________________\n",
      "_____________________\n",
      "proba:  1   5\n",
      "confusion matrix: \n",
      "[[912  13]\n",
      " [156  17]]\n",
      "prawdziwych pozytywnych w stosunku do wszystkich pozytywnych:  0.5666666666666667\n",
      "_____________________\n",
      "_____________________\n",
      "_____________________\n",
      "proba:  1   6\n",
      "confusion matrix: \n",
      "[[917   8]\n",
      " [163  10]]\n",
      "prawdziwych pozytywnych w stosunku do wszystkich pozytywnych:  0.5555555555555556\n",
      "_____________________\n",
      "_____________________\n",
      "_____________________\n",
      "proba:  1   7\n",
      "confusion matrix: \n",
      "[[910  15]\n",
      " [161  12]]\n",
      "prawdziwych pozytywnych w stosunku do wszystkich pozytywnych:  0.4444444444444444\n",
      "_____________________\n",
      "_____________________\n",
      "_____________________\n",
      "proba:  1   8\n",
      "confusion matrix: \n",
      "[[912  13]\n",
      " [159  14]]\n",
      "prawdziwych pozytywnych w stosunku do wszystkich pozytywnych:  0.5185185185185185\n",
      "_____________________\n",
      "_____________________\n",
      "_____________________\n",
      "proba:  1   9\n",
      "confusion matrix: \n",
      "[[916   9]\n",
      " [160  13]]\n",
      "prawdziwych pozytywnych w stosunku do wszystkich pozytywnych:  0.5909090909090909\n",
      "_____________________\n",
      "_____________________\n",
      "_____________________\n",
      "proba:  2   1\n",
      "confusion matrix: \n",
      "[[923   2]\n",
      " [171   2]]\n",
      "prawdziwych pozytywnych w stosunku do wszystkich pozytywnych:  0.5\n",
      "_____________________\n",
      "_____________________\n",
      "_____________________\n",
      "proba:  2   2\n",
      "confusion matrix: \n",
      "[[919   6]\n",
      " [164   9]]\n",
      "prawdziwych pozytywnych w stosunku do wszystkich pozytywnych:  0.6\n",
      "_____________________\n",
      "_____________________\n",
      "_____________________\n",
      "proba:  2   3\n",
      "confusion matrix: \n",
      "[[920   5]\n",
      " [163  10]]\n",
      "prawdziwych pozytywnych w stosunku do wszystkich pozytywnych:  0.6666666666666666\n",
      "_____________________\n",
      "_____________________\n",
      "_____________________\n",
      "proba:  2   4\n",
      "confusion matrix: \n",
      "[[918   7]\n",
      " [167   6]]\n",
      "prawdziwych pozytywnych w stosunku do wszystkich pozytywnych:  0.46153846153846156\n",
      "_____________________\n",
      "_____________________\n",
      "_____________________\n",
      "proba:  2   5\n",
      "confusion matrix: \n",
      "[[917   8]\n",
      " [162  11]]\n",
      "prawdziwych pozytywnych w stosunku do wszystkich pozytywnych:  0.5789473684210527\n",
      "_____________________\n",
      "_____________________\n",
      "_____________________\n",
      "proba:  2   6\n",
      "confusion matrix: \n",
      "[[922   3]\n",
      " [163  10]]\n",
      "prawdziwych pozytywnych w stosunku do wszystkich pozytywnych:  0.7692307692307693\n",
      "_____________________\n",
      "_____________________\n",
      "_____________________\n",
      "proba:  2   7\n",
      "confusion matrix: \n",
      "[[918   7]\n",
      " [161  12]]\n",
      "prawdziwych pozytywnych w stosunku do wszystkich pozytywnych:  0.631578947368421\n",
      "_____________________\n",
      "_____________________\n",
      "_____________________\n",
      "proba:  2   8\n",
      "confusion matrix: \n",
      "[[917   8]\n",
      " [167   6]]\n",
      "prawdziwych pozytywnych w stosunku do wszystkich pozytywnych:  0.42857142857142855\n",
      "_____________________\n",
      "_____________________\n",
      "_____________________\n",
      "proba:  2   9\n",
      "confusion matrix: \n",
      "[[919   6]\n",
      " [163  10]]\n",
      "prawdziwych pozytywnych w stosunku do wszystkich pozytywnych:  0.625\n",
      "_____________________\n",
      "_____________________\n",
      "_____________________\n",
      "proba:  3   1\n",
      "confusion matrix: \n",
      "[[925   0]\n",
      " [171   2]]\n",
      "prawdziwych pozytywnych w stosunku do wszystkich pozytywnych:  1.0\n",
      "_____________________\n",
      "_____________________\n",
      "_____________________\n",
      "proba:  3   2\n",
      "confusion matrix: \n",
      "[[919   6]\n",
      " [166   7]]\n",
      "prawdziwych pozytywnych w stosunku do wszystkich pozytywnych:  0.5384615384615384\n",
      "_____________________\n",
      "_____________________\n",
      "_____________________\n",
      "proba:  3   3\n",
      "confusion matrix: \n",
      "[[918   7]\n",
      " [165   8]]\n",
      "prawdziwych pozytywnych w stosunku do wszystkich pozytywnych:  0.5333333333333333\n",
      "_____________________\n",
      "_____________________\n",
      "_____________________\n",
      "proba:  3   4\n",
      "confusion matrix: \n",
      "[[922   3]\n",
      " [167   6]]\n",
      "prawdziwych pozytywnych w stosunku do wszystkich pozytywnych:  0.6666666666666666\n",
      "_____________________\n",
      "_____________________\n",
      "_____________________\n",
      "proba:  3   5\n",
      "confusion matrix: \n",
      "[[919   6]\n",
      " [165   8]]\n",
      "prawdziwych pozytywnych w stosunku do wszystkich pozytywnych:  0.5714285714285714\n",
      "_____________________\n",
      "_____________________\n",
      "_____________________\n",
      "proba:  3   6\n",
      "confusion matrix: \n",
      "[[921   4]\n",
      " [165   8]]\n",
      "prawdziwych pozytywnych w stosunku do wszystkich pozytywnych:  0.6666666666666666\n",
      "_____________________\n",
      "_____________________\n",
      "_____________________\n",
      "proba:  3   7\n",
      "confusion matrix: \n",
      "[[916   9]\n",
      " [168   5]]\n",
      "prawdziwych pozytywnych w stosunku do wszystkich pozytywnych:  0.35714285714285715\n",
      "_____________________\n",
      "_____________________\n",
      "_____________________\n",
      "proba:  3   8\n",
      "confusion matrix: \n",
      "[[919   6]\n",
      " [163  10]]\n",
      "prawdziwych pozytywnych w stosunku do wszystkich pozytywnych:  0.625\n",
      "_____________________\n",
      "_____________________\n",
      "_____________________\n",
      "proba:  3   9\n",
      "confusion matrix: \n",
      "[[922   3]\n",
      " [168   5]]\n",
      "prawdziwych pozytywnych w stosunku do wszystkich pozytywnych:  0.625\n",
      "_____________________\n",
      "_____________________\n",
      "_____________________\n",
      "proba:  4   1\n",
      "confusion matrix: \n",
      "[[925   0]\n",
      " [172   1]]\n",
      "prawdziwych pozytywnych w stosunku do wszystkich pozytywnych:  1.0\n",
      "_____________________\n",
      "_____________________\n",
      "_____________________\n",
      "proba:  4   2\n",
      "confusion matrix: \n",
      "[[918   7]\n",
      " [164   9]]\n",
      "prawdziwych pozytywnych w stosunku do wszystkich pozytywnych:  0.5625\n",
      "_____________________\n",
      "_____________________\n",
      "_____________________\n",
      "proba:  4   3\n",
      "confusion matrix: \n",
      "[[923   2]\n",
      " [161  12]]\n",
      "prawdziwych pozytywnych w stosunku do wszystkich pozytywnych:  0.8571428571428571\n",
      "_____________________\n",
      "_____________________\n",
      "_____________________\n",
      "proba:  4   4\n",
      "confusion matrix: \n",
      "[[920   5]\n",
      " [166   7]]\n",
      "prawdziwych pozytywnych w stosunku do wszystkich pozytywnych:  0.5833333333333334\n",
      "_____________________\n",
      "_____________________\n",
      "_____________________\n",
      "proba:  4   5\n",
      "confusion matrix: \n",
      "[[922   3]\n",
      " [161  12]]\n",
      "prawdziwych pozytywnych w stosunku do wszystkich pozytywnych:  0.8\n",
      "_____________________\n",
      "_____________________\n",
      "_____________________\n",
      "proba:  4   6\n",
      "confusion matrix: \n",
      "[[920   5]\n",
      " [167   6]]\n",
      "prawdziwych pozytywnych w stosunku do wszystkich pozytywnych:  0.5454545454545454\n",
      "_____________________\n",
      "_____________________\n",
      "_____________________\n",
      "proba:  4   7\n",
      "confusion matrix: \n",
      "[[924   1]\n",
      " [165   8]]\n",
      "prawdziwych pozytywnych w stosunku do wszystkich pozytywnych:  0.8888888888888888\n",
      "_____________________\n",
      "_____________________\n",
      "_____________________\n",
      "proba:  4   8\n",
      "confusion matrix: \n",
      "[[919   6]\n",
      " [164   9]]\n",
      "prawdziwych pozytywnych w stosunku do wszystkich pozytywnych:  0.6\n",
      "_____________________\n",
      "_____________________\n",
      "_____________________\n",
      "proba:  4   9\n",
      "confusion matrix: \n",
      "[[920   5]\n",
      " [164   9]]\n",
      "prawdziwych pozytywnych w stosunku do wszystkich pozytywnych:  0.6428571428571429\n",
      "_____________________\n",
      "_____________________\n",
      "_____________________\n",
      "proba:  5   1\n",
      "confusion matrix: \n",
      "[[925   0]\n",
      " [172   1]]\n",
      "prawdziwych pozytywnych w stosunku do wszystkich pozytywnych:  1.0\n",
      "_____________________\n",
      "_____________________\n",
      "_____________________\n",
      "proba:  5   2\n",
      "confusion matrix: \n",
      "[[921   4]\n",
      " [164   9]]\n",
      "prawdziwych pozytywnych w stosunku do wszystkich pozytywnych:  0.6923076923076923\n",
      "_____________________\n",
      "_____________________\n",
      "_____________________\n",
      "proba:  5   3\n",
      "confusion matrix: \n",
      "[[922   3]\n",
      " [164   9]]\n",
      "prawdziwych pozytywnych w stosunku do wszystkich pozytywnych:  0.75\n",
      "_____________________\n",
      "_____________________\n",
      "_____________________\n",
      "proba:  5   4\n",
      "confusion matrix: \n",
      "[[923   2]\n",
      " [166   7]]\n",
      "prawdziwych pozytywnych w stosunku do wszystkich pozytywnych:  0.7777777777777778\n",
      "_____________________\n",
      "_____________________\n",
      "_____________________\n",
      "proba:  5   5\n",
      "confusion matrix: \n",
      "[[924   1]\n",
      " [165   8]]\n",
      "prawdziwych pozytywnych w stosunku do wszystkich pozytywnych:  0.8888888888888888\n",
      "_____________________\n",
      "_____________________\n",
      "_____________________\n",
      "proba:  5   6\n",
      "confusion matrix: \n",
      "[[923   2]\n",
      " [167   6]]\n",
      "prawdziwych pozytywnych w stosunku do wszystkich pozytywnych:  0.75\n",
      "_____________________\n",
      "_____________________\n",
      "_____________________\n",
      "proba:  5   7\n",
      "confusion matrix: \n",
      "[[920   5]\n",
      " [163  10]]\n",
      "prawdziwych pozytywnych w stosunku do wszystkich pozytywnych:  0.6666666666666666\n",
      "_____________________\n",
      "_____________________\n",
      "_____________________\n",
      "proba:  5   8\n",
      "confusion matrix: \n",
      "[[922   3]\n",
      " [167   6]]\n",
      "prawdziwych pozytywnych w stosunku do wszystkich pozytywnych:  0.6666666666666666\n",
      "_____________________\n",
      "_____________________\n",
      "_____________________\n",
      "proba:  5   9\n",
      "confusion matrix: \n",
      "[[922   3]\n",
      " [169   4]]\n",
      "prawdziwych pozytywnych w stosunku do wszystkich pozytywnych:  0.5714285714285714\n",
      "_____________________\n",
      "_____________________\n",
      "_____________________\n",
      "proba:  6   1\n",
      "confusion matrix: \n",
      "[[924   1]\n",
      " [173   0]]\n",
      "prawdziwych pozytywnych w stosunku do wszystkich pozytywnych:  0.0\n",
      "_____________________\n",
      "_____________________\n",
      "_____________________\n",
      "proba:  6   2\n",
      "confusion matrix: \n",
      "[[924   1]\n",
      " [161  12]]\n",
      "prawdziwych pozytywnych w stosunku do wszystkich pozytywnych:  0.9230769230769231\n",
      "_____________________\n",
      "_____________________\n",
      "_____________________\n",
      "proba:  6   3\n",
      "confusion matrix: \n",
      "[[925   0]\n",
      " [166   7]]\n",
      "prawdziwych pozytywnych w stosunku do wszystkich pozytywnych:  1.0\n",
      "_____________________\n",
      "_____________________\n",
      "_____________________\n",
      "proba:  6   4\n",
      "confusion matrix: \n",
      "[[924   1]\n",
      " [168   5]]\n",
      "prawdziwych pozytywnych w stosunku do wszystkich pozytywnych:  0.8333333333333334\n",
      "_____________________\n",
      "_____________________\n",
      "_____________________\n",
      "proba:  6   5\n",
      "confusion matrix: \n",
      "[[924   1]\n",
      " [168   5]]\n",
      "prawdziwych pozytywnych w stosunku do wszystkich pozytywnych:  0.8333333333333334\n",
      "_____________________\n",
      "_____________________\n",
      "_____________________\n",
      "proba:  6   6\n",
      "confusion matrix: \n",
      "[[923   2]\n",
      " [163  10]]\n",
      "prawdziwych pozytywnych w stosunku do wszystkich pozytywnych:  0.8333333333333334\n",
      "_____________________\n",
      "_____________________\n",
      "_____________________\n",
      "proba:  6   7\n",
      "confusion matrix: \n",
      "[[922   3]\n",
      " [167   6]]\n",
      "prawdziwych pozytywnych w stosunku do wszystkich pozytywnych:  0.6666666666666666\n",
      "_____________________\n",
      "_____________________\n",
      "_____________________\n",
      "proba:  6   8\n",
      "confusion matrix: \n",
      "[[922   3]\n",
      " [167   6]]\n",
      "prawdziwych pozytywnych w stosunku do wszystkich pozytywnych:  0.6666666666666666\n",
      "_____________________\n",
      "_____________________\n",
      "_____________________\n",
      "proba:  6   9\n",
      "confusion matrix: \n",
      "[[921   4]\n",
      " [166   7]]\n",
      "prawdziwych pozytywnych w stosunku do wszystkich pozytywnych:  0.6363636363636364\n",
      "_____________________\n",
      "_____________________\n",
      "_____________________\n",
      "proba:  7   1\n",
      "confusion matrix: \n",
      "[[925   0]\n",
      " [172   1]]\n",
      "prawdziwych pozytywnych w stosunku do wszystkich pozytywnych:  1.0\n",
      "_____________________\n",
      "_____________________\n",
      "_____________________\n",
      "proba:  7   2\n",
      "confusion matrix: \n",
      "[[922   3]\n",
      " [167   6]]\n",
      "prawdziwych pozytywnych w stosunku do wszystkich pozytywnych:  0.6666666666666666\n",
      "_____________________\n",
      "_____________________\n",
      "_____________________\n",
      "proba:  7   3\n",
      "confusion matrix: \n",
      "[[924   1]\n",
      " [169   4]]\n",
      "prawdziwych pozytywnych w stosunku do wszystkich pozytywnych:  0.8\n",
      "_____________________\n",
      "_____________________\n",
      "_____________________\n",
      "proba:  7   4\n",
      "confusion matrix: \n",
      "[[922   3]\n",
      " [168   5]]\n",
      "prawdziwych pozytywnych w stosunku do wszystkich pozytywnych:  0.625\n",
      "_____________________\n",
      "_____________________\n",
      "_____________________\n",
      "proba:  7   5\n",
      "confusion matrix: \n",
      "[[923   2]\n",
      " [168   5]]\n",
      "prawdziwych pozytywnych w stosunku do wszystkich pozytywnych:  0.7142857142857143\n",
      "_____________________\n",
      "_____________________\n",
      "_____________________\n",
      "proba:  7   6\n",
      "confusion matrix: \n",
      "[[923   2]\n",
      " [167   6]]\n",
      "prawdziwych pozytywnych w stosunku do wszystkich pozytywnych:  0.75\n",
      "_____________________\n",
      "_____________________\n",
      "_____________________\n",
      "proba:  7   7\n",
      "confusion matrix: \n",
      "[[922   3]\n",
      " [165   8]]\n",
      "prawdziwych pozytywnych w stosunku do wszystkich pozytywnych:  0.7272727272727273\n",
      "_____________________\n",
      "_____________________\n",
      "_____________________\n",
      "proba:  7   8\n",
      "confusion matrix: \n",
      "[[925   0]\n",
      " [167   6]]\n",
      "prawdziwych pozytywnych w stosunku do wszystkich pozytywnych:  1.0\n",
      "_____________________\n",
      "_____________________\n",
      "_____________________\n",
      "proba:  7   9\n",
      "confusion matrix: \n",
      "[[923   2]\n",
      " [170   3]]\n",
      "prawdziwych pozytywnych w stosunku do wszystkich pozytywnych:  0.6\n",
      "_____________________\n",
      "_____________________\n",
      "_____________________\n",
      "proba:  8   1\n",
      "confusion matrix: \n",
      "[[925   0]\n",
      " [172   1]]\n",
      "prawdziwych pozytywnych w stosunku do wszystkich pozytywnych:  1.0\n",
      "_____________________\n",
      "_____________________\n",
      "_____________________\n",
      "proba:  8   2\n",
      "confusion matrix: \n",
      "[[921   4]\n",
      " [168   5]]\n",
      "prawdziwych pozytywnych w stosunku do wszystkich pozytywnych:  0.5555555555555556\n",
      "_____________________\n",
      "_____________________\n",
      "_____________________\n",
      "proba:  8   3\n",
      "confusion matrix: \n",
      "[[922   3]\n",
      " [165   8]]\n",
      "prawdziwych pozytywnych w stosunku do wszystkich pozytywnych:  0.7272727272727273\n",
      "_____________________\n",
      "_____________________\n",
      "_____________________\n",
      "proba:  8   4\n",
      "confusion matrix: \n",
      "[[923   2]\n",
      " [166   7]]\n",
      "prawdziwych pozytywnych w stosunku do wszystkich pozytywnych:  0.7777777777777778\n",
      "_____________________\n",
      "_____________________\n",
      "_____________________\n",
      "proba:  8   5\n",
      "confusion matrix: \n",
      "[[923   2]\n",
      " [166   7]]\n",
      "prawdziwych pozytywnych w stosunku do wszystkich pozytywnych:  0.7777777777777778\n",
      "_____________________\n",
      "_____________________\n",
      "_____________________\n",
      "proba:  8   6\n",
      "confusion matrix: \n",
      "[[923   2]\n",
      " [165   8]]\n",
      "prawdziwych pozytywnych w stosunku do wszystkich pozytywnych:  0.8\n",
      "_____________________\n",
      "_____________________\n",
      "_____________________\n",
      "proba:  8   7\n",
      "confusion matrix: \n",
      "[[923   2]\n",
      " [167   6]]\n",
      "prawdziwych pozytywnych w stosunku do wszystkich pozytywnych:  0.75\n",
      "_____________________\n",
      "_____________________\n",
      "_____________________\n",
      "proba:  8   8\n",
      "confusion matrix: \n",
      "[[923   2]\n",
      " [166   7]]\n",
      "prawdziwych pozytywnych w stosunku do wszystkich pozytywnych:  0.7777777777777778\n",
      "_____________________\n",
      "_____________________\n",
      "_____________________\n",
      "proba:  8   9\n",
      "confusion matrix: \n",
      "[[924   1]\n",
      " [167   6]]\n",
      "prawdziwych pozytywnych w stosunku do wszystkich pozytywnych:  0.8571428571428571\n",
      "_____________________\n",
      "_____________________\n",
      "_____________________\n",
      "proba:  9   1\n",
      "confusion matrix: \n",
      "[[925   0]\n",
      " [172   1]]\n",
      "prawdziwych pozytywnych w stosunku do wszystkich pozytywnych:  1.0\n",
      "_____________________\n",
      "_____________________\n",
      "_____________________\n",
      "proba:  9   2\n",
      "confusion matrix: \n",
      "[[924   1]\n",
      " [169   4]]\n",
      "prawdziwych pozytywnych w stosunku do wszystkich pozytywnych:  0.8\n",
      "_____________________\n",
      "_____________________\n",
      "_____________________\n",
      "proba:  9   3\n",
      "confusion matrix: \n",
      "[[923   2]\n",
      " [167   6]]\n",
      "prawdziwych pozytywnych w stosunku do wszystkich pozytywnych:  0.75\n",
      "_____________________\n",
      "_____________________\n",
      "_____________________\n",
      "proba:  9   4\n",
      "confusion matrix: \n",
      "[[924   1]\n",
      " [165   8]]\n",
      "prawdziwych pozytywnych w stosunku do wszystkich pozytywnych:  0.8888888888888888\n",
      "_____________________\n",
      "_____________________\n",
      "_____________________\n",
      "proba:  9   5\n",
      "confusion matrix: \n",
      "[[922   3]\n",
      " [168   5]]\n",
      "prawdziwych pozytywnych w stosunku do wszystkich pozytywnych:  0.625\n",
      "_____________________\n",
      "_____________________\n",
      "_____________________\n",
      "proba:  9   6\n",
      "confusion matrix: \n",
      "[[923   2]\n",
      " [165   8]]\n",
      "prawdziwych pozytywnych w stosunku do wszystkich pozytywnych:  0.8\n",
      "_____________________\n",
      "_____________________\n",
      "_____________________\n",
      "proba:  9   7\n",
      "confusion matrix: \n",
      "[[924   1]\n",
      " [168   5]]\n",
      "prawdziwych pozytywnych w stosunku do wszystkich pozytywnych:  0.8333333333333334\n",
      "_____________________\n",
      "_____________________\n",
      "_____________________\n",
      "proba:  9   8\n",
      "confusion matrix: \n",
      "[[923   2]\n",
      " [166   7]]\n",
      "prawdziwych pozytywnych w stosunku do wszystkich pozytywnych:  0.7777777777777778\n",
      "_____________________\n",
      "_____________________\n",
      "_____________________\n",
      "proba:  9   9\n",
      "confusion matrix: \n",
      "[[923   2]\n",
      " [164   9]]\n",
      "prawdziwych pozytywnych w stosunku do wszystkich pozytywnych:  0.8181818181818182\n",
      "_____________________\n",
      "_____________________\n"
     ]
    }
   ],
   "source": [
    "\n",
    "for i in range(1,10):\n",
    "    for j in range(1,10):\n",
    "        # X_train, X_test, y_train, y_test = train_test_split(new_df.drop('target', axis=1), new_df['target'], test_size=0.15)\n",
    "        model = RandomForestClassifier(n_estimators=10*i, max_depth=10*j)\n",
    "        model.fit(X_train, y_train)\n",
    "        y_pred = model.predict(X_test)\n",
    "        print(\"_____________________\")\n",
    "        print(\"proba: \", i, \" \", j)\n",
    "        print(\"confusion matrix: \")\n",
    "        print(confusion_matrix(y_test, y_pred))\n",
    "        if confusion_matrix(y_test, y_pred)[1][1]+confusion_matrix(y_test, y_pred)[0][1] == 0:\n",
    "            print(\"brak pozytywnych wyników\")\n",
    "        else:\n",
    "            print(\"prawdziwych pozytywnych w stosunku do wszystkich pozytywnych: \", confusion_matrix(y_test, y_pred)[1][1]/(confusion_matrix(y_test, y_pred)[1][1]+confusion_matrix(y_test, y_pred)[0][1]))\n",
    "        print(\"_____________________\")\n",
    "        print(\"_____________________\")"
   ],
   "metadata": {
    "collapsed": false
   }
  },
  {
   "cell_type": "code",
   "execution_count": 7,
   "outputs": [
    {
     "name": "stdout",
     "output_type": "stream",
     "text": [
      "_____________________\n",
      "confusion matrix: \n",
      "[[918   2]\n",
      " [173   5]]\n",
      "prawdziwych pozytywnych w stosunku do wszystkich pozytywnych:  0.7142857142857143\n",
      "_____________________\n",
      "confusion matrix: \n",
      "[[885   3]\n",
      " [205   5]]\n",
      "prawdziwych pozytywnych w stosunku do wszystkich pozytywnych:  0.625\n",
      "_____________________\n",
      "confusion matrix: \n",
      "[[909   1]\n",
      " [178  10]]\n",
      "prawdziwych pozytywnych w stosunku do wszystkich pozytywnych:  0.9090909090909091\n"
     ]
    }
   ],
   "source": [
    "\"wyniki są dobre dla parametrów n_estimators = 50 i max_depth = 90  , sprawdzę jeszcze kilka razy czy zawsze są one dobre czy tylko raz się udało dla takiego wylosowania danych\"\n",
    "model = RandomForestClassifier(n_estimators=50, max_depth=90)\n",
    "for i in range(3):\n",
    "    X_train, X_test, y_train, y_test = train_test_split(new_df.drop('target', axis=1), new_df['target'], test_size=0.15)\n",
    "    model.fit(X_train, y_train)\n",
    "    y_pred = model.predict(X_test)\n",
    "    print(\"_____________________\")\n",
    "    cm = confusion_matrix(y_test, y_pred)\n",
    "    print(\"confusion matrix: \")\n",
    "    print(cm)\n",
    "    if cm[1][1]+cm[0][1] == 0:\n",
    "        print(\"brak pozytywnych wyników\")\n",
    "    else:\n",
    "        print(\"prawdziwych pozytywnych w stosunku do wszystkich pozytywnych: \", cm[1][1]/(cm[1][1]+cm[0][1]))"
   ],
   "metadata": {
    "collapsed": false
   }
  },
  {
   "cell_type": "code",
   "execution_count": 8,
   "outputs": [
    {
     "name": "stdout",
     "output_type": "stream",
     "text": [
      "_____________________\n",
      "losowo ale z proporcjami\n",
      "confusion matrix: \n",
      "[[765 145]\n",
      " [156  32]]\n",
      "prawdziwych pozytywnych w stosunku do wszystkich pozytywnych:  0.1807909604519774\n"
     ]
    }
   ],
   "source": [
    "\"Jako porównanie sprawdzimy jak poradzi sobie nadawanie etykiet losowo, proporcjonalnie do częstości występowania etykiet w danych\"\n",
    "\"oraz jakie są szanse gdyby użytkownik miał pójść na randkę z jakąkolwiek osobą\"\n",
    "dummy = DummyClassifier(strategy='stratified')\n",
    "dummy.fit(X_train, y_train)\n",
    "y_pred = dummy.predict(X_test)\n",
    "print(\"_____________________\")\n",
    "print(\"losowo ale z proporcjami\")\n",
    "cm = confusion_matrix(y_test, y_pred)\n",
    "print(\"confusion matrix: \")\n",
    "print(cm)\n",
    "if cm[1][1]+cm[0][1] == 0:\n",
    "    print(\"brak pozytywnych wyników\")\n",
    "else:\n",
    "    print(\"prawdziwych pozytywnych w stosunku do wszystkich pozytywnych: \", cm[1][1]/(cm[1][1]+cm[0][1]))"
   ],
   "metadata": {
    "collapsed": false
   }
  },
  {
   "cell_type": "code",
   "execution_count": null,
   "outputs": [],
   "source": [
    "\"Z jednej strony wyniki modelu sąznacznie lepsze, jednak mając zbiór ponad 1000 danych proponuje tylko około\" \\\n",
    "\"10 randek, co oznacza że aplikacja musiała by mieć bardzo dużą bazę użytkowników, żeby w ogóle działała\"\n",
    "\"Teraz dla porównania spróbuję wytrenować sieć neuronową\""
   ],
   "metadata": {
    "collapsed": false
   }
  },
  {
   "cell_type": "code",
   "execution_count": 14,
   "outputs": [
    {
     "name": "stdout",
     "output_type": "stream",
     "text": [
      "Epoch 1/5\n",
      "1555/1555 [==============================] - 3s 1ms/step - loss: 0.4446 - precision: 0.2581\n",
      "Epoch 2/5\n",
      "1555/1555 [==============================] - 2s 1ms/step - loss: 0.4240 - precision: 0.0000e+00\n",
      "Epoch 3/5\n",
      "1555/1555 [==============================] - 2s 1ms/step - loss: 0.4183 - precision: 0.5000\n",
      "Epoch 4/5\n",
      "1555/1555 [==============================] - 2s 1ms/step - loss: 0.4124 - precision: 0.5417\n",
      "Epoch 5/5\n",
      "1555/1555 [==============================] - 2s 1ms/step - loss: 0.4078 - precision: 0.5385\n"
     ]
    },
    {
     "data": {
      "text/plain": "<keras.callbacks.History at 0x20c5eacc190>"
     },
     "execution_count": 14,
     "metadata": {},
     "output_type": "execute_result"
    }
   ],
   "source": [
    "scaler = StandardScaler()\n",
    "X_train = scaler.fit_transform(X_train)\n",
    "X_test = scaler.transform(X_test)\n",
    "model = tf.keras.models.Sequential([\n",
    "    tf.keras.layers.Dense(32, activation='relu', input_shape=(X_train.shape[1],)),\n",
    "    tf.keras.layers.Dense(32, activation='relu'),\n",
    "    tf.keras.layers.Dense(16, activation='relu'),\n",
    "    tf.keras.layers.Dense(1, activation='sigmoid')\n",
    "])\n",
    "\n",
    "model.compile(optimizer='adam', loss='binary_crossentropy', metrics=[\"Precision\"])\n",
    "\n",
    "model.fit(X_train, y_train, epochs=5, batch_size=4 , class_weight={0:1, 1:1}, ) #, class_weight=class_weights)\n"
   ],
   "metadata": {
    "collapsed": false
   }
  },
  {
   "cell_type": "code",
   "execution_count": 15,
   "outputs": [
    {
     "name": "stdout",
     "output_type": "stream",
     "text": [
      "35/35 [==============================] - 0s 899us/step\n",
      "_____________________\n",
      "confusion matrix: \n",
      "[[897  13]\n",
      " [178  10]]\n",
      "prawdziwych pozytywnych w stosunku do wszystkich pozytywnych:  0.43478260869565216\n"
     ]
    }
   ],
   "source": [
    "y_pred = model.predict(X_test)\n",
    "y_pred = [1 if x > 0.5 else 0 for x in y_pred]\n",
    "print(\"_____________________\")\n",
    "cm = confusion_matrix(y_test, y_pred)\n",
    "print(\"confusion matrix: \")\n",
    "print(cm)\n",
    "if cm[1][1]+cm[0][1] == 0:\n",
    "    print(\"brak pozytywnych wyników\")\n",
    "else:\n",
    "    print(\"prawdziwych pozytywnych w stosunku do wszystkich pozytywnych: \", cm[1][1]/(cm[1][1]+cm[0][1]))"
   ],
   "metadata": {
    "collapsed": false
   }
  },
  {
   "cell_type": "code",
   "execution_count": null,
   "outputs": [],
   "source": [
    "\"\"\"Sprawdzę jeszcze czy istnieje możliwość stworzenia modelu w oparciu o maszynę wektorów nośnych\"\"\""
   ],
   "metadata": {
    "collapsed": false
   }
  },
  {
   "cell_type": "code",
   "execution_count": 16,
   "outputs": [
    {
     "name": "stdout",
     "output_type": "stream",
     "text": [
      "_____________________\n",
      "confusion matrix: \n",
      "[[910   0]\n",
      " [188   0]]\n",
      "brak pozytywnych wyników\n"
     ]
    }
   ],
   "source": [
    "SVM = SVC()\n",
    "SVM.fit(X_train, y_train)\n",
    "y_pred = SVM.predict(X_test)\n",
    "print(\"_____________________\")\n",
    "cm = confusion_matrix(y_test, y_pred)\n",
    "print(\"confusion matrix: \")\n",
    "print(cm)\n",
    "if cm[1][1]+cm[0][1] == 0:\n",
    "    print(\"brak pozytywnych wyników\")\n",
    "else:\n",
    "    print(\"prawdziwych pozytywnych w stosunku do wszystkich pozytywnych: \", cm[1][1]/(cm[1][1]+cm[0][1]))"
   ],
   "metadata": {
    "collapsed": false
   }
  },
  {
   "cell_type": "code",
   "execution_count": 79,
   "outputs": [],
   "source": [
    "\"\"\"Wyniki dalej nie są zadowalajace, spróbuję teraz jeszcze raz z wcześniejszymi modelami, ale brakujące wartości uzupełnię przez średnią\"\"\""
   ],
   "metadata": {
    "collapsed": false
   }
  },
  {
   "cell_type": "code",
   "execution_count": 43,
   "outputs": [],
   "source": [
    "df = pd.read_csv(\"df_differences.csv\")\n",
    "df = df.fillna(df.mean())\n",
    "X_train, X_test, y_train, y_test = train_test_split(df.drop('target', axis=1), df['target'], test_size=0.15)"
   ],
   "metadata": {
    "collapsed": false
   }
  },
  {
   "cell_type": "code",
   "execution_count": null,
   "outputs": [],
   "source": [
    "\"\"\"Random Forest\"\"\""
   ],
   "metadata": {
    "collapsed": false
   }
  },
  {
   "cell_type": "code",
   "execution_count": 27,
   "outputs": [
    {
     "name": "stdout",
     "output_type": "stream",
     "text": [
      "_____________________\n",
      "confusion matrix: \n",
      "[[1052    2]\n",
      " [ 197    6]]\n",
      "prawdziwych pozytywnych w stosunku do wszystkich pozytywnych:  0.75\n"
     ]
    }
   ],
   "source": [
    "model = RandomForestClassifier(n_estimators=50, max_depth=90)\n",
    "model.fit(X_train, y_train)\n",
    "y_pred = model.predict(X_test)\n",
    "print(\"_____________________\")\n",
    "cm = confusion_matrix(y_test, y_pred)\n",
    "print(\"confusion matrix: \")\n",
    "print(cm)\n",
    "if cm[1][1]+cm[0][1] == 0:\n",
    "    print(\"brak pozytywnych wyników\")\n",
    "else:\n",
    "    print(\"prawdziwych pozytywnych w stosunku do wszystkich pozytywnych: \", cm[1][1]/(cm[1][1]+cm[0][1]))"
   ],
   "metadata": {
    "collapsed": false
   }
  },
  {
   "cell_type": "code",
   "execution_count": null,
   "outputs": [],
   "source": [
    "\"\"\"Po kilku próbach nie udało mi się zaobserwować poprawy wyników\"\"\"\n",
    "\"\"\"Nasepnie sprawdzę sieć neuronową\"\"\""
   ],
   "metadata": {
    "collapsed": false
   }
  },
  {
   "cell_type": "code",
   "execution_count": 39,
   "outputs": [
    {
     "name": "stdout",
     "output_type": "stream",
     "text": [
      "Epoch 1/5\n",
      "1781/1781 [==============================] - 4s 1ms/step - loss: 0.8309 - precision: 0.2532\n",
      "Epoch 2/5\n",
      "1781/1781 [==============================] - 2s 1ms/step - loss: 0.7994 - precision: 0.2850\n",
      "Epoch 3/5\n",
      "1781/1781 [==============================] - 2s 1ms/step - loss: 0.7880 - precision: 0.3036\n",
      "Epoch 4/5\n",
      "1781/1781 [==============================] - 2s 1ms/step - loss: 0.7793 - precision: 0.3222\n",
      "Epoch 5/5\n",
      "1781/1781 [==============================] - 2s 1ms/step - loss: 0.7682 - precision: 0.3333\n"
     ]
    },
    {
     "data": {
      "text/plain": "<keras.callbacks.History at 0x20c6c454250>"
     },
     "execution_count": 39,
     "metadata": {},
     "output_type": "execute_result"
    }
   ],
   "source": [
    "scaler = StandardScaler()\n",
    "X_train = scaler.fit_transform(X_train)\n",
    "X_test = scaler.transform(X_test)\n",
    "model = tf.keras.models.Sequential([\n",
    "    tf.keras.layers.Dense(32, activation='relu', input_shape=(X_train.shape[1],)),\n",
    "    tf.keras.layers.Dense(32, activation='relu'),\n",
    "    tf.keras.layers.Dense(16, activation='relu'),\n",
    "    tf.keras.layers.Dense(1, activation='sigmoid')\n",
    "])\n",
    "\n",
    "model.compile(optimizer='adam', loss='binary_crossentropy', metrics=[\"Precision\"])\n",
    "\n",
    "model.fit(X_train, y_train, epochs=5, batch_size=4 , class_weight={0:1, 1:3}, ) #, class_weight=class_weights)\n"
   ],
   "metadata": {
    "collapsed": false
   }
  },
  {
   "cell_type": "code",
   "execution_count": 40,
   "outputs": [
    {
     "name": "stdout",
     "output_type": "stream",
     "text": [
      "40/40 [==============================] - 0s 1ms/step\n",
      "_____________________\n",
      "confusion matrix: \n",
      "[[855 190]\n",
      " [121  91]]\n",
      "prawdziwych pozytywnych w stosunku do wszystkich pozytywnych:  0.3238434163701068\n"
     ]
    }
   ],
   "source": [
    "y_pred = model.predict(X_test)\n",
    "y_pred = [1 if x > 0.5 else 0 for x in y_pred]\n",
    "print(\"_____________________\")\n",
    "cm = confusion_matrix(y_test, y_pred)\n",
    "print(\"confusion matrix: \")\n",
    "print(cm)\n",
    "if cm[1][1]+cm[0][1] == 0:\n",
    "    print(\"brak pozytywnych wyników\")\n",
    "else:\n",
    "    print(\"prawdziwych pozytywnych w stosunku do wszystkich pozytywnych: \", cm[1][1]/(cm[1][1]+cm[0][1]))"
   ],
   "metadata": {
    "collapsed": false
   }
  },
  {
   "cell_type": "code",
   "execution_count": null,
   "outputs": [],
   "source": [
    "\"\"\"Po kilkukrotnym wyuczeniu modelu z różnymi parametramy również nie zaobserwowałem poprawy, jednak więcej razy model oznacza dane jako pozytywne, więc w przypadku użycia w aplikacji randkowej rzadziej zdarzy się sytuacja, że użytkownikowi nie zostanie zaproponowana randka, która mu odpowiada\"\"\"\n",
    "\"\"\"Na koniec sprawdzę jeszcze maszynę wektorów nośnych\"\"\""
   ],
   "metadata": {
    "collapsed": false
   }
  },
  {
   "cell_type": "code",
   "execution_count": 44,
   "outputs": [
    {
     "name": "stdout",
     "output_type": "stream",
     "text": [
      "_____________________\n",
      "confusion matrix: \n",
      "[[1056    0]\n",
      " [ 201    0]]\n",
      "brak pozytywnych wyników\n"
     ]
    }
   ],
   "source": [
    "SVM = SVC()\n",
    "SVM.fit(X_train, y_train)\n",
    "y_pred = SVM.predict(X_test)\n",
    "print(\"_____________________\")\n",
    "cm = confusion_matrix(y_test, y_pred)\n",
    "print(\"confusion matrix: \")\n",
    "print(cm)\n",
    "if cm[1][1]+cm[0][1] == 0:\n",
    "    print(\"brak pozytywnych wyników\")\n",
    "else:\n",
    "    print(\"prawdziwych pozytywnych w stosunku do wszystkich pozytywnych: \", cm[1][1]/(cm[1][1]+cm[0][1]))"
   ],
   "metadata": {
    "collapsed": false
   }
  },
  {
   "cell_type": "code",
   "execution_count": null,
   "outputs": [],
   "source": [
    "'''Również nie zaobserwowałem znaczącej poprawy'''\n",
    "'''Na koniec spróbuję jeszcze poprawić działanie modelu poprzez wyważenie danych metodą oversamplingu'''"
   ],
   "metadata": {
    "collapsed": false
   }
  },
  {
   "cell_type": "code",
   "execution_count": 59,
   "outputs": [],
   "source": [
    "df = pd.read_csv(\"df_differences.csv\")\n",
    "oversampler = SMOTE()\n",
    "df = df.fillna(df.mean())\n",
    "X_train, X_test, y_train, y_test = train_test_split(df.drop('target', axis=1), df['target'], test_size=0.15)\n",
    "X_train, y_train = oversampler.fit_resample(X_train, y_train)"
   ],
   "metadata": {
    "collapsed": false
   }
  },
  {
   "cell_type": "code",
   "execution_count": 52,
   "outputs": [
    {
     "name": "stdout",
     "output_type": "stream",
     "text": [
      "_____________________\n",
      "confusion matrix: \n",
      "[[1063   14]\n",
      " [ 170   10]]\n",
      "prawdziwych pozytywnych w stosunku do wszystkich pozytywnych:  0.4166666666666667\n"
     ]
    }
   ],
   "source": [
    "model = RandomForestClassifier(n_estimators=50, max_depth=90)\n",
    "model.fit(X_train, y_train)\n",
    "y_pred = model.predict(X_test)\n",
    "print(\"_____________________\")\n",
    "cm = confusion_matrix(y_test, y_pred)\n",
    "print(\"confusion matrix: \")\n",
    "print(cm)\n",
    "if cm[1][1]+cm[0][1] == 0:\n",
    "    print(\"brak pozytywnych wyników\")\n",
    "else:\n",
    "    print(\"prawdziwych pozytywnych w stosunku do wszystkich pozytywnych: \", cm[1][1]/(cm[1][1]+cm[0][1]))"
   ],
   "metadata": {
    "collapsed": false
   }
  },
  {
   "cell_type": "code",
   "execution_count": 60,
   "outputs": [
    {
     "name": "stdout",
     "output_type": "stream",
     "text": [
      "Epoch 1/5\n",
      "2976/2976 [==============================] - 5s 1ms/step - loss: 0.5994 - precision: 0.6558\n",
      "Epoch 2/5\n",
      "2976/2976 [==============================] - 4s 1ms/step - loss: 0.5626 - precision: 0.6884\n",
      "Epoch 3/5\n",
      "2976/2976 [==============================] - 3s 1ms/step - loss: 0.5400 - precision: 0.7044\n",
      "Epoch 4/5\n",
      "2976/2976 [==============================] - 3s 1ms/step - loss: 0.5205 - precision: 0.7176\n",
      "Epoch 5/5\n",
      "2976/2976 [==============================] - 3s 1ms/step - loss: 0.5019 - precision: 0.7294\n"
     ]
    },
    {
     "data": {
      "text/plain": "<keras.callbacks.History at 0x20c737bda90>"
     },
     "execution_count": 60,
     "metadata": {},
     "output_type": "execute_result"
    }
   ],
   "source": [
    "scaler = StandardScaler()\n",
    "X_train = scaler.fit_transform(X_train)\n",
    "X_test = scaler.transform(X_test)\n",
    "model = tf.keras.models.Sequential([\n",
    "    tf.keras.layers.Dense(32, activation='relu', input_shape=(X_train.shape[1],)),\n",
    "    tf.keras.layers.Dense(32, activation='relu'),\n",
    "    tf.keras.layers.Dense(16, activation='relu'),\n",
    "    tf.keras.layers.Dense(1, activation='sigmoid')\n",
    "])\n",
    "\n",
    "model.compile(optimizer='adam', loss='binary_crossentropy', metrics=[\"Precision\"])\n",
    "\n",
    "model.fit(X_train, y_train, epochs=5, batch_size=4) #, class_weight=class_weights)\n"
   ],
   "metadata": {
    "collapsed": false
   }
  },
  {
   "cell_type": "code",
   "execution_count": 61,
   "outputs": [
    {
     "name": "stdout",
     "output_type": "stream",
     "text": [
      "40/40 [==============================] - 0s 1ms/step\n",
      "_____________________\n",
      "confusion matrix: \n",
      "[[734 313]\n",
      " [112  98]]\n",
      "prawdziwych pozytywnych w stosunku do wszystkich pozytywnych:  0.2384428223844282\n"
     ]
    }
   ],
   "source": [
    "y_pred = model.predict(X_test)\n",
    "y_pred = [1 if x > 0.5 else 0 for x in y_pred]\n",
    "print(\"_____________________\")\n",
    "cm = confusion_matrix(y_test, y_pred)\n",
    "print(\"confusion matrix: \")\n",
    "print(cm)\n",
    "if cm[1][1]+cm[0][1] == 0:\n",
    "    print(\"brak pozytywnych wyników\")\n",
    "else:\n",
    "    print(\"prawdziwych pozytywnych w stosunku do wszystkich pozytywnych: \", cm[1][1]/(cm[1][1]+cm[0][1]))"
   ],
   "metadata": {
    "collapsed": false
   }
  },
  {
   "cell_type": "code",
   "execution_count": 62,
   "outputs": [
    {
     "name": "stdout",
     "output_type": "stream",
     "text": [
      "_____________________\n",
      "confusion matrix: \n",
      "[[736 311]\n",
      " [103 107]]\n",
      "prawdziwych pozytywnych w stosunku do wszystkich pozytywnych:  0.25598086124401914\n"
     ]
    }
   ],
   "source": [
    "model = SVC()\n",
    "model.fit(X_train, y_train)\n",
    "y_pred = model.predict(X_test)\n",
    "print(\"_____________________\")\n",
    "cm = confusion_matrix(y_test, y_pred)\n",
    "print(\"confusion matrix: \")\n",
    "print(cm)\n",
    "if cm[1][1]+cm[0][1] == 0:\n",
    "    print(\"brak pozytywnych wyników\")\n",
    "else:\n",
    "    print(\"prawdziwych pozytywnych w stosunku do wszystkich pozytywnych: \", cm[1][1]/(cm[1][1]+cm[0][1]))"
   ],
   "metadata": {
    "collapsed": false
   }
  },
  {
   "cell_type": "code",
   "execution_count": 65,
   "outputs": [
    {
     "data": {
      "text/plain": "'na dane testowe i treningowe czasem mniej niż 10 osób zostaje ze sobą połączonych'"
     },
     "execution_count": 65,
     "metadata": {},
     "output_type": "execute_result"
    }
   ],
   "source": [
    "\"\"\"Ponownie nie zaobserwowałem by któych model mógł stanowić podstawę wyboru partnera\"\"\"\n",
    "\"\"\"Do zastosowania w aplikacji najlepiej z przetestowanych modeli nadaje się las losowy, jednak jest on 'oszczędny'\"\"\"\n",
    "\"\"\"w ilości przedstawianych rozwiązań, dla 1000 próbek zaledwie przy niektóych losowaniach podziału\"\"\"\n",
    "\"\"\"na dane testowe i treningowe czasem mniej niż 10 osób zostaje ze sobą połączonych\"\"\""
   ],
   "metadata": {
    "collapsed": false
   }
  },
  {
   "cell_type": "code",
   "execution_count": null,
   "outputs": [],
   "source": [],
   "metadata": {
    "collapsed": false
   }
  }
 ],
 "metadata": {
  "kernelspec": {
   "display_name": "Python 3",
   "language": "python",
   "name": "python3"
  },
  "language_info": {
   "codemirror_mode": {
    "name": "ipython",
    "version": 2
   },
   "file_extension": ".py",
   "mimetype": "text/x-python",
   "name": "python",
   "nbconvert_exporter": "python",
   "pygments_lexer": "ipython2",
   "version": "2.7.6"
  }
 },
 "nbformat": 4,
 "nbformat_minor": 0
}
