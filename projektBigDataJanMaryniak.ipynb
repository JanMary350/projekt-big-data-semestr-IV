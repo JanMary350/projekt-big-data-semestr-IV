{
 "cells": [
  {
   "cell_type": "code",
   "execution_count": 180,
   "metadata": {
    "collapsed": true
   },
   "outputs": [],
   "source": [
    "import pandas as pd\n",
    "from sklearn.ensemble import RandomForestClassifier\n",
    "from sklearn.model_selection import train_test_split\n",
    "from sklearn.preprocessing import StandardScaler\n",
    "from sklearn.metrics import accuracy_score\n",
    "from sklearn.metrics import confusion_matrix\n",
    "from sklearn.dummy import DummyClassifier\n",
    "import tensorflow as tf\n",
    "from sklearn.svm import SVC\n",
    "from imblearn.over_sampling import SMOTE\n",
    "from scipy.io import arff\n",
    "import matplotlib.pyplot as plt"
   ]
  },
  {
   "cell_type": "code",
   "execution_count": 181,
   "outputs": [],
   "source": [
    "\"\"\"Zamiana formatu danych z arff na csv w celu ułatwienia późniejszej pracy\"\"\"\n",
    "data = arff.loadarff('speeddating.arff')\n",
    "df = pd.DataFrame(data[0])\n",
    "for attribute in df.columns:\n",
    "    if df[attribute].dtype == 'object':\n",
    "        df[attribute] = df[attribute].str.decode('utf-8')\n",
    "\n",
    "df.to_csv('speeddating.csv', index=False)"
   ],
   "metadata": {
    "collapsed": false
   }
  },
  {
   "cell_type": "code",
   "execution_count": 182,
   "outputs": [],
   "source": [
    "\"\"\"Tworzę nową ramkę danych z różnicami między parami (różnica wieku, rasy, jak ważna dla ankietowanej osoby jest wspólna rasa,\n",
    "różnice w ocenie oraz oczekiwaniach atrakcyjności, szczerości, inteligencji, dowcipu, ambicji, wspólnych zainteresowań,\n",
    "orelacja wspólnych zainteresowań - dane możliwe do uzyskania podczas ankiety przed randką\"\"\"\n",
    "df = pd.read_csv('speeddating.csv')\n",
    "new_df = pd.DataFrame()\n",
    "new_data_list = []\n",
    "for row in df.itertuples():\n",
    "\n",
    "    difference_age = row[6]\n",
    "    difference_race = row[10]\n",
    "    importance_same_race = row[11]\n",
    "    difference_attractive_imporatance = abs(row[16]-row[40])\n",
    "    difference_sincere_imporatance = abs(row[17]-row[41])\n",
    "    difference_intelligence_imporatance = abs(row[18]-row[42])\n",
    "    difference_funny_imporatance = abs(row[19]-row[43])\n",
    "    difference_ambition_imporatance = abs(row[20]-row[44])\n",
    "    difference_shared_interests_imporatance = abs(row[21]-row[45])\n",
    "    attractive_difference = abs(row[28] - row[52])\n",
    "    sinsere_difference = abs(row[29] - row[53])\n",
    "    intelligence_difference = abs(row[30] - row[54])\n",
    "    funny_difference = abs(row[31] - row[55])\n",
    "    ambitous_difference = abs(row[32] - row[56])\n",
    "    interests_correlation = row[108]\n",
    "    target = row[123]\n",
    "\n",
    "    new_data = {\n",
    "        'difference_age': difference_age,\n",
    "        'difference_race': difference_race,\n",
    "        'importance_same_race': importance_same_race,\n",
    "        'difference_attractive_imporatance': difference_attractive_imporatance,\n",
    "        'difference_sincere_imporatance': difference_sincere_imporatance,\n",
    "        'difference_intelligence_imporatance': difference_intelligence_imporatance,\n",
    "        'difference_funny_imporatance': difference_funny_imporatance,\n",
    "        'difference_ambition_imporatance': difference_ambition_imporatance,\n",
    "        'difference_shared_interests_imporatance': difference_shared_interests_imporatance,\n",
    "        'attractive_difference': attractive_difference,\n",
    "        'sinsere_difference': sinsere_difference,\n",
    "        'intelligence_difference': intelligence_difference,\n",
    "        'funny_difference': funny_difference,\n",
    "        'ambitous_difference': ambitous_difference,\n",
    "        'interests_correlation': interests_correlation,\n",
    "        'target': target\n",
    "    }\n",
    "    new_data_list.append(new_data)\n",
    "\n",
    "new_df = pd.DataFrame(new_data_list)\n",
    "new_df.to_csv('df_differences.csv', index=False)"
   ],
   "metadata": {
    "collapsed": false
   }
  },
  {
   "cell_type": "code",
   "execution_count": 183,
   "outputs": [
    {
     "data": {
      "text/plain": "'Sprawdzę jak wyglądają dane'"
     },
     "execution_count": 183,
     "metadata": {},
     "output_type": "execute_result"
    }
   ],
   "source": [
    "\"\"\"Sprawdzę jak wyglądają dane\"\"\""
   ],
   "metadata": {
    "collapsed": false
   }
  },
  {
   "cell_type": "code",
   "execution_count": 184,
   "outputs": [
    {
     "name": "stdout",
     "output_type": "stream",
     "text": [
      "   difference_age  difference_race  importance_same_race   \n",
      "0             6.0                0                   2.0  \\\n",
      "1             1.0                0                   2.0   \n",
      "2             1.0                1                   2.0   \n",
      "3             2.0                0                   2.0   \n",
      "4             3.0                0                   2.0   \n",
      "\n",
      "   difference_attractive_imporatance  difference_sincere_imporatance   \n",
      "0                               20.0                             0.0  \\\n",
      "1                               45.0                            20.0   \n",
      "2                                4.0                             2.0   \n",
      "3                               15.0                            15.0   \n",
      "4                               15.0                            10.0   \n",
      "\n",
      "   difference_intelligence_imporatance  difference_funny_imporatance   \n",
      "0                                  0.0                           5.0  \\\n",
      "1                                 20.0                          25.0   \n",
      "2                                  1.0                           3.0   \n",
      "3                                  5.0                          25.0   \n",
      "4                                  0.0                           5.0   \n",
      "\n",
      "   difference_ambition_imporatance  difference_shared_interests_imporatance   \n",
      "0                             15.0                                     10.0  \\\n",
      "1                             15.0                                     15.0   \n",
      "2                              1.0                                      3.0   \n",
      "3                             10.0                                     10.0   \n",
      "4                              5.0                                      5.0   \n",
      "\n",
      "   attractive_difference  sinsere_difference  intelligence_difference   \n",
      "0                    0.0                 0.0                      0.0  \\\n",
      "1                    1.0                 0.0                      2.0   \n",
      "2                    4.0                 2.0                      2.0   \n",
      "3                    1.0                 0.0                      1.0   \n",
      "4                    2.0                 1.0                      1.0   \n",
      "\n",
      "   funny_difference  ambitous_difference  interests_correlation  target  \n",
      "0               0.0                  1.0                   0.14       0  \n",
      "1               1.0                  0.0                   0.54       0  \n",
      "2               2.0                  3.0                   0.16       1  \n",
      "3               0.0                  2.0                   0.61       1  \n",
      "4               2.0                  2.0                   0.21       1  \n",
      "       difference_age  difference_race  importance_same_race   \n",
      "count     8378.000000      8378.000000           8299.000000  \\\n",
      "mean         4.185605         0.395799              3.784793   \n",
      "std          4.596171         0.489051              2.845708   \n",
      "min          0.000000         0.000000              0.000000   \n",
      "25%          1.000000         0.000000              1.000000   \n",
      "50%          3.000000         0.000000              3.000000   \n",
      "75%          5.000000         1.000000              6.000000   \n",
      "max         37.000000         1.000000             10.000000   \n",
      "\n",
      "       difference_attractive_imporatance  difference_sincere_imporatance   \n",
      "count                        8210.000000                     8210.000000  \\\n",
      "mean                           12.594058                        7.219474   \n",
      "std                            13.277403                        6.866788   \n",
      "min                             0.000000                        0.000000   \n",
      "25%                             4.310000                        2.000000   \n",
      "50%                            10.000000                        5.000000   \n",
      "75%                            15.510000                       10.000000   \n",
      "max                            90.910000                       55.000000   \n",
      "\n",
      "       difference_intelligence_imporatance  difference_funny_imporatance   \n",
      "count                          8210.000000                   8192.000000  \\\n",
      "mean                              6.697491                      6.269131   \n",
      "std                               6.787929                      5.934610   \n",
      "min                               0.000000                      0.000000   \n",
      "25%                               1.400000                      1.750000   \n",
      "50%                               5.000000                      5.000000   \n",
      "75%                              10.000000                     10.000000   \n",
      "max                              50.000000                     45.000000   \n",
      "\n",
      "       difference_ambition_imporatance   \n",
      "count                      8174.000000  \\\n",
      "mean                          6.827678   \n",
      "std                           5.341206   \n",
      "min                           0.000000   \n",
      "25%                           3.000000   \n",
      "50%                           5.000000   \n",
      "75%                          10.000000   \n",
      "max                          53.000000   \n",
      "\n",
      "       difference_shared_interests_imporatance  attractive_difference   \n",
      "count                              8130.000000            8069.000000  \\\n",
      "mean                                  6.925843               1.836275   \n",
      "std                                   5.614841               1.498740   \n",
      "min                                   0.000000               0.000000   \n",
      "25%                                   2.750000               1.000000   \n",
      "50%                                   5.000000               2.000000   \n",
      "75%                                  10.000000               3.000000   \n",
      "max                                  30.000000               9.000000   \n",
      "\n",
      "       sinsere_difference  intelligence_difference  funny_difference   \n",
      "count         7997.000000              7978.000000       7923.000000  \\\n",
      "mean             1.957484                 1.744548          2.398586   \n",
      "std              1.563143                 1.417507          1.839504   \n",
      "min              0.000000                 0.000000          0.000000   \n",
      "25%              1.000000                 1.000000          1.000000   \n",
      "50%              2.000000                 1.000000          2.000000   \n",
      "75%              3.000000                 2.000000          3.000000   \n",
      "max             10.000000                 9.000000         10.000000   \n",
      "\n",
      "       ambitous_difference  interests_correlation       target  \n",
      "count          7563.000000            8220.000000  8378.000000  \n",
      "mean              2.034047               0.196010     0.164717  \n",
      "std               1.603994               0.303539     0.370947  \n",
      "min               0.000000              -0.830000     0.000000  \n",
      "25%               1.000000              -0.020000     0.000000  \n",
      "50%               2.000000               0.210000     0.000000  \n",
      "75%               3.000000               0.430000     0.000000  \n",
      "max               9.000000               0.910000     1.000000  \n",
      "target\n",
      "0    6998\n",
      "1    1380\n",
      "Name: count, dtype: int64\n",
      "<class 'pandas.core.frame.DataFrame'>\n",
      "RangeIndex: 8378 entries, 0 to 8377\n",
      "Data columns (total 16 columns):\n",
      " #   Column                                   Non-Null Count  Dtype  \n",
      "---  ------                                   --------------  -----  \n",
      " 0   difference_age                           8378 non-null   float64\n",
      " 1   difference_race                          8378 non-null   int64  \n",
      " 2   importance_same_race                     8299 non-null   float64\n",
      " 3   difference_attractive_imporatance        8210 non-null   float64\n",
      " 4   difference_sincere_imporatance           8210 non-null   float64\n",
      " 5   difference_intelligence_imporatance      8210 non-null   float64\n",
      " 6   difference_funny_imporatance             8192 non-null   float64\n",
      " 7   difference_ambition_imporatance          8174 non-null   float64\n",
      " 8   difference_shared_interests_imporatance  8130 non-null   float64\n",
      " 9   attractive_difference                    8069 non-null   float64\n",
      " 10  sinsere_difference                       7997 non-null   float64\n",
      " 11  intelligence_difference                  7978 non-null   float64\n",
      " 12  funny_difference                         7923 non-null   float64\n",
      " 13  ambitous_difference                      7563 non-null   float64\n",
      " 14  interests_correlation                    8220 non-null   float64\n",
      " 15  target                                   8378 non-null   int64  \n",
      "dtypes: float64(14), int64(2)\n",
      "memory usage: 1.0 MB\n",
      "None\n",
      "difference_age                               0\n",
      "difference_race                              0\n",
      "importance_same_race                        79\n",
      "difference_attractive_imporatance          168\n",
      "difference_sincere_imporatance             168\n",
      "difference_intelligence_imporatance        168\n",
      "difference_funny_imporatance               186\n",
      "difference_ambition_imporatance            204\n",
      "difference_shared_interests_imporatance    248\n",
      "attractive_difference                      309\n",
      "sinsere_difference                         381\n",
      "intelligence_difference                    400\n",
      "funny_difference                           455\n",
      "ambitous_difference                        815\n",
      "interests_correlation                      158\n",
      "target                                       0\n",
      "dtype: int64\n",
      "None\n",
      "<class 'pandas.core.frame.DataFrame'>\n",
      "Index: 7318 entries, 0 to 8377\n",
      "Data columns (total 16 columns):\n",
      " #   Column                                   Non-Null Count  Dtype  \n",
      "---  ------                                   --------------  -----  \n",
      " 0   difference_age                           7318 non-null   float64\n",
      " 1   difference_race                          7318 non-null   int64  \n",
      " 2   importance_same_race                     7318 non-null   float64\n",
      " 3   difference_attractive_imporatance        7318 non-null   float64\n",
      " 4   difference_sincere_imporatance           7318 non-null   float64\n",
      " 5   difference_intelligence_imporatance      7318 non-null   float64\n",
      " 6   difference_funny_imporatance             7318 non-null   float64\n",
      " 7   difference_ambition_imporatance          7318 non-null   float64\n",
      " 8   difference_shared_interests_imporatance  7318 non-null   float64\n",
      " 9   attractive_difference                    7318 non-null   float64\n",
      " 10  sinsere_difference                       7318 non-null   float64\n",
      " 11  intelligence_difference                  7318 non-null   float64\n",
      " 12  funny_difference                         7318 non-null   float64\n",
      " 13  ambitous_difference                      7318 non-null   float64\n",
      " 14  interests_correlation                    7318 non-null   float64\n",
      " 15  target                                   7318 non-null   int64  \n",
      "dtypes: float64(14), int64(2)\n",
      "memory usage: 971.9 KB\n",
      "None\n"
     ]
    }
   ],
   "source": [
    "print(new_df.head())\n",
    "print(new_df.describe())\n",
    "print(new_df[\"target\"].value_counts())\n",
    "print(new_df.info())\n",
    "print(new_df.isnull().sum())\n",
    "print(new_df.dropna(inplace=True))\n",
    "print(new_df.info())"
   ],
   "metadata": {
    "collapsed": false
   }
  },
  {
   "cell_type": "code",
   "execution_count": 185,
   "outputs": [
    {
     "data": {
      "text/plain": "'Tworzę pierwszy model - las losowy'"
     },
     "execution_count": 185,
     "metadata": {},
     "output_type": "execute_result"
    }
   ],
   "source": [
    "\"\"\"Tworzę pierwszy model - las losowy\"\"\""
   ],
   "metadata": {
    "collapsed": false
   }
  },
  {
   "cell_type": "code",
   "execution_count": 185,
   "outputs": [],
   "source": [],
   "metadata": {
    "collapsed": false
   }
  },
  {
   "cell_type": "code",
   "execution_count": 186,
   "outputs": [
    {
     "name": "stdout",
     "output_type": "stream",
     "text": [
      "accuracy:  0.8342440801457195\n"
     ]
    }
   ],
   "source": [
    "X_train, X_test, y_train, y_test = train_test_split(new_df.drop('target', axis=1), new_df['target'], test_size=0.15)\n",
    "model = RandomForestClassifier(n_estimators=100, max_depth=10)\n",
    "model.fit(X_train, y_train)\n",
    "y_pred = model.predict(X_test)\n",
    "print(\"accuracy: \", accuracy_score(y_test, y_pred))"
   ],
   "metadata": {
    "collapsed": false
   }
  },
  {
   "cell_type": "code",
   "execution_count": 187,
   "outputs": [
    {
     "data": {
      "text/plain": "'Dla podanego modelu accuracy wyniosło >0.80, sprawdzę macierz pomyłek'"
     },
     "execution_count": 187,
     "metadata": {},
     "output_type": "execute_result"
    }
   ],
   "source": [
    "\"\"\"Dla podanego modelu accuracy wyniosło >0.80, sprawdzę macierz pomyłek\"\"\""
   ],
   "metadata": {
    "collapsed": false
   }
  },
  {
   "cell_type": "code",
   "execution_count": 188,
   "outputs": [
    {
     "name": "stdout",
     "output_type": "stream",
     "text": [
      "[[916   0]\n",
      " [182   0]]\n"
     ]
    }
   ],
   "source": [
    "print(confusion_matrix(y_test, y_pred))"
   ],
   "metadata": {
    "collapsed": false
   }
  },
  {
   "cell_type": "code",
   "execution_count": 189,
   "outputs": [
    {
     "data": {
      "text/plain": "'znalazł odpowiednią osobę'"
     },
     "execution_count": 189,
     "metadata": {},
     "output_type": "execute_result"
    }
   ],
   "source": [
    "\"\"\"Jak widać, wynik modelu jest \"napompowany\" wynikami negatywnymi, nie umie wskazać pozytywnych randek\"\"\"\n",
    "\"to pokazuje że accuracy NIE POWINNO być używane do oceny modeli - uczestnik nigdy nie dostanie propozycji randki\"\n",
    "\"dla oceny poniższych modeli najważniejsza przyjętą miarą będzie stosunek w ilości sytuacji gdzie model nadał etykietę\"\n",
    "\"1 dla danej testowej w której wynikiem faktycznie było 1 do ilości wszystkich danych w których model nadał etykietę 1\"\n",
    "\"-chodzi o proponowanie ludziom w pierwszej kolejności takich randek które mają szanse powodzenia i by użytkownik jak najszybciej\"\n",
    "\"znalazł odpowiednią osobę\""
   ],
   "metadata": {
    "collapsed": false
   }
  },
  {
   "cell_type": "code",
   "execution_count": 190,
   "outputs": [
    {
     "name": "stdout",
     "output_type": "stream",
     "text": [
      "_____________________\n",
      "proba:  1   1\n",
      "confusion matrix: \n",
      "[[914   2]\n",
      " [179   3]]\n",
      "prawdziwych pozytywnych w stosunku do wszystkich pozytywnych:  0.6\n",
      "_____________________\n",
      "_____________________\n",
      "_____________________\n",
      "proba:  1   2\n",
      "confusion matrix: \n",
      "[[900  16]\n",
      " [165  17]]\n",
      "prawdziwych pozytywnych w stosunku do wszystkich pozytywnych:  0.5151515151515151\n",
      "_____________________\n",
      "_____________________\n",
      "_____________________\n",
      "proba:  1   3\n",
      "confusion matrix: \n",
      "[[903  13]\n",
      " [164  18]]\n",
      "prawdziwych pozytywnych w stosunku do wszystkich pozytywnych:  0.5806451612903226\n",
      "_____________________\n",
      "_____________________\n",
      "_____________________\n",
      "proba:  1   4\n",
      "confusion matrix: \n",
      "[[906  10]\n",
      " [170  12]]\n",
      "prawdziwych pozytywnych w stosunku do wszystkich pozytywnych:  0.5454545454545454\n",
      "_____________________\n",
      "_____________________\n",
      "_____________________\n",
      "proba:  1   5\n",
      "confusion matrix: \n",
      "[[892  24]\n",
      " [172  10]]\n",
      "prawdziwych pozytywnych w stosunku do wszystkich pozytywnych:  0.29411764705882354\n",
      "_____________________\n",
      "_____________________\n",
      "_____________________\n",
      "proba:  1   6\n",
      "confusion matrix: \n",
      "[[903  13]\n",
      " [174   8]]\n",
      "prawdziwych pozytywnych w stosunku do wszystkich pozytywnych:  0.38095238095238093\n",
      "_____________________\n",
      "_____________________\n",
      "_____________________\n",
      "proba:  1   7\n",
      "confusion matrix: \n",
      "[[911   5]\n",
      " [171  11]]\n",
      "prawdziwych pozytywnych w stosunku do wszystkich pozytywnych:  0.6875\n",
      "_____________________\n",
      "_____________________\n",
      "_____________________\n",
      "proba:  1   8\n",
      "confusion matrix: \n",
      "[[900  16]\n",
      " [161  21]]\n",
      "prawdziwych pozytywnych w stosunku do wszystkich pozytywnych:  0.5675675675675675\n",
      "_____________________\n",
      "_____________________\n",
      "_____________________\n",
      "proba:  1   9\n",
      "confusion matrix: \n",
      "[[898  18]\n",
      " [172  10]]\n",
      "prawdziwych pozytywnych w stosunku do wszystkich pozytywnych:  0.35714285714285715\n",
      "_____________________\n",
      "_____________________\n",
      "_____________________\n",
      "proba:  2   1\n",
      "confusion matrix: \n",
      "[[915   1]\n",
      " [181   1]]\n",
      "prawdziwych pozytywnych w stosunku do wszystkich pozytywnych:  0.5\n",
      "_____________________\n",
      "_____________________\n",
      "_____________________\n",
      "proba:  2   2\n",
      "confusion matrix: \n",
      "[[909   7]\n",
      " [173   9]]\n",
      "prawdziwych pozytywnych w stosunku do wszystkich pozytywnych:  0.5625\n",
      "_____________________\n",
      "_____________________\n",
      "_____________________\n",
      "proba:  2   3\n",
      "confusion matrix: \n",
      "[[912   4]\n",
      " [171  11]]\n",
      "prawdziwych pozytywnych w stosunku do wszystkich pozytywnych:  0.7333333333333333\n",
      "_____________________\n",
      "_____________________\n",
      "_____________________\n",
      "proba:  2   4\n",
      "confusion matrix: \n",
      "[[907   9]\n",
      " [171  11]]\n",
      "prawdziwych pozytywnych w stosunku do wszystkich pozytywnych:  0.55\n",
      "_____________________\n",
      "_____________________\n",
      "_____________________\n",
      "proba:  2   5\n",
      "confusion matrix: \n",
      "[[912   4]\n",
      " [175   7]]\n",
      "prawdziwych pozytywnych w stosunku do wszystkich pozytywnych:  0.6363636363636364\n",
      "_____________________\n",
      "_____________________\n",
      "_____________________\n",
      "proba:  2   6\n",
      "confusion matrix: \n",
      "[[912   4]\n",
      " [172  10]]\n",
      "prawdziwych pozytywnych w stosunku do wszystkich pozytywnych:  0.7142857142857143\n",
      "_____________________\n",
      "_____________________\n",
      "_____________________\n",
      "proba:  2   7\n",
      "confusion matrix: \n",
      "[[907   9]\n",
      " [174   8]]\n",
      "prawdziwych pozytywnych w stosunku do wszystkich pozytywnych:  0.47058823529411764\n",
      "_____________________\n",
      "_____________________\n",
      "_____________________\n",
      "proba:  2   8\n",
      "confusion matrix: \n",
      "[[911   5]\n",
      " [173   9]]\n",
      "prawdziwych pozytywnych w stosunku do wszystkich pozytywnych:  0.6428571428571429\n",
      "_____________________\n",
      "_____________________\n",
      "_____________________\n",
      "proba:  2   9\n",
      "confusion matrix: \n",
      "[[909   7]\n",
      " [176   6]]\n",
      "prawdziwych pozytywnych w stosunku do wszystkich pozytywnych:  0.46153846153846156\n",
      "_____________________\n",
      "_____________________\n",
      "_____________________\n",
      "proba:  3   1\n",
      "confusion matrix: \n",
      "[[916   0]\n",
      " [181   1]]\n",
      "prawdziwych pozytywnych w stosunku do wszystkich pozytywnych:  1.0\n",
      "_____________________\n",
      "_____________________\n",
      "_____________________\n",
      "proba:  3   2\n",
      "confusion matrix: \n",
      "[[911   5]\n",
      " [177   5]]\n",
      "prawdziwych pozytywnych w stosunku do wszystkich pozytywnych:  0.5\n",
      "_____________________\n",
      "_____________________\n",
      "_____________________\n",
      "proba:  3   3\n",
      "confusion matrix: \n",
      "[[915   1]\n",
      " [173   9]]\n",
      "prawdziwych pozytywnych w stosunku do wszystkich pozytywnych:  0.9\n",
      "_____________________\n",
      "_____________________\n",
      "_____________________\n",
      "proba:  3   4\n",
      "confusion matrix: \n",
      "[[914   2]\n",
      " [172  10]]\n",
      "prawdziwych pozytywnych w stosunku do wszystkich pozytywnych:  0.8333333333333334\n",
      "_____________________\n",
      "_____________________\n",
      "_____________________\n",
      "proba:  3   5\n",
      "confusion matrix: \n",
      "[[911   5]\n",
      " [178   4]]\n",
      "prawdziwych pozytywnych w stosunku do wszystkich pozytywnych:  0.4444444444444444\n",
      "_____________________\n",
      "_____________________\n",
      "_____________________\n",
      "proba:  3   6\n",
      "confusion matrix: \n",
      "[[911   5]\n",
      " [176   6]]\n",
      "prawdziwych pozytywnych w stosunku do wszystkich pozytywnych:  0.5454545454545454\n",
      "_____________________\n",
      "_____________________\n",
      "_____________________\n",
      "proba:  3   7\n",
      "confusion matrix: \n",
      "[[915   1]\n",
      " [177   5]]\n",
      "prawdziwych pozytywnych w stosunku do wszystkich pozytywnych:  0.8333333333333334\n",
      "_____________________\n",
      "_____________________\n",
      "_____________________\n",
      "proba:  3   8\n",
      "confusion matrix: \n",
      "[[913   3]\n",
      " [174   8]]\n",
      "prawdziwych pozytywnych w stosunku do wszystkich pozytywnych:  0.7272727272727273\n",
      "_____________________\n",
      "_____________________\n",
      "_____________________\n",
      "proba:  3   9\n",
      "confusion matrix: \n",
      "[[910   6]\n",
      " [171  11]]\n",
      "prawdziwych pozytywnych w stosunku do wszystkich pozytywnych:  0.6470588235294118\n",
      "_____________________\n",
      "_____________________\n",
      "_____________________\n",
      "proba:  4   1\n",
      "confusion matrix: \n",
      "[[916   0]\n",
      " [181   1]]\n",
      "prawdziwych pozytywnych w stosunku do wszystkich pozytywnych:  1.0\n",
      "_____________________\n",
      "_____________________\n",
      "_____________________\n",
      "proba:  4   2\n",
      "confusion matrix: \n",
      "[[914   2]\n",
      " [172  10]]\n",
      "prawdziwych pozytywnych w stosunku do wszystkich pozytywnych:  0.8333333333333334\n",
      "_____________________\n",
      "_____________________\n",
      "_____________________\n",
      "proba:  4   3\n",
      "confusion matrix: \n",
      "[[915   1]\n",
      " [175   7]]\n",
      "prawdziwych pozytywnych w stosunku do wszystkich pozytywnych:  0.875\n",
      "_____________________\n",
      "_____________________\n",
      "_____________________\n",
      "proba:  4   4\n",
      "confusion matrix: \n",
      "[[914   2]\n",
      " [174   8]]\n",
      "prawdziwych pozytywnych w stosunku do wszystkich pozytywnych:  0.8\n",
      "_____________________\n",
      "_____________________\n",
      "_____________________\n",
      "proba:  4   5\n",
      "confusion matrix: \n",
      "[[914   2]\n",
      " [175   7]]\n",
      "prawdziwych pozytywnych w stosunku do wszystkich pozytywnych:  0.7777777777777778\n",
      "_____________________\n",
      "_____________________\n",
      "_____________________\n",
      "proba:  4   6\n",
      "confusion matrix: \n",
      "[[913   3]\n",
      " [173   9]]\n",
      "prawdziwych pozytywnych w stosunku do wszystkich pozytywnych:  0.75\n",
      "_____________________\n",
      "_____________________\n",
      "_____________________\n",
      "proba:  4   7\n",
      "confusion matrix: \n",
      "[[913   3]\n",
      " [175   7]]\n",
      "prawdziwych pozytywnych w stosunku do wszystkich pozytywnych:  0.7\n",
      "_____________________\n",
      "_____________________\n",
      "_____________________\n",
      "proba:  4   8\n",
      "confusion matrix: \n",
      "[[912   4]\n",
      " [174   8]]\n",
      "prawdziwych pozytywnych w stosunku do wszystkich pozytywnych:  0.6666666666666666\n",
      "_____________________\n",
      "_____________________\n",
      "_____________________\n",
      "proba:  4   9\n",
      "confusion matrix: \n",
      "[[913   3]\n",
      " [178   4]]\n",
      "prawdziwych pozytywnych w stosunku do wszystkich pozytywnych:  0.5714285714285714\n",
      "_____________________\n",
      "_____________________\n",
      "_____________________\n",
      "proba:  5   1\n",
      "confusion matrix: \n",
      "[[916   0]\n",
      " [182   0]]\n",
      "brak pozytywnych wyników\n",
      "_____________________\n",
      "_____________________\n",
      "_____________________\n",
      "proba:  5   2\n",
      "confusion matrix: \n",
      "[[914   2]\n",
      " [177   5]]\n",
      "prawdziwych pozytywnych w stosunku do wszystkich pozytywnych:  0.7142857142857143\n",
      "_____________________\n",
      "_____________________\n",
      "_____________________\n",
      "proba:  5   3\n",
      "confusion matrix: \n",
      "[[914   2]\n",
      " [175   7]]\n",
      "prawdziwych pozytywnych w stosunku do wszystkich pozytywnych:  0.7777777777777778\n",
      "_____________________\n",
      "_____________________\n",
      "_____________________\n",
      "proba:  5   4\n",
      "confusion matrix: \n",
      "[[914   2]\n",
      " [177   5]]\n",
      "prawdziwych pozytywnych w stosunku do wszystkich pozytywnych:  0.7142857142857143\n",
      "_____________________\n",
      "_____________________\n",
      "_____________________\n",
      "proba:  5   5\n",
      "confusion matrix: \n",
      "[[913   3]\n",
      " [175   7]]\n",
      "prawdziwych pozytywnych w stosunku do wszystkich pozytywnych:  0.7\n",
      "_____________________\n",
      "_____________________\n",
      "_____________________\n",
      "proba:  5   6\n",
      "confusion matrix: \n",
      "[[914   2]\n",
      " [180   2]]\n",
      "prawdziwych pozytywnych w stosunku do wszystkich pozytywnych:  0.5\n",
      "_____________________\n",
      "_____________________\n",
      "_____________________\n",
      "proba:  5   7\n",
      "confusion matrix: \n",
      "[[914   2]\n",
      " [175   7]]\n",
      "prawdziwych pozytywnych w stosunku do wszystkich pozytywnych:  0.7777777777777778\n",
      "_____________________\n",
      "_____________________\n",
      "_____________________\n",
      "proba:  5   8\n",
      "confusion matrix: \n",
      "[[914   2]\n",
      " [177   5]]\n",
      "prawdziwych pozytywnych w stosunku do wszystkich pozytywnych:  0.7142857142857143\n",
      "_____________________\n",
      "_____________________\n",
      "_____________________\n",
      "proba:  5   9\n",
      "confusion matrix: \n",
      "[[913   3]\n",
      " [173   9]]\n",
      "prawdziwych pozytywnych w stosunku do wszystkich pozytywnych:  0.75\n",
      "_____________________\n",
      "_____________________\n",
      "_____________________\n",
      "proba:  6   1\n",
      "confusion matrix: \n",
      "[[916   0]\n",
      " [182   0]]\n",
      "brak pozytywnych wyników\n",
      "_____________________\n",
      "_____________________\n",
      "_____________________\n",
      "proba:  6   2\n",
      "confusion matrix: \n",
      "[[915   1]\n",
      " [179   3]]\n",
      "prawdziwych pozytywnych w stosunku do wszystkich pozytywnych:  0.75\n",
      "_____________________\n",
      "_____________________\n",
      "_____________________\n",
      "proba:  6   3\n",
      "confusion matrix: \n",
      "[[914   2]\n",
      " [174   8]]\n",
      "prawdziwych pozytywnych w stosunku do wszystkich pozytywnych:  0.8\n",
      "_____________________\n",
      "_____________________\n",
      "_____________________\n",
      "proba:  6   4\n",
      "confusion matrix: \n",
      "[[914   2]\n",
      " [177   5]]\n",
      "prawdziwych pozytywnych w stosunku do wszystkich pozytywnych:  0.7142857142857143\n",
      "_____________________\n",
      "_____________________\n",
      "_____________________\n",
      "proba:  6   5\n",
      "confusion matrix: \n",
      "[[915   1]\n",
      " [176   6]]\n",
      "prawdziwych pozytywnych w stosunku do wszystkich pozytywnych:  0.8571428571428571\n",
      "_____________________\n",
      "_____________________\n",
      "_____________________\n",
      "proba:  6   6\n",
      "confusion matrix: \n",
      "[[916   0]\n",
      " [178   4]]\n",
      "prawdziwych pozytywnych w stosunku do wszystkich pozytywnych:  1.0\n",
      "_____________________\n",
      "_____________________\n",
      "_____________________\n",
      "proba:  6   7\n",
      "confusion matrix: \n",
      "[[915   1]\n",
      " [177   5]]\n",
      "prawdziwych pozytywnych w stosunku do wszystkich pozytywnych:  0.8333333333333334\n",
      "_____________________\n",
      "_____________________\n",
      "_____________________\n",
      "proba:  6   8\n",
      "confusion matrix: \n",
      "[[916   0]\n",
      " [178   4]]\n",
      "prawdziwych pozytywnych w stosunku do wszystkich pozytywnych:  1.0\n",
      "_____________________\n",
      "_____________________\n",
      "_____________________\n",
      "proba:  6   9\n",
      "confusion matrix: \n",
      "[[914   2]\n",
      " [178   4]]\n",
      "prawdziwych pozytywnych w stosunku do wszystkich pozytywnych:  0.6666666666666666\n",
      "_____________________\n",
      "_____________________\n",
      "_____________________\n",
      "proba:  7   1\n",
      "confusion matrix: \n",
      "[[916   0]\n",
      " [181   1]]\n",
      "prawdziwych pozytywnych w stosunku do wszystkich pozytywnych:  1.0\n",
      "_____________________\n",
      "_____________________\n",
      "_____________________\n",
      "proba:  7   2\n",
      "confusion matrix: \n",
      "[[915   1]\n",
      " [177   5]]\n",
      "prawdziwych pozytywnych w stosunku do wszystkich pozytywnych:  0.8333333333333334\n",
      "_____________________\n",
      "_____________________\n",
      "_____________________\n",
      "proba:  7   3\n",
      "confusion matrix: \n",
      "[[916   0]\n",
      " [179   3]]\n",
      "prawdziwych pozytywnych w stosunku do wszystkich pozytywnych:  1.0\n",
      "_____________________\n",
      "_____________________\n",
      "_____________________\n",
      "proba:  7   4\n",
      "confusion matrix: \n",
      "[[915   1]\n",
      " [179   3]]\n",
      "prawdziwych pozytywnych w stosunku do wszystkich pozytywnych:  0.75\n",
      "_____________________\n",
      "_____________________\n",
      "_____________________\n",
      "proba:  7   5\n",
      "confusion matrix: \n",
      "[[914   2]\n",
      " [176   6]]\n",
      "prawdziwych pozytywnych w stosunku do wszystkich pozytywnych:  0.75\n",
      "_____________________\n",
      "_____________________\n",
      "_____________________\n",
      "proba:  7   6\n",
      "confusion matrix: \n",
      "[[914   2]\n",
      " [175   7]]\n",
      "prawdziwych pozytywnych w stosunku do wszystkich pozytywnych:  0.7777777777777778\n",
      "_____________________\n",
      "_____________________\n",
      "_____________________\n",
      "proba:  7   7\n",
      "confusion matrix: \n",
      "[[916   0]\n",
      " [179   3]]\n",
      "prawdziwych pozytywnych w stosunku do wszystkich pozytywnych:  1.0\n",
      "_____________________\n",
      "_____________________\n",
      "_____________________\n",
      "proba:  7   8\n",
      "confusion matrix: \n",
      "[[915   1]\n",
      " [175   7]]\n",
      "prawdziwych pozytywnych w stosunku do wszystkich pozytywnych:  0.875\n",
      "_____________________\n",
      "_____________________\n",
      "_____________________\n",
      "proba:  7   9\n",
      "confusion matrix: \n",
      "[[916   0]\n",
      " [180   2]]\n",
      "prawdziwych pozytywnych w stosunku do wszystkich pozytywnych:  1.0\n",
      "_____________________\n",
      "_____________________\n",
      "_____________________\n",
      "proba:  8   1\n",
      "confusion matrix: \n",
      "[[916   0]\n",
      " [181   1]]\n",
      "prawdziwych pozytywnych w stosunku do wszystkich pozytywnych:  1.0\n",
      "_____________________\n",
      "_____________________\n",
      "_____________________\n",
      "proba:  8   2\n",
      "confusion matrix: \n",
      "[[915   1]\n",
      " [178   4]]\n",
      "prawdziwych pozytywnych w stosunku do wszystkich pozytywnych:  0.8\n",
      "_____________________\n",
      "_____________________\n",
      "_____________________\n",
      "proba:  8   3\n",
      "confusion matrix: \n",
      "[[916   0]\n",
      " [180   2]]\n",
      "prawdziwych pozytywnych w stosunku do wszystkich pozytywnych:  1.0\n",
      "_____________________\n",
      "_____________________\n",
      "_____________________\n",
      "proba:  8   4\n",
      "confusion matrix: \n",
      "[[915   1]\n",
      " [177   5]]\n",
      "prawdziwych pozytywnych w stosunku do wszystkich pozytywnych:  0.8333333333333334\n",
      "_____________________\n",
      "_____________________\n",
      "_____________________\n",
      "proba:  8   5\n",
      "confusion matrix: \n",
      "[[916   0]\n",
      " [179   3]]\n",
      "prawdziwych pozytywnych w stosunku do wszystkich pozytywnych:  1.0\n",
      "_____________________\n",
      "_____________________\n",
      "_____________________\n",
      "proba:  8   6\n",
      "confusion matrix: \n",
      "[[915   1]\n",
      " [179   3]]\n",
      "prawdziwych pozytywnych w stosunku do wszystkich pozytywnych:  0.75\n",
      "_____________________\n",
      "_____________________\n",
      "_____________________\n",
      "proba:  8   7\n",
      "confusion matrix: \n",
      "[[916   0]\n",
      " [180   2]]\n",
      "prawdziwych pozytywnych w stosunku do wszystkich pozytywnych:  1.0\n",
      "_____________________\n",
      "_____________________\n",
      "_____________________\n",
      "proba:  8   8\n",
      "confusion matrix: \n",
      "[[915   1]\n",
      " [175   7]]\n",
      "prawdziwych pozytywnych w stosunku do wszystkich pozytywnych:  0.875\n",
      "_____________________\n",
      "_____________________\n",
      "_____________________\n",
      "proba:  8   9\n",
      "confusion matrix: \n",
      "[[915   1]\n",
      " [176   6]]\n",
      "prawdziwych pozytywnych w stosunku do wszystkich pozytywnych:  0.8571428571428571\n",
      "_____________________\n",
      "_____________________\n",
      "_____________________\n",
      "proba:  9   1\n",
      "confusion matrix: \n",
      "[[916   0]\n",
      " [181   1]]\n",
      "prawdziwych pozytywnych w stosunku do wszystkich pozytywnych:  1.0\n",
      "_____________________\n",
      "_____________________\n",
      "_____________________\n",
      "proba:  9   2\n",
      "confusion matrix: \n",
      "[[916   0]\n",
      " [177   5]]\n",
      "prawdziwych pozytywnych w stosunku do wszystkich pozytywnych:  1.0\n",
      "_____________________\n",
      "_____________________\n",
      "_____________________\n",
      "proba:  9   3\n",
      "confusion matrix: \n",
      "[[915   1]\n",
      " [178   4]]\n",
      "prawdziwych pozytywnych w stosunku do wszystkich pozytywnych:  0.8\n",
      "_____________________\n",
      "_____________________\n",
      "_____________________\n",
      "proba:  9   4\n",
      "confusion matrix: \n",
      "[[914   2]\n",
      " [178   4]]\n",
      "prawdziwych pozytywnych w stosunku do wszystkich pozytywnych:  0.6666666666666666\n",
      "_____________________\n",
      "_____________________\n",
      "_____________________\n",
      "proba:  9   5\n",
      "confusion matrix: \n",
      "[[916   0]\n",
      " [176   6]]\n",
      "prawdziwych pozytywnych w stosunku do wszystkich pozytywnych:  1.0\n",
      "_____________________\n",
      "_____________________\n",
      "_____________________\n",
      "proba:  9   6\n",
      "confusion matrix: \n",
      "[[915   1]\n",
      " [177   5]]\n",
      "prawdziwych pozytywnych w stosunku do wszystkich pozytywnych:  0.8333333333333334\n",
      "_____________________\n",
      "_____________________\n",
      "_____________________\n",
      "proba:  9   7\n",
      "confusion matrix: \n",
      "[[916   0]\n",
      " [178   4]]\n",
      "prawdziwych pozytywnych w stosunku do wszystkich pozytywnych:  1.0\n",
      "_____________________\n",
      "_____________________\n",
      "_____________________\n",
      "proba:  9   8\n",
      "confusion matrix: \n",
      "[[915   1]\n",
      " [179   3]]\n",
      "prawdziwych pozytywnych w stosunku do wszystkich pozytywnych:  0.75\n",
      "_____________________\n",
      "_____________________\n",
      "_____________________\n",
      "proba:  9   9\n",
      "confusion matrix: \n",
      "[[916   0]\n",
      " [180   2]]\n",
      "prawdziwych pozytywnych w stosunku do wszystkich pozytywnych:  1.0\n",
      "_____________________\n",
      "_____________________\n"
     ]
    }
   ],
   "source": [
    "\n",
    "for i in range(1,10):\n",
    "    for j in range(1,10):\n",
    "        model = RandomForestClassifier(n_estimators=10*i, max_depth=10*j)\n",
    "        model.fit(X_train, y_train)\n",
    "        y_pred = model.predict(X_test)\n",
    "        print(\"_____________________\")\n",
    "        print(\"proba: \", i, \" \", j)\n",
    "        print(\"confusion matrix: \")\n",
    "        print(confusion_matrix(y_test, y_pred))\n",
    "        if confusion_matrix(y_test, y_pred)[1][1]+confusion_matrix(y_test, y_pred)[0][1] == 0:\n",
    "            print(\"brak pozytywnych wyników\")\n",
    "        else:\n",
    "            print(\"prawdziwych pozytywnych w stosunku do wszystkich pozytywnych: \", confusion_matrix(y_test, y_pred)[1][1]/(confusion_matrix(y_test, y_pred)[1][1]+confusion_matrix(y_test, y_pred)[0][1]))\n",
    "        print(\"_____________________\")\n",
    "        print(\"_____________________\")"
   ],
   "metadata": {
    "collapsed": false
   }
  },
  {
   "cell_type": "code",
   "execution_count": 191,
   "outputs": [
    {
     "name": "stdout",
     "output_type": "stream",
     "text": [
      "_____________________\n",
      "confusion matrix: \n",
      "[[923   3]\n",
      " [162  10]]\n",
      "prawdziwych pozytywnych w stosunku do wszystkich pozytywnych:  0.7692307692307693\n",
      "_____________________\n",
      "confusion matrix: \n",
      "[[915   5]\n",
      " [168  10]]\n",
      "prawdziwych pozytywnych w stosunku do wszystkich pozytywnych:  0.6666666666666666\n",
      "_____________________\n",
      "confusion matrix: \n",
      "[[907   1]\n",
      " [181   9]]\n",
      "prawdziwych pozytywnych w stosunku do wszystkich pozytywnych:  0.9\n"
     ]
    }
   ],
   "source": [
    "\"wyniki są dobre dla parametrów n_estimators = 50 i max_depth = 90  , sprawdzę jeszcze kilka razy czy zawsze są one dobre czy tylko raz się udało dla takiego wylosowania danych\"\n",
    "random_forest_cm_1 = 0\n",
    "random_forest_score_1 = 0\n",
    "max = 0\n",
    "model = RandomForestClassifier(n_estimators=50, max_depth=90)\n",
    "for i in range(3):\n",
    "    X_train, X_test, y_train, y_test = train_test_split(new_df.drop('target', axis=1), new_df['target'], test_size=0.15)\n",
    "    model.fit(X_train, y_train)\n",
    "    y_pred = model.predict(X_test)\n",
    "    print(\"_____________________\")\n",
    "    cm = confusion_matrix(y_test, y_pred)\n",
    "    print(\"confusion matrix: \")\n",
    "    print(cm)\n",
    "    if cm[1][1]+cm[0][1] == 0:\n",
    "        print(\"brak pozytywnych wyników\")\n",
    "        random_forest_cm_1 = cm\n",
    "    else:\n",
    "        print(\"prawdziwych pozytywnych w stosunku do wszystkich pozytywnych: \", cm[1][1]/(cm[1][1]+cm[0][1]))\n",
    "        if cm[1][1]/(cm[1][1]+cm[0][1]) > max:\n",
    "            max = cm[1][1]/(cm[1][1]+cm[0][1])\n",
    "            random_forest_score_1 = cm[1][1]/(cm[1][1]+cm[0][1])\n",
    "            random_forest_cm_1 = cm"
   ],
   "metadata": {
    "collapsed": false
   }
  },
  {
   "cell_type": "code",
   "execution_count": 192,
   "outputs": [
    {
     "name": "stdout",
     "output_type": "stream",
     "text": [
      "_____________________\n",
      "losowo ale z proporcjami\n",
      "confusion matrix: \n",
      "[[758 150]\n",
      " [156  34]]\n",
      "prawdziwych pozytywnych w stosunku do wszystkich pozytywnych:  0.18478260869565216\n"
     ]
    }
   ],
   "source": [
    "\"Jako porównanie sprawdzimy jak poradzi sobie nadawanie etykiet losowo, proporcjonalnie do częstości występowania etykiet w danych\"\n",
    "\"oraz jakie są szanse gdyby użytkownik miał pójść na randkę z jakąkolwiek osobą\"\n",
    "dummy_cm_1 = 0\n",
    "dummy_score_1 = 0\n",
    "dummy = DummyClassifier(strategy='stratified')\n",
    "dummy.fit(X_train, y_train)\n",
    "y_pred = dummy.predict(X_test)\n",
    "print(\"_____________________\")\n",
    "print(\"losowo ale z proporcjami\")\n",
    "cm = confusion_matrix(y_test, y_pred)\n",
    "print(\"confusion matrix: \")\n",
    "print(cm)\n",
    "if cm[1][1]+cm[0][1] == 0:\n",
    "    print(\"brak pozytywnych wyników\")\n",
    "else:\n",
    "    print(\"prawdziwych pozytywnych w stosunku do wszystkich pozytywnych: \", cm[1][1]/(cm[1][1]+cm[0][1]))\n",
    "    dummy_score_1 = cm[1][1]/(cm[1][1]+cm[0][1])\n",
    "dummy_cm_1 = cm"
   ],
   "metadata": {
    "collapsed": false
   }
  },
  {
   "cell_type": "code",
   "execution_count": 193,
   "outputs": [
    {
     "data": {
      "text/plain": "'Teraz dla porównania spróbuję wytrenować sieć neuronową'"
     },
     "execution_count": 193,
     "metadata": {},
     "output_type": "execute_result"
    }
   ],
   "source": [
    "\"Z jednej strony wyniki modelu opartego o las losowy są znacznie lepsze niż przy losowym \" \\\n",
    "\"doborze poprzez klasyfikator 'Dummy', jednak mając zbiór ponad 1000 danych proponuje tylko około\" \\\n",
    "\"10 randek, co oznacza że aplikacja musiała by mieć bardzo dużą bazę użytkowników, żeby w ogóle działała\"\n",
    "\"Teraz dla porównania spróbuję wytrenować sieć neuronową\""
   ],
   "metadata": {
    "collapsed": false
   }
  },
  {
   "cell_type": "code",
   "execution_count": 226,
   "outputs": [
    {
     "name": "stdout",
     "output_type": "stream",
     "text": [
      "Epoch 1/5\n",
      "2980/2980 [==============================] - 4s 1ms/step - loss: 0.5960 - precision: 0.6561\n",
      "Epoch 2/5\n",
      "2980/2980 [==============================] - 3s 1ms/step - loss: 0.5535 - precision: 0.6904\n",
      "Epoch 3/5\n",
      "2980/2980 [==============================] - 4s 1ms/step - loss: 0.5276 - precision: 0.7185\n",
      "Epoch 4/5\n",
      "2980/2980 [==============================] - 4s 1ms/step - loss: 0.5072 - precision: 0.7291\n",
      "Epoch 5/5\n",
      "2980/2980 [==============================] - 4s 1ms/step - loss: 0.4860 - precision: 0.7408\n"
     ]
    },
    {
     "data": {
      "text/plain": "<keras.callbacks.History at 0x211d36fe590>"
     },
     "execution_count": 226,
     "metadata": {},
     "output_type": "execute_result"
    }
   ],
   "source": [
    "scaler = StandardScaler()\n",
    "X_train = scaler.fit_transform(X_train)\n",
    "X_test = scaler.transform(X_test)\n",
    "\n",
    "model = tf.keras.models.Sequential([\n",
    "    tf.keras.layers.Dense(32, activation='relu', input_shape=(X_train.shape[1],)),\n",
    "    tf.keras.layers.Dense(32, activation='relu'),\n",
    "    tf.keras.layers.Dense(16, activation='relu'),\n",
    "    tf.keras.layers.Dense(1, activation='sigmoid')\n",
    "])\n",
    "\n",
    "model.compile(optimizer='adam', loss='binary_crossentropy', metrics=[\"Precision\"])\n",
    "\n",
    "model.fit(X_train, y_train, epochs=5, batch_size=4 , class_weight={0:1, 1:1}, ) #, class_weight=class_weights)\n"
   ],
   "metadata": {
    "collapsed": false
   }
  },
  {
   "cell_type": "code",
   "execution_count": 227,
   "outputs": [
    {
     "name": "stdout",
     "output_type": "stream",
     "text": [
      "40/40 [==============================] - 0s 923us/step\n",
      "_____________________\n",
      "confusion matrix: \n",
      "[[878 160]\n",
      " [178  41]]\n",
      "prawdziwych pozytywnych w stosunku do wszystkich pozytywnych:  0.20398009950248755\n"
     ]
    }
   ],
   "source": [
    "y_pred = model.predict(X_test)\n",
    "sequential_cm_1 = 0\n",
    "sequential_score_1 = 0\n",
    "y_pred = [1 if x > 0.5 else 0 for x in y_pred]\n",
    "print(\"_____________________\")\n",
    "cm = confusion_matrix(y_test, y_pred)\n",
    "print(\"confusion matrix: \")\n",
    "print(cm)\n",
    "if cm[1][1]+cm[0][1] == 0:\n",
    "    print(\"brak pozytywnych wyników\")\n",
    "    sequential_cm_1 = cm\n",
    "else:\n",
    "    print(\"prawdziwych pozytywnych w stosunku do wszystkich pozytywnych: \", cm[1][1]/(cm[1][1]+cm[0][1]))\n",
    "    sequential_cm_1 = cm\n",
    "    sequential_score_1 = cm[1][1]/(cm[1][1]+cm[0][1])"
   ],
   "metadata": {
    "collapsed": false
   }
  },
  {
   "cell_type": "code",
   "execution_count": 196,
   "outputs": [
    {
     "data": {
      "text/plain": "'Sprawdzę jeszcze czy istnieje możliwość stworzenia modelu w oparciu o maszynę wektorów nośnych'"
     },
     "execution_count": 196,
     "metadata": {},
     "output_type": "execute_result"
    }
   ],
   "source": [
    "\"\"\"Przy wielu parametrach sieć ulega bardzo szybkiemu przetrenowaniu, niestety zwykle w stronę\n",
    "nadmiernego oznaczanie wszystkich danych jako negatywne\"\"\"\n",
    "\"\"\"Sprawdzę jeszcze czy istnieje możliwość stworzenia modelu w oparciu o maszynę wektorów nośnych\"\"\""
   ],
   "metadata": {
    "collapsed": false
   }
  },
  {
   "cell_type": "code",
   "execution_count": 197,
   "outputs": [
    {
     "name": "stdout",
     "output_type": "stream",
     "text": [
      "_____________________\n",
      "confusion matrix: \n",
      "[[900   0]\n",
      " [198   0]]\n",
      "brak pozytywnych wyników\n",
      "_____________________\n",
      "confusion matrix: \n",
      "[[904   0]\n",
      " [194   0]]\n",
      "brak pozytywnych wyników\n",
      "_____________________\n",
      "confusion matrix: \n",
      "[[906   0]\n",
      " [192   0]]\n",
      "brak pozytywnych wyników\n",
      "najlepszy model:  0\n"
     ]
    }
   ],
   "source": [
    "max = 0\n",
    "svm_cm_1 = 0\n",
    "svm_score_1 = 0\n",
    "for _ in range(3):\n",
    "    X_train, X_test, y_train, y_test = train_test_split(new_df.drop('target', axis=1), new_df['target'], test_size=0.15)\n",
    "    scaler = StandardScaler()\n",
    "    X_train = scaler.fit_transform(X_train)\n",
    "    X_test = scaler.transform(X_test)\n",
    "    SVM = SVC()\n",
    "    SVM.fit(X_train, y_train)\n",
    "    y_pred = SVM.predict(X_test)\n",
    "    print(\"_____________________\")\n",
    "    cm = confusion_matrix(y_test, y_pred)\n",
    "    print(\"confusion matrix: \")\n",
    "    print(cm)\n",
    "    if cm[1][1]+cm[0][1] == 0:\n",
    "        print(\"brak pozytywnych wyników\")\n",
    "        svm_cm_1 = cm\n",
    "    else:\n",
    "        print(\"prawdziwych pozytywnych w stosunku do wszystkich pozytywnych: \", cm[1][1]/(cm[1][1]+cm[0][1]))\n",
    "        if (cm[1][1]/(cm[1][1]+cm[0][1])) > max:\n",
    "            max = cm[1][1]/(cm[1][1]+cm[0][1])\n",
    "            best_model = SVM\n",
    "            svm_score_1 = cm[1][1]/(cm[1][1]+cm[0][1])\n",
    "            svm_cm_1 = cm\n",
    "print(\"najlepszy model: \", max)"
   ],
   "metadata": {
    "collapsed": false
   }
  },
  {
   "cell_type": "code",
   "execution_count": 198,
   "outputs": [
    {
     "data": {
      "text/plain": "'Wyniki dalej nie są zadowalajace, spróbuję teraz jeszcze raz z wcześniejszymi modelami, ale brakujące wartości uzupełnię przez średnią'"
     },
     "execution_count": 198,
     "metadata": {},
     "output_type": "execute_result"
    }
   ],
   "source": [
    "\"\"\"SVM dla przeprowadzonych testów okazał się najgorszy gdyż często nie proponuje żadnej randki co przy tak dużej\n",
    "ilości danych testowych jest nieakceptowalne w żadnej aplikacji randkowej\"\"\"\n",
    "\"\"\"Wyniki dalej nie są zadowalajace, spróbuję teraz jeszcze raz z wcześniejszymi modelami, ale brakujące wartości uzupełnię przez średnią\"\"\""
   ],
   "metadata": {
    "collapsed": false
   }
  },
  {
   "cell_type": "code",
   "execution_count": 199,
   "outputs": [],
   "source": [
    "df = pd.read_csv(\"df_differences.csv\")\n",
    "df = df.fillna(df.mean())\n",
    "X_train, X_test, y_train, y_test = train_test_split(df.drop('target', axis=1), df['target'], test_size=0.15)"
   ],
   "metadata": {
    "collapsed": false
   }
  },
  {
   "cell_type": "code",
   "execution_count": 200,
   "outputs": [
    {
     "data": {
      "text/plain": "'Random Forest'"
     },
     "execution_count": 200,
     "metadata": {},
     "output_type": "execute_result"
    }
   ],
   "source": [
    "\"\"\"Random Forest\"\"\""
   ],
   "metadata": {
    "collapsed": false
   }
  },
  {
   "cell_type": "code",
   "execution_count": 201,
   "outputs": [
    {
     "name": "stdout",
     "output_type": "stream",
     "text": [
      "_____________________\n",
      "confusion matrix: \n",
      "[[1058    3]\n",
      " [ 190    6]]\n",
      "prawdziwych pozytywnych w stosunku do wszystkich pozytywnych:  0.6666666666666666\n",
      "_____________________\n",
      "confusion matrix: \n",
      "[[1048    0]\n",
      " [ 198   11]]\n",
      "prawdziwych pozytywnych w stosunku do wszystkich pozytywnych:  1.0\n",
      "_____________________\n",
      "confusion matrix: \n",
      "[[1046    3]\n",
      " [ 195   13]]\n",
      "prawdziwych pozytywnych w stosunku do wszystkich pozytywnych:  0.8125\n",
      "najlepszy model:  1.0\n"
     ]
    }
   ],
   "source": [
    "max = 0\n",
    "random_forest_cm_2 = 0\n",
    "random_forest_score_2 = 0\n",
    "for _ in range(3):\n",
    "    df = pd.read_csv(\"df_differences.csv\")\n",
    "    df = df.fillna(df.mean())\n",
    "    X_train, X_test, y_train, y_test = train_test_split(df.drop('target', axis=1), df['target'], test_size=0.15)\n",
    "\n",
    "    model = RandomForestClassifier(n_estimators=50, max_depth=90)\n",
    "    model.fit(X_train, y_train)\n",
    "    y_pred = model.predict(X_test)\n",
    "    print(\"_____________________\")\n",
    "    cm = confusion_matrix(y_test, y_pred)\n",
    "    print(\"confusion matrix: \")\n",
    "    print(cm)\n",
    "    if cm[1][1]+cm[0][1] == 0:\n",
    "        print(\"brak pozytywnych wyników\")\n",
    "    else:\n",
    "        print(\"prawdziwych pozytywnych w stosunku do wszystkich pozytywnych: \", cm[1][1]/(cm[1][1]+cm[0][1]))\n",
    "        if (cm[1][1]/(cm[1][1]+cm[0][1])) > max:\n",
    "            max = cm[1][1]/(cm[1][1]+cm[0][1])\n",
    "            random_forest_cm_2 = cm\n",
    "            random_forest_score_2 = max\n",
    "print(\"najlepszy model: \", max)"
   ],
   "metadata": {
    "collapsed": false
   }
  },
  {
   "cell_type": "code",
   "execution_count": 202,
   "outputs": [
    {
     "data": {
      "text/plain": "'Nastepnie sprawdzę sieć neuronową'"
     },
     "execution_count": 202,
     "metadata": {},
     "output_type": "execute_result"
    }
   ],
   "source": [
    "\"\"\"Po kilku próbach nie udało mi się zaobserwować poprawy wyników\"\"\"\n",
    "\"\"\"Nastepnie sprawdzę sieć neuronową\"\"\""
   ],
   "metadata": {
    "collapsed": false
   }
  },
  {
   "cell_type": "code",
   "execution_count": 203,
   "outputs": [
    {
     "name": "stdout",
     "output_type": "stream",
     "text": [
      "Epoch 1/5\n",
      "1781/1781 [==============================] - 3s 1ms/step - loss: 0.8328 - precision: 0.2680\n",
      "Epoch 2/5\n",
      "1781/1781 [==============================] - 2s 1ms/step - loss: 0.8048 - precision: 0.2991\n",
      "Epoch 3/5\n",
      "1781/1781 [==============================] - 3s 1ms/step - loss: 0.7894 - precision: 0.3120\n",
      "Epoch 4/5\n",
      "1781/1781 [==============================] - 3s 1ms/step - loss: 0.7784 - precision: 0.3299\n",
      "Epoch 5/5\n",
      "1781/1781 [==============================] - 2s 1ms/step - loss: 0.7731 - precision: 0.3338\n"
     ]
    },
    {
     "data": {
      "text/plain": "<keras.callbacks.History at 0x211d40bc3d0>"
     },
     "execution_count": 203,
     "metadata": {},
     "output_type": "execute_result"
    }
   ],
   "source": [
    "scaler = StandardScaler()\n",
    "X_train = scaler.fit_transform(X_train)\n",
    "X_test = scaler.transform(X_test)\n",
    "model = tf.keras.models.Sequential([\n",
    "    tf.keras.layers.Dense(32, activation='relu', input_shape=(X_train.shape[1],)),\n",
    "    tf.keras.layers.Dense(32, activation='relu'),\n",
    "    tf.keras.layers.Dense(16, activation='relu'),\n",
    "    tf.keras.layers.Dense(1, activation='sigmoid')\n",
    "])\n",
    "\n",
    "model.compile(optimizer='adam', loss='binary_crossentropy', metrics=[\"Precision\"])\n",
    "\n",
    "model.fit(X_train, y_train, epochs=5, batch_size=4 , class_weight={0:1, 1:3}, ) #, class_weight=class_weights)\n"
   ],
   "metadata": {
    "collapsed": false
   }
  },
  {
   "cell_type": "code",
   "execution_count": 204,
   "outputs": [
    {
     "name": "stdout",
     "output_type": "stream",
     "text": [
      "40/40 [==============================] - 0s 821us/step\n",
      "_____________________\n",
      "confusion matrix: \n",
      "[[940 109]\n",
      " [138  70]]\n",
      "prawdziwych pozytywnych w stosunku do wszystkich pozytywnych:  0.39106145251396646\n"
     ]
    }
   ],
   "source": [
    "y_pred = model.predict(X_test)\n",
    "sequential_cm_2 = 0\n",
    "sequential_score_2 = 0\n",
    "y_pred = [1 if x > 0.5 else 0 for x in y_pred]\n",
    "print(\"_____________________\")\n",
    "cm = confusion_matrix(y_test, y_pred)\n",
    "print(\"confusion matrix: \")\n",
    "print(cm)\n",
    "if cm[1][1]+cm[0][1] == 0:\n",
    "    print(\"brak pozytywnych wyników\")\n",
    "    sequential_cm_2 = cm\n",
    "else:\n",
    "    print(\"prawdziwych pozytywnych w stosunku do wszystkich pozytywnych: \", cm[1][1]/(cm[1][1]+cm[0][1]))\n",
    "    sequential_cm_2 = cm\n",
    "    sequential_score_2 = cm[1][1]/(cm[1][1]+cm[0][1])"
   ],
   "metadata": {
    "collapsed": false
   }
  },
  {
   "cell_type": "code",
   "execution_count": 205,
   "outputs": [
    {
     "data": {
      "text/plain": "'Na koniec sprawdzę jeszcze maszynę wektorów nośnych'"
     },
     "execution_count": 205,
     "metadata": {},
     "output_type": "execute_result"
    }
   ],
   "source": [
    "\"\"\"Po kilkukrotnym wyuczeniu modelu z różnymi parametramy również nie zaobserwowałem poprawy, jednak więcej razy model oznacza dane jako pozytywne, więc w przypadku użycia w aplikacji randkowej rzadziej zdarzy się sytuacja, że użytkownikowi nie zostanie zaproponowana randka, która potencjalnie mu odpowiada\"\"\"\n",
    "\"\"\"Na koniec sprawdzę jeszcze maszynę wektorów nośnych\"\"\""
   ],
   "metadata": {
    "collapsed": false
   }
  },
  {
   "cell_type": "code",
   "execution_count": 206,
   "outputs": [
    {
     "name": "stdout",
     "output_type": "stream",
     "text": [
      "_____________________\n",
      "confusion matrix: \n",
      "[[1070    0]\n",
      " [ 186    1]]\n",
      "prawdziwych pozytywnych w stosunku do wszystkich pozytywnych:  1.0\n",
      "_____________________\n",
      "confusion matrix: \n",
      "[[1046    0]\n",
      " [ 211    0]]\n",
      "brak pozytywnych wyników\n",
      "_____________________\n",
      "confusion matrix: \n",
      "[[1016    0]\n",
      " [ 241    0]]\n",
      "brak pozytywnych wyników\n",
      "najlepszy model:  1.0\n"
     ]
    }
   ],
   "source": [
    "max = 0\n",
    "svm_cm_2 = 0\n",
    "svm_score_2 = 0\n",
    "for _ in range(3):\n",
    "    df = pd.read_csv(\"df_differences.csv\")\n",
    "    df = df.fillna(df.mean())\n",
    "    X_train, X_test, y_train, y_test = train_test_split(df.drop('target', axis=1), df['target'], test_size=0.15)\n",
    "    scaler = StandardScaler()\n",
    "    X_train = scaler.fit_transform(X_train)\n",
    "    X_test = scaler.transform(X_test)\n",
    "    SVM = SVC()\n",
    "    SVM.fit(X_train, y_train)\n",
    "    y_pred = SVM.predict(X_test)\n",
    "    print(\"_____________________\")\n",
    "    cm = confusion_matrix(y_test, y_pred)\n",
    "    print(\"confusion matrix: \")\n",
    "    print(cm)\n",
    "    if cm[1][1]+cm[0][1] == 0:\n",
    "        print(\"brak pozytywnych wyników\")\n",
    "        svm_cm_2 = cm\n",
    "    else:\n",
    "        print(\"prawdziwych pozytywnych w stosunku do wszystkich pozytywnych: \", cm[1][1]/(cm[1][1]+cm[0][1]))\n",
    "        if (cm[1][1]/(cm[1][1]+cm[0][1])) > max:\n",
    "            max = cm[1][1]/(cm[1][1]+cm[0][1])\n",
    "            svm_cm_2 = cm\n",
    "            svm_score_2 = max\n",
    "print(\"najlepszy model: \", max)"
   ],
   "metadata": {
    "collapsed": false
   }
  },
  {
   "cell_type": "code",
   "execution_count": 207,
   "outputs": [
    {
     "data": {
      "text/plain": "'Na koniec spróbuję jeszcze poprawić działanie modelu poprzez wyważenie danych metodą oversamplingu'"
     },
     "execution_count": 207,
     "metadata": {},
     "output_type": "execute_result"
    }
   ],
   "source": [
    "'''Również nie zaobserwowałem znaczącej poprawy - dalej głównym problemem jest brak sytuacji gdy\n",
    "model jest w stanie zaproponować chociaż kilku randek'''\n",
    "'''Na koniec spróbuję jeszcze poprawić działanie modelu poprzez wyważenie danych metodą oversamplingu'''"
   ],
   "metadata": {
    "collapsed": false
   }
  },
  {
   "cell_type": "code",
   "execution_count": 208,
   "outputs": [],
   "source": [
    "# df = pd.read_csv(\"df_differences.csv\")\n",
    "# oversampler = SMOTE()\n",
    "# df = df.fillna(df.mean())\n",
    "# X_train, X_test, y_train, y_test = train_test_split(df.drop('target', axis=1), df['target'], test_size=0.15)\n",
    "# X_train, y_train = oversampler.fit_resample(X_train, y_train)"
   ],
   "metadata": {
    "collapsed": false
   }
  },
  {
   "cell_type": "markdown",
   "source": [],
   "metadata": {
    "collapsed": false
   }
  },
  {
   "cell_type": "code",
   "execution_count": 209,
   "outputs": [
    {
     "name": "stdout",
     "output_type": "stream",
     "text": [
      "_____________________\n",
      "confusion matrix: \n",
      "[[1030   24]\n",
      " [ 188   15]]\n",
      "prawdziwych pozytywnych w stosunku do wszystkich pozytywnych:  0.38461538461538464\n",
      "_____________________\n",
      "confusion matrix: \n",
      "[[1023   21]\n",
      " [ 197   16]]\n",
      "prawdziwych pozytywnych w stosunku do wszystkich pozytywnych:  0.43243243243243246\n",
      "_____________________\n",
      "confusion matrix: \n",
      "[[1015   22]\n",
      " [ 207   13]]\n",
      "prawdziwych pozytywnych w stosunku do wszystkich pozytywnych:  0.37142857142857144\n",
      "najlepszy model:  0.43243243243243246\n"
     ]
    }
   ],
   "source": [
    "max = 0\n",
    "random_forest_cm_3 = 0\n",
    "random_forest_score_3 = 0\n",
    "for _ in range(3):\n",
    "    df = pd.read_csv(\"df_differences.csv\")\n",
    "    oversampler = SMOTE()\n",
    "    df = df.fillna(df.mean())\n",
    "    X_train, X_test, y_train, y_test = train_test_split(df.drop('target', axis=1), df['target'], test_size=0.15)\n",
    "    X_train, y_train = oversampler.fit_resample(X_train, y_train)\n",
    "    model = RandomForestClassifier(n_estimators=50, max_depth=90)\n",
    "    model.fit(X_train, y_train)\n",
    "    y_pred = model.predict(X_test)\n",
    "    print(\"_____________________\")\n",
    "    cm = confusion_matrix(y_test, y_pred)\n",
    "    print(\"confusion matrix: \")\n",
    "    print(cm)\n",
    "    if cm[1][1]+cm[0][1] == 0:\n",
    "        print(\"brak pozytywnych wyników\")\n",
    "    else:\n",
    "        print(\"prawdziwych pozytywnych w stosunku do wszystkich pozytywnych: \", cm[1][1]/(cm[1][1]+cm[0][1]))\n",
    "        if (cm[1][1]/(cm[1][1]+cm[0][1])) > max:\n",
    "            max = cm[1][1]/(cm[1][1]+cm[0][1])\n",
    "            random_forest_cm_3 = cm\n",
    "            random_forest_score_3 = max\n",
    "\n",
    "print(\"najlepszy model: \", max)"
   ],
   "metadata": {
    "collapsed": false
   }
  },
  {
   "cell_type": "code",
   "execution_count": 210,
   "outputs": [
    {
     "name": "stdout",
     "output_type": "stream",
     "text": [
      "Epoch 1/5\n",
      "2981/2981 [==============================] - 4s 1ms/step - loss: 0.6075 - precision: 0.6443\n",
      "Epoch 2/5\n",
      "2981/2981 [==============================] - 3s 1ms/step - loss: 0.5734 - precision: 0.6743\n",
      "Epoch 3/5\n",
      "2981/2981 [==============================] - 3s 1ms/step - loss: 0.5482 - precision: 0.6978\n",
      "Epoch 4/5\n",
      "2981/2981 [==============================] - 3s 1ms/step - loss: 0.5273 - precision: 0.7151\n",
      "Epoch 5/5\n",
      "2981/2981 [==============================] - 3s 1ms/step - loss: 0.5106 - precision: 0.7243\n"
     ]
    },
    {
     "data": {
      "text/plain": "<keras.callbacks.History at 0x211d4182150>"
     },
     "execution_count": 210,
     "metadata": {},
     "output_type": "execute_result"
    }
   ],
   "source": [
    "scaler = StandardScaler()\n",
    "X_train = scaler.fit_transform(X_train)\n",
    "X_test = scaler.transform(X_test)\n",
    "model = tf.keras.models.Sequential([\n",
    "    tf.keras.layers.Dense(32, activation='relu', input_shape=(X_train.shape[1],)),\n",
    "    tf.keras.layers.Dense(32, activation='relu'),\n",
    "    tf.keras.layers.Dense(16, activation='relu'),\n",
    "    tf.keras.layers.Dense(1, activation='sigmoid')\n",
    "])\n",
    "\n",
    "model.compile(optimizer='adam', loss='binary_crossentropy', metrics=[\"Precision\"])\n",
    "\n",
    "model.fit(X_train, y_train, epochs=5, batch_size=4) #, class_weight=class_weights)\n"
   ],
   "metadata": {
    "collapsed": false
   }
  },
  {
   "cell_type": "code",
   "execution_count": 211,
   "outputs": [
    {
     "name": "stdout",
     "output_type": "stream",
     "text": [
      "40/40 [==============================] - 0s 823us/step\n",
      "_____________________\n",
      "confusion matrix: \n",
      "[[745 292]\n",
      " [109 111]]\n",
      "prawdziwych pozytywnych w stosunku do wszystkich pozytywnych:  0.27543424317617865\n"
     ]
    }
   ],
   "source": [
    "y_pred = model.predict(X_test)\n",
    "y_pred = [1 if x > 0.5 else 0 for x in y_pred]\n",
    "sequential_cm_3 = 0\n",
    "sequential_score_3 = 0\n",
    "print(\"_____________________\")\n",
    "cm = confusion_matrix(y_test, y_pred)\n",
    "print(\"confusion matrix: \")\n",
    "print(cm)\n",
    "if cm[1][1]+cm[0][1] == 0:\n",
    "    print(\"brak pozytywnych wyników\")\n",
    "    sequential_cm_3 = cm\n",
    "else:\n",
    "    print(\"prawdziwych pozytywnych w stosunku do wszystkich pozytywnych: \", cm[1][1]/(cm[1][1]+cm[0][1]))\n",
    "    sequential_cm_3 = cm\n",
    "    sequential_score_3 = cm[1][1]/(cm[1][1]+cm[0][1])"
   ],
   "metadata": {
    "collapsed": false
   }
  },
  {
   "cell_type": "code",
   "execution_count": 212,
   "outputs": [
    {
     "name": "stdout",
     "output_type": "stream",
     "text": [
      "_____________________\n",
      "confusion matrix: \n",
      "[[673 358]\n",
      " [ 83 143]]\n",
      "prawdziwych pozytywnych w stosunku do wszystkich pozytywnych:  0.28542914171656686\n",
      "size:  1257\n",
      "_____________________\n",
      "confusion matrix: \n",
      "[[667 362]\n",
      " [ 80 148]]\n",
      "prawdziwych pozytywnych w stosunku do wszystkich pozytywnych:  0.2901960784313726\n",
      "size:  1257\n",
      "_____________________\n",
      "confusion matrix: \n",
      "[[653 385]\n",
      " [ 84 135]]\n",
      "prawdziwych pozytywnych w stosunku do wszystkich pozytywnych:  0.25961538461538464\n",
      "size:  1257\n",
      "najlepszy model:  0.2901960784313726\n"
     ]
    }
   ],
   "source": [
    "svm_cm_3 = 0\n",
    "svm_score_3 = 0\n",
    "max = 0\n",
    "for _ in range(3):\n",
    "    df = pd.read_csv(\"df_differences.csv\")\n",
    "    oversampler = SMOTE()\n",
    "    df = df.fillna(df.mean())\n",
    "    X_train, X_test, y_train, y_test = train_test_split(df.drop('target', axis=1), df['target'], test_size=0.15)\n",
    "    X_train, y_train = oversampler.fit_resample(X_train, y_train)\n",
    "    model = SVC()\n",
    "    model.fit(X_train, y_train)\n",
    "    y_pred = model.predict(X_test)\n",
    "    print(\"_____________________\")\n",
    "    cm = confusion_matrix(y_test, y_pred)\n",
    "    print(\"confusion matrix: \")\n",
    "    print(cm)\n",
    "    if cm[1][1]+cm[0][1] == 0:\n",
    "        print(\"brak pozytywnych wyników\")\n",
    "        svm_cm_3 = cm\n",
    "    else:\n",
    "        print(\"prawdziwych pozytywnych w stosunku do wszystkich pozytywnych: \", cm[1][1]/(cm[1][1]+cm[0][1]))\n",
    "        if (cm[1][1]/(cm[1][1]+cm[0][1])) > max:\n",
    "            max = cm[1][1]/(cm[1][1]+cm[0][1])\n",
    "            svm_cm_3 = cm\n",
    "            svm_score_3 = max\n",
    "    print(\"size: \", len(y_test))\n",
    "print(\"najlepszy model: \", max)\n"
   ],
   "metadata": {
    "collapsed": false
   }
  },
  {
   "cell_type": "code",
   "execution_count": 213,
   "outputs": [
    {
     "data": {
      "text/plain": "'na dane testowe i treningowe czasem mniej niż 10 osób zostaje ze sobą połączonych'"
     },
     "execution_count": 213,
     "metadata": {},
     "output_type": "execute_result"
    }
   ],
   "source": [
    "\"\"\"Ponownie nie zaobserwowałem by któryś model mógł stanowić podstawę wyboru partnera\"\"\"\n",
    "\"\"\"Do zastosowania w aplikacji najlepiej z przetestowanych modeli nadaje się las losowy, jednak jest on 'oszczędny'\"\"\"\n",
    "\"\"\"w ilości przedstawianych rozwiązań, dla 1000 próbek przy niektóych losowaniach podziału\"\"\"\n",
    "\"\"\"na dane testowe i treningowe czasem mniej niż 10 osób zostaje ze sobą połączonych\"\"\""
   ],
   "metadata": {
    "collapsed": false
   }
  },
  {
   "cell_type": "code",
   "execution_count": 214,
   "outputs": [
    {
     "name": "stdout",
     "output_type": "stream",
     "text": [
      "[[907   1]\n",
      " [181   9]]\n",
      "[[1048    0]\n",
      " [ 198   11]]\n",
      "[[1023   21]\n",
      " [ 197   16]]\n",
      "[[903   5]\n",
      " [188   2]]\n",
      "[[940 109]\n",
      " [138  70]]\n",
      "[[745 292]\n",
      " [109 111]]\n",
      "[[906   0]\n",
      " [192   0]]\n",
      "[[1016    0]\n",
      " [ 241    0]]\n",
      "[[667 362]\n",
      " [ 80 148]]\n",
      "wykres 1:1 -prawdziwie pozytywne/ wszystkie pozytywne z usuniętymi brakującymi wartościami\n",
      "wykres 1:2 -prawdziwie pozytywne/ wszystkie pozytywne z uzupełnionymi brakującymi wartościami\n",
      "wykres 1:3 -prawdziwie pozytywne/ wszystkie pozytywne z uzupełnionymi brakującymi wartościami i zbalansowanymi klasami\n",
      "wykres 2:1 -wszystkie pozytywne:\n",
      "10 7 0 184\n",
      "wykres 2:2 -wszystkie pozytywne:\n",
      "11 179 0 184\n",
      "wykres 2:3 -wszystkie pozytywne:\n",
      "37 403 510 184\n"
     ]
    },
    {
     "data": {
      "text/plain": "<Figure size 640x480 with 6 Axes>",
      "image/png": "[encoded data removed]"
     },
     "metadata": {},
     "output_type": "display_data"
    }
   ],
   "source": [
    "fig, axs = plt.subplots(2, 3)\n",
    "axs[0, 0].bar([\"R_F\", \"seq\", \"svm\", \"dummy\"], [random_forest_score_1, sequential_score_1, svm_score_1, dummy_score_1])\n",
    "print(\"wykres 1:1 -prawdziwie pozytywne/ wszystkie pozytywne z usuniętymi brakującymi wartościami\")\n",
    "axs[0, 1].bar([\"R_F\", \"seq\", \"svm\", \"dummy\"], [random_forest_score_2, sequential_score_2, svm_score_2, dummy_score_1])\n",
    "print(\"wykres 1:2 -prawdziwie pozytywne/ wszystkie pozytywne z uzupełnionymi brakującymi wartościami\")\n",
    "axs[0, 2].bar([\"R_F\", \"seq\", \"svm\", \"dummy\"], [random_forest_score_3, sequential_score_3, svm_score_3, dummy_score_1])\n",
    "print(\"wykres 1:3 -prawdziwie pozytywne/ wszystkie pozytywne z uzupełnionymi brakującymi wartościami i zbalansowanymi klasami\")\n",
    "count_rf = random_forest_cm_1[1][1]+random_forest_cm_1[0][1]\n",
    "count_seq = sequential_cm_1[1][1]+sequential_cm_1[0][1]\n",
    "count_svm = svm_cm_1[1][1]+svm_cm_1[0][1]\n",
    "count_dummy = dummy_cm_1[1][1]+dummy_cm_1[0][1]\n",
    "axs[1,0].bar([\"R_F\", \"seq\", \"svm\", \"dummy\"], [count_rf, count_seq, count_svm, count_dummy])\n",
    "print(\"wykres 2:1 -wszystkie pozytywne:\")\n",
    "print(count_rf, count_seq, count_svm, count_dummy)\n",
    "count_rf = random_forest_cm_2[1][1]+random_forest_cm_2[0][1]\n",
    "count_seq = sequential_cm_2[1][1]+sequential_cm_2[0][1]\n",
    "count_svm = svm_cm_2[1][1]+svm_cm_2[0][1]\n",
    "axs[1,1].bar([\"R_F\", \"seq\", \"svm\", \"dummy\"], [count_rf, count_seq, count_svm, count_dummy])\n",
    "print(\"wykres 2:2 -wszystkie pozytywne:\")\n",
    "print(count_rf, count_seq, count_svm, count_dummy)\n",
    "count_rf = random_forest_cm_3[1][1]+random_forest_cm_3[0][1]\n",
    "count_seq = sequential_cm_3[1][1]+sequential_cm_3[0][1]\n",
    "count_svm = svm_cm_3[1][1]+svm_cm_3[0][1]\n",
    "axs[1,2].bar([\"R_F\", \"seq\", \"svm\", \"dummy\"], [count_rf, count_seq, count_svm, count_dummy])\n",
    "print(\"wykres 2:3 -wszystkie pozytywne:\")\n",
    "print(count_rf, count_seq, count_svm, count_dummy)\n"
   ],
   "metadata": {
    "collapsed": false
   }
  },
  {
   "cell_type": "code",
   "execution_count": 217,
   "outputs": [
    {
     "name": "stdout",
     "output_type": "stream",
     "text": [
      "macierze pomyłek: \n",
      "las losowy z usunietymi brakujacymi wartościami: \n",
      "[[907   1]\n",
      " [181   9]]\n",
      "las losowy z uzupełnionymi brakującymi wartościami: \n",
      "[[1048    0]\n",
      " [ 198   11]]\n",
      "las losowy z uzupełnionymi brakującymi wartościami i zbalansowanymi klasami: \n",
      "[[1023   21]\n",
      " [ 197   16]]\n",
      "model oparty o sieć sekwencyjną z usunietymi brakujacymi wartościami: \n",
      "[[903   5]\n",
      " [188   2]]\n",
      "model oparty o sieć sekwencyjną z uzupełnionymi brakującymi wartościami: \n",
      "[[940 109]\n",
      " [138  70]]\n",
      "model oparty o sieć sekwencyjną z uzupełnionymi brakującymi wartościami i zbalansowanymi klasami: \n",
      "[[745 292]\n",
      " [109 111]]\n",
      "SVM z usunietymi brakujacymi wartościami: \n",
      "[[906   0]\n",
      " [192   0]]\n",
      "SVM z uzupełnionymi brakującymi wartościami: \n",
      "[[1016    0]\n",
      " [ 241    0]]\n",
      "SVM z uzupełnionymi brakującymi wartościami i zbalansowanymi klasami: \n",
      "[[667 362]\n",
      " [ 80 148]]\n"
     ]
    }
   ],
   "source": [
    "print(\"macierze pomyłek: \")\n",
    "print(\"las losowy z usunietymi brakujacymi wartościami: \")\n",
    "print(random_forest_cm_1)\n",
    "print(\"las losowy z uzupełnionymi brakującymi wartościami: \")\n",
    "print(random_forest_cm_2)\n",
    "print(\"las losowy z uzupełnionymi brakującymi wartościami i zbalansowanymi klasami: \")\n",
    "print(random_forest_cm_3)\n",
    "print(\"model oparty o sieć sekwencyjną z usunietymi brakujacymi wartościami: \")\n",
    "print(sequential_cm_1)\n",
    "print(\"model oparty o sieć sekwencyjną z uzupełnionymi brakującymi wartościami: \")\n",
    "print(sequential_cm_2)\n",
    "print(\"model oparty o sieć sekwencyjną z uzupełnionymi brakującymi wartościami i zbalansowanymi klasami: \")\n",
    "print(sequential_cm_3)\n",
    "print(\"SVM z usunietymi brakujacymi wartościami: \")\n",
    "print(svm_cm_1)\n",
    "print(\"SVM z uzupełnionymi brakującymi wartościami: \")\n",
    "print(svm_cm_2)\n",
    "print(\"SVM z uzupełnionymi brakującymi wartościami i zbalansowanymi klasami: \")\n",
    "print(svm_cm_3)"
   ],
   "metadata": {
    "collapsed": false
   }
  },
  {
   "cell_type": "code",
   "execution_count": 215,
   "outputs": [
    {
     "data": {
      "text/plain": "'powyższe wyniki pokazują że użycie modeli może zwiekszyć szanse na znalezienie partnera,\\nJednak skuteczny model będzie potrzebował bardzo dużej bazy potencjalnych randek aby wskazać taką,\\nktóra ma szanse na powodzenie. To sprawia, że w większości przypadków model może okazać się niemożliwy do praktycznego wdrożenia'"
     },
     "execution_count": 215,
     "metadata": {},
     "output_type": "execute_result"
    }
   ],
   "source": [
    "\"\"\"powyższe wyniki pokazują że użycie modeli może zwiekszyć szanse na znalezienie partnera,\n",
    "Jednak skuteczny model będzie potrzebował bardzo dużej bazy potencjalnych randek aby wskazać taką,\n",
    "która ma szanse na powodzenie. To sprawia, że w większości przypadków model może okazać się niemożliwy do praktycznego wdrożenia\"\"\""
   ],
   "metadata": {
    "collapsed": false
   }
  }
 ],
 "metadata": {
  "kernelspec": {
   "display_name": "Python 3",
   "language": "python",
   "name": "python3"
  },
  "language_info": {
   "codemirror_mode": {
    "name": "ipython",
    "version": 2
   },
   "file_extension": ".py",
   "mimetype": "text/x-python",
   "name": "python",
   "nbconvert_exporter": "python",
   "pygments_lexer": "ipython2",
   "version": "2.7.6"
  }
 },
 "nbformat": 4,
 "nbformat_minor": 0
}
